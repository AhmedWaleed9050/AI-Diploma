{
  "cells": [
    {
      "cell_type": "markdown",
      "metadata": {
        "id": "N8blBjfzqU6I"
      },
      "source": [
        "# Session 2 Tasks"
      ]
    },
    {
      "cell_type": "markdown",
      "metadata": {
        "id": "10XjML4cqZa4"
      },
      "source": [
        "1. Create 3 variables to store street, city and country, now create address variable to\n",
        "store entire address. Use two ways of creating this variable, one using + operator and the other using f-string.\n",
        "Now Print the address in such a way that the street, city and country prints in a separate line\n",
        "2. Create a variable to store the string \"Earth revolves around the sun\"\n",
        "    1. Print \"revolves\" using slice operator\n",
        "    2. Print \"sun\" using negative index\n",
        "3. Create two variables to store how many fruits and vegetables you eat in a day.\n",
        "Now Print \"I eat x veggies and y fruits daily\" where x and y presents vegetables and fruits that you eat everyday. Use python f string for this.\n",
        "4. I have a string variable called s='maine 200 banana khaye'. This of course is a\n",
        "wrong statement, the correct statement is 'maine 10 samosa khaye'.\n",
        "Replace incorrect words in original strong with new ones and print the new string.\n",
        "Also try to do this in one line.\n"
      ]
    },
    {
      "cell_type": "code",
      "execution_count": null,
      "metadata": {
        "colab": {
          "base_uri": "https://localhost:8080/"
        },
        "id": "T1p2lrYizRWh",
        "outputId": "6d934f8f-7298-43f3-e8ca-a3d1b8e97228"
      },
      "outputs": [
        {
          "name": "stdout",
          "output_type": "stream",
          "text": [
            "street\n",
            "city\n",
            "country\n"
          ]
        }
      ],
      "source": [
        "street = \"street\"\n",
        "city = \"city\"\n",
        "country = \"country\"\n",
        "address = street + city + country\n",
        "\n",
        "address = f\"{street} {city} {country}\"\n",
        "\n",
        "print(address[0:6])\n",
        "print(address[7:11])\n",
        "print(address[12:])"
      ]
    },
    {
      "cell_type": "code",
      "execution_count": null,
      "metadata": {
        "colab": {
          "base_uri": "https://localhost:8080/"
        },
        "id": "Ugs4vVDMzRJB",
        "outputId": "26627f1d-af14-4214-b7d0-b942c136aacf"
      },
      "outputs": [
        {
          "name": "stdout",
          "output_type": "stream",
          "text": [
            "revolves\n",
            "sun\n"
          ]
        }
      ],
      "source": [
        "my_sentence = \"Earth revolves around the sun\"\n",
        "print(my_sentence[6:14])\n",
        "print(my_sentence[-3:])"
      ]
    },
    {
      "cell_type": "code",
      "execution_count": null,
      "metadata": {
        "colab": {
          "base_uri": "https://localhost:8080/"
        },
        "id": "e20I5fImzQ17",
        "outputId": "1cde3a66-8198-4f44-c975-455490ba1011"
      },
      "outputs": [
        {
          "name": "stdout",
          "output_type": "stream",
          "text": [
            "How many fruits that you eat today ? 5\n",
            "How many vegetables that you eat today ? 8\n",
            "You ate 5 fruits and 8 vegetables today\n"
          ]
        }
      ],
      "source": [
        "fruits = input(\"How many fruits that you eat today ? \")\n",
        "vegetables = input(\"How many vegetables that you eat today ? \")\n",
        "\n",
        "print(f\"You ate {fruits} fruits and {vegetables} vegetables today\")"
      ]
    },
    {
      "cell_type": "code",
      "execution_count": null,
      "metadata": {
        "colab": {
          "base_uri": "https://localhost:8080/"
        },
        "id": "P4EUN6nuqUPf",
        "outputId": "d5cce21f-7600-4ae1-8a56-03294da98c35"
      },
      "outputs": [
        {
          "name": "stdout",
          "output_type": "stream",
          "text": [
            "maine 200 samosa khaye\n"
          ]
        }
      ],
      "source": [
        "s=\"maine 200 banana khaye\"\n",
        "print(s.replace(\"banana\" , \"samosa\"))"
      ]
    },
    {
      "cell_type": "markdown",
      "metadata": {
        "id": "B98K3rbAqz7e"
      },
      "source": [
        "1. Let us say your expense for every month are listed below.\n",
        "\t  1. January -  2200\n",
        "    2. February - 2350\n",
        "    3. March - 2600\n",
        "    4. April - 2130\n",
        "    5. May - 2190\n",
        "\n",
        "Create a list to store these monthly expenses and using that find out,\n",
        "\n",
        "    1. In Feb, how many dollars you spent extra compare to January?\n",
        "    2. Find out your total expense in first quarter (first three months) of the year.\n",
        "    3. Find out if you spent exactly 2000 dollars in any month\n",
        "    4. June month just finished and your expense is 1980 dollar. Add this item to our monthly expense list\n",
        "    5. You returned an item that you bought in a month of April and\n",
        "    got a refund of 200$. Make a correction to your monthly expense list\n",
        "    based on this\n",
        "\n",
        "2. You have a list of your favourite marvel super heros.\n",
        "```\n",
        "heros=['spider man','thor','hulk','iron man','captain america']\n",
        "```\n",
        "\n",
        "Using this find out,\n",
        "\n",
        "    1. Length of the list\n",
        "    2. Add 'black panther' at the end of this list\n",
        "    3. You realize that you need to add 'black panther' after 'hulk',\n",
        "       so remove it from the list first and then add it after 'hulk'\n",
        "    4. Now you don't like thor and hulk because they get angry easily :)\n",
        "       So you want to remove thor and hulk from list and replace them with doctor strange (because he is cool).\n",
        "       Do that with one line of code.\n",
        "    5. Sort the heros list in alphabetical order (Hint. Use dir() functions to list down all functions available in list)\n",
        "\n",
        "\n",
        "\n",
        "\n"
      ]
    },
    {
      "cell_type": "code",
      "execution_count": null,
      "metadata": {
        "colab": {
          "base_uri": "https://localhost:8080/"
        },
        "id": "41kiAOOx7eCC",
        "outputId": "baf34627-47b6-4ad8-e9fb-710ad18305f2"
      },
      "outputs": [
        {
          "name": "stdout",
          "output_type": "stream",
          "text": [
            "150\n",
            "7150\n",
            "You did not spend 2000$ in any month\n",
            "[['January', 'Feb', 'Mars', 'April', 'May', 'June'], [2200, 2350, 2600, 2130, 2190, '1980']]\n",
            "[['January', 'Feb', 'Mars', 'April', 'May', 'June'], [2200, 2350, 2600, 1930, 2190, '1980']]\n"
          ]
        }
      ],
      "source": [
        "my_list = [[\"January\",\"Feb\",\"Mars\",\"April\",\"May\"] , [2200 , 2350 , 2600 , 2130 , 2190]]\n",
        "print((my_list[1][1]) - (my_list[1][0]))\n",
        "\n",
        "# --------------------------------------------------\n",
        "\n",
        "print((my_list[1][0]) + (my_list[1][1]) + (my_list[1][2]))\n",
        "\n",
        "# -----------------------------------------------------\n",
        "\n",
        "f = 0\n",
        "i = 0\n",
        "while i < len(my_list[1]) :\n",
        "\n",
        "  if my_list[1][i] == 2000 :\n",
        "    f = f + 1\n",
        "\n",
        "  i = i + 1\n",
        "\n",
        "if f == 0 :\n",
        "  print(\"You did not spend 2000$ in any month\")\n",
        "else :\n",
        "  print(\"You did that\")\n",
        "\n",
        "# -----------------------------\n",
        "\n",
        "my_list[1].append(\"1980\")\n",
        "my_list[0].append(\"June\")\n",
        "print(my_list)\n",
        "\n",
        "# -----------------------------\n",
        "\n",
        "my_list[1][3] = my_list[1][3] - 200\n",
        "print(my_list)"
      ]
    },
    {
      "cell_type": "code",
      "execution_count": null,
      "metadata": {
        "colab": {
          "base_uri": "https://localhost:8080/"
        },
        "id": "vvus0ZOlrzJS",
        "outputId": "bdfd73b0-9b3e-4eba-b7d9-740c30fdc0ef"
      },
      "outputs": [
        {
          "name": "stdout",
          "output_type": "stream",
          "text": [
            "5\n",
            "['spider man', 'thor', 'hulk', 'iron man', 'captain america', 'Black panther']\n",
            "['spider man', 'thor', 'hulk', 'Black panther', 'iron man', 'captain america']\n",
            "['spider man', 'doctor string', 'Black panther', 'iron man', 'captain america']\n",
            "['Black panther', 'captain america', 'doctor string', 'iron man', 'spider man']\n"
          ]
        }
      ],
      "source": [
        "heros=['spider man','thor','hulk','iron man','captain america']\n",
        "\n",
        "# -----------------------------\n",
        "\n",
        "print(len(heros))\n",
        "heros.append(\"Black panther\")\n",
        "print(heros)\n",
        "\n",
        "# -----------------------------\n",
        "\n",
        "\n",
        "heros.pop()\n",
        "heros.insert(3,\"Black panther\")\n",
        "print(heros)\n",
        "\n",
        "# -----------------------------\n",
        "\n",
        "\n",
        "heros.remove(\"thor\")\n",
        "heros[1]=\"doctor string\"\n",
        "print(heros)\n",
        "\n",
        "# -----------------------------\n",
        "\n",
        "\n",
        "heros.sort()\n",
        "print(heros)"
      ]
    },
    {
      "cell_type": "markdown",
      "metadata": {
        "id": "ojrpvhohrzgJ"
      },
      "source": [
        "Write a program that prints following shape\n",
        "\n",
        "```\n",
        "    *\n",
        "   ***\n",
        "  *****\n",
        " *******\n",
        "*********\n",
        " *******\n",
        "  *****\n",
        "   ***\n",
        "    *\n",
        "```\n",
        "\n"
      ]
    },
    {
      "cell_type": "code",
      "execution_count": 1,
      "metadata": {
        "colab": {
          "base_uri": "https://localhost:8080/"
        },
        "id": "Ad-hutpdsCJ6",
        "outputId": "fb48e19a-385e-4d25-997a-23a612a55618"
      },
      "outputs": [
        {
          "name": "stdout",
          "output_type": "stream",
          "text": [
            "    *    \n",
            "   ***   \n",
            "  *****  \n",
            " ******* \n",
            "*********\n",
            " ******* \n",
            "  *****  \n",
            "   ***   \n",
            "    *    \n"
          ]
        }
      ],
      "source": [
        "max_num_of_stars = int(input(\"Enter the max number of stars : \"))\n",
        "copy_num = max_num_of_stars - 2\n",
        "space_left_and_right = 0 # 0 is intial value\n",
        "i = 1 # for multiplie * if max number of stars was odd\n",
        "n = 2 # for multiplie * if max number of stars was even\n",
        "\n",
        "if max_num_of_stars > 0 :\n",
        "\n",
        "  while True :\n",
        "\n",
        "    if max_num_of_stars > 0 :\n",
        "\n",
        "      space_left_and_right = (max_num_of_stars - 1) // 2\n",
        "      print(\" \"*space_left_and_right,end=\"\")\n",
        "\n",
        "      if max_num_of_stars % 2 != 0 :\n",
        "\n",
        "        print(\"*\"*i,end=\"\")\n",
        "        i = i + 2\n",
        "\n",
        "      else :\n",
        "\n",
        "        print(\"*\"*n,end=\"\")\n",
        "        n = n + 2\n",
        "\n",
        "      print(\" \"*space_left_and_right,end=\"\\n\")\n",
        "\n",
        "      max_num_of_stars = max_num_of_stars - 2\n",
        "\n",
        "    elif max_num_of_stars <= 0 :\n",
        "\n",
        "      if copy_num > 0 :\n",
        "\n",
        "        space_left_and_right = space_left_and_right + 1\n",
        "\n",
        "        print(\" \"*space_left_and_right,end=\"\")\n",
        "        print(\"*\"*copy_num,end=\"\")\n",
        "        print(\" \"*space_left_and_right,end=\"\\n\")\n",
        "\n",
        "        copy_num = copy_num - 2\n",
        "\n",
        "      else :\n",
        "\n",
        "        break\n",
        "\n",
        "else :\n",
        "\n",
        "  print(\"Please, enter a number bigger than 0\")\n",
        "\n",
        "del copy_num , space_left_and_right , max_num_of_stars , i , n"
      ]
    }
  ],
  "metadata": {
    "colab": {
      "provenance": []
    },
    "kernelspec": {
      "display_name": "Python 3",
      "name": "python3"
    },
    "language_info": {
      "codemirror_mode": {
        "name": "ipython",
        "version": 3
      },
      "file_extension": ".py",
      "mimetype": "text/x-python",
      "name": "python",
      "nbconvert_exporter": "python",
      "pygments_lexer": "ipython3",
      "version": "3.12.2"
    }
  },
  "nbformat": 4,
  "nbformat_minor": 0
}
