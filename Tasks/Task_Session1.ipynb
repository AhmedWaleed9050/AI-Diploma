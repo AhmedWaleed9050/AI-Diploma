{
  "cells": [
    {
      "cell_type": "markdown",
      "id": "2e6129a7",
      "metadata": {
        "id": "2e6129a7"
      },
      "source": [
        "## WAP to enter a number from user and print its absolute value.*"
      ]
    },
    {
      "cell_type": "code",
      "execution_count": null,
      "id": "1a2b81cb",
      "metadata": {
        "colab": {
          "base_uri": "https://localhost:8080/"
        },
        "id": "1a2b81cb",
        "outputId": "17e0a4f7-dc7e-4fdd-dbfe-31559abaa01d"
      },
      "outputs": [
        {
          "output_type": "stream",
          "name": "stdout",
          "text": [
            "Enter a number : -2\n",
            "2\n"
          ]
        }
      ],
      "source": [
        "number = int(input(\"Enter a number : \"))\n",
        "if number < 0 :\n",
        "  print(-number)\n",
        "else :\n",
        "  print(number)"
      ]
    },
    {
      "cell_type": "markdown",
      "id": "6e4c5e8e",
      "metadata": {
        "id": "6e4c5e8e"
      },
      "source": [
        "##  WAP to enter a year from user and check if it is leap year of not."
      ]
    },
    {
      "cell_type": "code",
      "execution_count": null,
      "id": "98f7d9fc",
      "metadata": {
        "colab": {
          "base_uri": "https://localhost:8080/"
        },
        "id": "98f7d9fc",
        "outputId": "e3461c84-a4e3-4834-bbf9-d4c9c17357e3"
      },
      "outputs": [
        {
          "output_type": "stream",
          "name": "stdout",
          "text": [
            "Enter a year2023\n",
            "This is not a leap year \n"
          ]
        }
      ],
      "source": [
        "year = int(input(\"Enter a year\"))\n",
        "if year % 4 == 0 :\n",
        "  print(\"This is a leap year\")\n",
        "else :\n",
        "  print(\"This is not a leap year \")"
      ]
    },
    {
      "cell_type": "markdown",
      "id": "30b689c8",
      "metadata": {
        "id": "30b689c8"
      },
      "source": [
        "## WAP to enter the age of 3 person and print oldest and yougest among them."
      ]
    },
    {
      "cell_type": "code",
      "execution_count": null,
      "id": "c166f026",
      "metadata": {
        "colab": {
          "base_uri": "https://localhost:8080/"
        },
        "id": "c166f026",
        "outputId": "8b153133-b4eb-4f79-9161-81f1bff39d32"
      },
      "outputs": [
        {
          "output_type": "stream",
          "name": "stdout",
          "text": [
            "Enter age of the first person : 20\n",
            "Enter age of the second person : 25\n",
            "Enter age of the third person : 30\n",
            "Te third one is oldest and the first one is the youngest\n"
          ]
        }
      ],
      "source": [
        "person1 = int(input(\"Enter age of the first person : \"))\n",
        "person2 = int(input(\"Enter age of the second person : \"))\n",
        "person3 = int(input(\"Enter age of the third person : \"))\n",
        "\n",
        "if person1 > person2 and person1 > person3 and person2 < person3 :\n",
        "  print(\"Te first one is oldest and the second one is the youngest\")\n",
        "\n",
        "elif person1 > person2 and person1 > person3 and person2 > person3 :\n",
        "  print(\"Te first one is oldest and the third one is the youngest\")\n",
        "\n",
        "elif person2 > person1 and person2 > person3 and person1 > person3 :\n",
        "  print(\"Te second one is oldest and the third one is the youngest\")\n",
        "\n",
        "elif person2 > person1 and person2 > person3 and person1 < person3 :\n",
        "  print(\"Te second one is oldest and the first one is the youngest\")\n",
        "\n",
        "elif person3 > person1 and person3 > person2 and person1 > person2 :\n",
        "  print(\"Te third one is oldest and the second one is the youngest\")\n",
        "\n",
        "elif person3 > person1 and person3 > person2 and person1 < person2 :\n",
        "  print(\"Te third one is oldest and the first one is the youngest\")"
      ]
    },
    {
      "cell_type": "markdown",
      "id": "b7a31e5f",
      "metadata": {
        "id": "b7a31e5f"
      },
      "source": [
        "## Write a program that asks the user to enter a series of numbers. The program should ask for numbers until the user enters a negative number. Once the user enters a negative number, the program should stop and print the sum of all the positive numbers entered\n",
        "\n",
        "## Example\n",
        "\n",
        "\n",
        "### Enter a number: 5\n",
        "### Enter a number: 8\n",
        "### Enter a number: 12\n",
        "### Enter a number: -2\n",
        "### The sum of the positive numbers is 25."
      ]
    },
    {
      "cell_type": "code",
      "execution_count": null,
      "id": "daf372d4",
      "metadata": {
        "colab": {
          "base_uri": "https://localhost:8080/"
        },
        "id": "daf372d4",
        "outputId": "62aaf85a-2fd4-401b-d01c-de5eb1b867b8"
      },
      "outputs": [
        {
          "output_type": "stream",
          "name": "stdout",
          "text": [
            "Enter a number : 4\n",
            "Enter a number : 7\n",
            "Enter a number : 2\n",
            "Enter a number : -8\n",
            "The sum of the positive number is : 13\n"
          ]
        }
      ],
      "source": [
        "sum = 0\n",
        "\n",
        "while True :\n",
        "\n",
        "  number = int(input(\"Enter a number : \"))\n",
        "\n",
        "  if number > 0 or number == 0:\n",
        "\n",
        "    sum = sum + number\n",
        "\n",
        "  else :\n",
        "\n",
        "    print(f\"The sum of the positive number is : {sum}\")\n",
        "    break\n",
        "\n"
      ]
    },
    {
      "cell_type": "markdown",
      "id": "7e526aaa",
      "metadata": {
        "id": "7e526aaa"
      },
      "source": [
        "## Write a program that asks the user to enter their name and age. The program should check if the user's age is greater than or equal to 18. If it is, the program should print a message saying they are eligible to vote. Otherwise, the program should print a message saying they are not eligible to vote due to being underage.\n"
      ]
    },
    {
      "cell_type": "code",
      "execution_count": null,
      "id": "96c50bdf",
      "metadata": {
        "colab": {
          "base_uri": "https://localhost:8080/"
        },
        "id": "96c50bdf",
        "outputId": "feea4d41-5135-43f4-905a-a9a476352403"
      },
      "outputs": [
        {
          "output_type": "stream",
          "name": "stdout",
          "text": [
            "Enter your name : Ahmed\n",
            "Enter your age : 10\n",
            "Ahmed is not eligible to vote because he is underage\n"
          ]
        }
      ],
      "source": [
        "name = input(\"Enter your name : \")\n",
        "age = int(input(\"Enter your age : \"))\n",
        "\n",
        "if age >= 18 :\n",
        "\n",
        "  print(f\"{name} is eligible to vote\")\n",
        "\n",
        "else :\n",
        "\n",
        "  print(f\"{name} is not eligible to vote because he is underage\")"
      ]
    }
  ],
  "metadata": {
    "kernelspec": {
      "display_name": "Python 3 (ipykernel)",
      "language": "python",
      "name": "python3"
    },
    "language_info": {
      "codemirror_mode": {
        "name": "ipython",
        "version": 3
      },
      "file_extension": ".py",
      "mimetype": "text/x-python",
      "name": "python",
      "nbconvert_exporter": "python",
      "pygments_lexer": "ipython3",
      "version": "3.9.12"
    },
    "colab": {
      "provenance": []
    }
  },
  "nbformat": 4,
  "nbformat_minor": 5
}