{
  "cells": [
    {
      "cell_type": "markdown",
      "metadata": {
        "id": "9_XY9hiD15UF"
      },
      "source": [
        "# Exercise 1"
      ]
    },
    {
      "cell_type": "markdown",
      "metadata": {
        "id": "7HcnHHDs15UG"
      },
      "source": [
        "### Step 1. Go to https://www.kaggle.com/openfoodfacts/world-food-facts/data"
      ]
    },
    {
      "cell_type": "markdown",
      "metadata": {
        "id": "9zCfX9fS15UG"
      },
      "source": [
        "### Step 2. Download the dataset to your computer and unzip it."
      ]
    },
    {
      "cell_type": "markdown",
      "metadata": {
        "id": "CMJkHjbz15UG"
      },
      "source": [
        "### Step 3. Use the tsv file and assign it to a dataframe called food"
      ]
    },
    {
      "cell_type": "code",
      "source": [
        "import pandas as pd"
      ],
      "metadata": {
        "id": "BHcRDWSh2vvg"
      },
      "execution_count": 1,
      "outputs": []
    },
    {
      "cell_type": "code",
      "execution_count": null,
      "metadata": {
        "collapsed": true,
        "id": "zO6fYSdX15UG"
      },
      "outputs": [],
      "source": [
        "food = pd.read_csv(\"en.openfoodfacts.org.products.tsv\" , delimiter=\"\\t\")"
      ]
    },
    {
      "cell_type": "markdown",
      "metadata": {
        "id": "6JKOtl_G15UH"
      },
      "source": [
        "### Step 4. See the first 5 entries"
      ]
    },
    {
      "cell_type": "code",
      "execution_count": 3,
      "metadata": {
        "collapsed": true,
        "colab": {
          "base_uri": "https://localhost:8080/"
        },
        "id": "L4DFBUv815UH",
        "outputId": "e7dfe5f4-f58e-4032-b3a0-5b1c110aa304"
      },
      "outputs": [
        {
          "output_type": "stream",
          "name": "stdout",
          "text": [
            "    code                                                url  \\\n",
            "0   3087  http://world-en.openfoodfacts.org/product/0000...   \n",
            "1   4530  http://world-en.openfoodfacts.org/product/0000...   \n",
            "2   4559  http://world-en.openfoodfacts.org/product/0000...   \n",
            "3  16087  http://world-en.openfoodfacts.org/product/0000...   \n",
            "4  16094  http://world-en.openfoodfacts.org/product/0000...   \n",
            "\n",
            "                      creator   created_t      created_datetime  \\\n",
            "0  openfoodfacts-contributors  1474103866  2016-09-17T09:17:46Z   \n",
            "1             usda-ndb-import  1489069957  2017-03-09T14:32:37Z   \n",
            "2             usda-ndb-import  1489069957  2017-03-09T14:32:37Z   \n",
            "3             usda-ndb-import  1489055731  2017-03-09T10:35:31Z   \n",
            "4             usda-ndb-import  1489055653  2017-03-09T10:34:13Z   \n",
            "\n",
            "   last_modified_t last_modified_datetime                    product_name  \\\n",
            "0       1474103893   2016-09-17T09:18:13Z              Farine de blé noir   \n",
            "1       1489069957   2017-03-09T14:32:37Z  Banana Chips Sweetened (Whole)   \n",
            "2       1489069957   2017-03-09T14:32:37Z                         Peanuts   \n",
            "3       1489055731   2017-03-09T10:35:31Z          Organic Salted Nut Mix   \n",
            "4       1489055653   2017-03-09T10:34:13Z                 Organic Polenta   \n",
            "\n",
            "  generic_name quantity  ... fruits-vegetables-nuts_100g  \\\n",
            "0          NaN      1kg  ...                         NaN   \n",
            "1          NaN      NaN  ...                         NaN   \n",
            "2          NaN      NaN  ...                         NaN   \n",
            "3          NaN      NaN  ...                         NaN   \n",
            "4          NaN      NaN  ...                         NaN   \n",
            "\n",
            "  fruits-vegetables-nuts-estimate_100g collagen-meat-protein-ratio_100g  \\\n",
            "0                                  NaN                              NaN   \n",
            "1                                  NaN                              NaN   \n",
            "2                                  NaN                              NaN   \n",
            "3                                  NaN                              NaN   \n",
            "4                                  NaN                              NaN   \n",
            "\n",
            "  cocoa_100g chlorophyl_100g carbon-footprint_100g nutrition-score-fr_100g  \\\n",
            "0        NaN             NaN                   NaN                     NaN   \n",
            "1        NaN             NaN                   NaN                    14.0   \n",
            "2        NaN             NaN                   NaN                     0.0   \n",
            "3        NaN             NaN                   NaN                    12.0   \n",
            "4        NaN             NaN                   NaN                     NaN   \n",
            "\n",
            "  nutrition-score-uk_100g glycemic-index_100g water-hardness_100g  \n",
            "0                     NaN                 NaN                 NaN  \n",
            "1                    14.0                 NaN                 NaN  \n",
            "2                     0.0                 NaN                 NaN  \n",
            "3                    12.0                 NaN                 NaN  \n",
            "4                     NaN                 NaN                 NaN  \n",
            "\n",
            "[5 rows x 163 columns]\n"
          ]
        }
      ],
      "source": [
        "print(food.head())"
      ]
    },
    {
      "cell_type": "markdown",
      "metadata": {
        "id": "DBSbNFCY15UH"
      },
      "source": [
        "### Step 5. What is the number of observations in the dataset?"
      ]
    },
    {
      "cell_type": "code",
      "execution_count": 4,
      "metadata": {
        "collapsed": true,
        "colab": {
          "base_uri": "https://localhost:8080/"
        },
        "id": "U3uxTS5W15UH",
        "outputId": "38ead691-2dfd-4b45-e1ef-eb8fdefafbf4"
      },
      "outputs": [
        {
          "output_type": "stream",
          "name": "stdout",
          "text": [
            "5634\n"
          ]
        }
      ],
      "source": [
        "x , y = food.shape\n",
        "print(x)"
      ]
    },
    {
      "cell_type": "markdown",
      "metadata": {
        "id": "MmJcDtxo15UH"
      },
      "source": [
        "### Step 6. What is the number of columns in the dataset?"
      ]
    },
    {
      "cell_type": "code",
      "execution_count": 5,
      "metadata": {
        "collapsed": true,
        "colab": {
          "base_uri": "https://localhost:8080/"
        },
        "id": "5FA9fMFd15UH",
        "outputId": "5c7e2df7-cb2f-487f-fc4b-1ea995e970d9"
      },
      "outputs": [
        {
          "output_type": "stream",
          "name": "stdout",
          "text": [
            "163\n"
          ]
        }
      ],
      "source": [
        "print(y)"
      ]
    },
    {
      "cell_type": "markdown",
      "metadata": {
        "id": "kutcquWC15UH"
      },
      "source": [
        "### Step 7. Print the name of all the columns."
      ]
    },
    {
      "cell_type": "code",
      "execution_count": 6,
      "metadata": {
        "collapsed": true,
        "colab": {
          "base_uri": "https://localhost:8080/"
        },
        "id": "qFvauEKF15UI",
        "outputId": "22d879c3-16e7-41fd-9832-1c97983cff87"
      },
      "outputs": [
        {
          "output_type": "stream",
          "name": "stdout",
          "text": [
            "code url creator created_t created_datetime last_modified_t last_modified_datetime product_name generic_name quantity packaging packaging_tags brands brands_tags categories categories_tags categories_en origins origins_tags manufacturing_places manufacturing_places_tags labels labels_tags labels_en emb_codes emb_codes_tags first_packaging_code_geo cities cities_tags purchase_places stores countries countries_tags countries_en ingredients_text allergens allergens_en traces traces_tags traces_en serving_size no_nutriments additives_n additives additives_tags additives_en ingredients_from_palm_oil_n ingredients_from_palm_oil ingredients_from_palm_oil_tags ingredients_that_may_be_from_palm_oil_n ingredients_that_may_be_from_palm_oil ingredients_that_may_be_from_palm_oil_tags nutrition_grade_uk nutrition_grade_fr pnns_groups_1 pnns_groups_2 states states_tags states_en main_category main_category_en image_url image_small_url energy_100g energy-from-fat_100g fat_100g saturated-fat_100g -butyric-acid_100g -caproic-acid_100g -caprylic-acid_100g -capric-acid_100g -lauric-acid_100g -myristic-acid_100g -palmitic-acid_100g -stearic-acid_100g -arachidic-acid_100g -behenic-acid_100g -lignoceric-acid_100g -cerotic-acid_100g -montanic-acid_100g -melissic-acid_100g monounsaturated-fat_100g polyunsaturated-fat_100g omega-3-fat_100g -alpha-linolenic-acid_100g -eicosapentaenoic-acid_100g -docosahexaenoic-acid_100g omega-6-fat_100g -linoleic-acid_100g -arachidonic-acid_100g -gamma-linolenic-acid_100g -dihomo-gamma-linolenic-acid_100g omega-9-fat_100g -oleic-acid_100g -elaidic-acid_100g -gondoic-acid_100g -mead-acid_100g -erucic-acid_100g -nervonic-acid_100g trans-fat_100g cholesterol_100g carbohydrates_100g sugars_100g -sucrose_100g -glucose_100g -fructose_100g -lactose_100g -maltose_100g -maltodextrins_100g starch_100g polyols_100g fiber_100g proteins_100g casein_100g serum-proteins_100g nucleotides_100g salt_100g sodium_100g alcohol_100g vitamin-a_100g beta-carotene_100g vitamin-d_100g vitamin-e_100g vitamin-k_100g vitamin-c_100g vitamin-b1_100g vitamin-b2_100g vitamin-pp_100g vitamin-b6_100g vitamin-b9_100g folates_100g vitamin-b12_100g biotin_100g pantothenic-acid_100g silica_100g bicarbonate_100g potassium_100g chloride_100g calcium_100g phosphorus_100g iron_100g magnesium_100g zinc_100g copper_100g manganese_100g fluoride_100g selenium_100g chromium_100g molybdenum_100g iodine_100g caffeine_100g taurine_100g ph_100g fruits-vegetables-nuts_100g fruits-vegetables-nuts-estimate_100g collagen-meat-protein-ratio_100g cocoa_100g chlorophyl_100g carbon-footprint_100g nutrition-score-fr_100g nutrition-score-uk_100g glycemic-index_100g water-hardness_100g "
          ]
        }
      ],
      "source": [
        "columns = food.columns\n",
        "\n",
        "for column in columns :\n",
        "    print(column , end = \" \")"
      ]
    },
    {
      "cell_type": "markdown",
      "metadata": {
        "id": "r7uNGpt015UI"
      },
      "source": [
        "### Step 8. What is the name of 105th column?"
      ]
    },
    {
      "cell_type": "code",
      "execution_count": 8,
      "metadata": {
        "collapsed": true,
        "colab": {
          "base_uri": "https://localhost:8080/"
        },
        "id": "0MwXtt0r15UI",
        "outputId": "e9b919d0-a94c-4398-a809-f4375fe72239"
      },
      "outputs": [
        {
          "output_type": "stream",
          "name": "stdout",
          "text": [
            "-glucose_100g\n"
          ]
        }
      ],
      "source": [
        "print(columns[104])"
      ]
    },
    {
      "cell_type": "markdown",
      "metadata": {
        "id": "7gl7SkgU15UI"
      },
      "source": [
        "### Step 9. What is the type of the observations of the 105th column?"
      ]
    },
    {
      "cell_type": "code",
      "execution_count": 16,
      "metadata": {
        "collapsed": true,
        "colab": {
          "base_uri": "https://localhost:8080/"
        },
        "id": "azBaE06H15UI",
        "outputId": "53b3130a-df70-4fbe-e228-c6320e0b3cfa"
      },
      "outputs": [
        {
          "output_type": "stream",
          "name": "stdout",
          "text": [
            "<class 'numpy.float64'>\n"
          ]
        }
      ],
      "source": [
        "print(type(food['-glucose_100g'][0]))"
      ]
    },
    {
      "cell_type": "markdown",
      "metadata": {
        "id": "55M11YgP15UI"
      },
      "source": [
        "### Step 10. How is the dataset indexed?"
      ]
    },
    {
      "cell_type": "code",
      "execution_count": 17,
      "metadata": {
        "collapsed": true,
        "colab": {
          "base_uri": "https://localhost:8080/"
        },
        "id": "BigBKaLW15UI",
        "outputId": "72ec0c3f-ed1a-44a6-a743-136d0e4288d2"
      },
      "outputs": [
        {
          "output_type": "stream",
          "name": "stdout",
          "text": [
            "RangeIndex(start=0, stop=5634, step=1)\n"
          ]
        }
      ],
      "source": [
        "current_index = food.index\n",
        "print(current_index)"
      ]
    },
    {
      "cell_type": "markdown",
      "metadata": {
        "id": "vtzbg2qc15UI"
      },
      "source": [
        "### Step 11. What is the product name of the 19th observation?"
      ]
    },
    {
      "cell_type": "code",
      "execution_count": 21,
      "metadata": {
        "collapsed": true,
        "colab": {
          "base_uri": "https://localhost:8080/"
        },
        "id": "A_FyLxfe15UI",
        "outputId": "d435259f-ccde-428f-84db-ba0378975dae"
      },
      "outputs": [
        {
          "output_type": "stream",
          "name": "stdout",
          "text": [
            "Lotus Organic Brown Jasmine Rice\n"
          ]
        }
      ],
      "source": [
        "print(food.loc[18 , \"product_name\"])"
      ]
    }
  ],
  "metadata": {
    "anaconda-cloud": {},
    "kernelspec": {
      "display_name": "Python [default]",
      "language": "python",
      "name": "python2"
    },
    "language_info": {
      "codemirror_mode": {
        "name": "ipython",
        "version": 2
      },
      "file_extension": ".py",
      "mimetype": "text/x-python",
      "name": "python",
      "nbconvert_exporter": "python",
      "pygments_lexer": "ipython2",
      "version": "2.7.12"
    },
    "colab": {
      "provenance": []
    }
  },
  "nbformat": 4,
  "nbformat_minor": 0
}