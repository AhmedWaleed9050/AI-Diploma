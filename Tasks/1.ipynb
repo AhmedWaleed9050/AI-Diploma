{
  "cells": [
    {
      "cell_type": "markdown",
      "metadata": {
        "id": "fKhWFsY2xEzJ"
      },
      "source": [
        "# Ex2 - Getting and Knowing your Data"
      ]
    },
    {
      "cell_type": "markdown",
      "metadata": {
        "id": "TxoD--B3xEzK"
      },
      "source": [
        "This time we are going to pull data directly from the internet.\n",
        "Special thanks to: https://github.com/justmarkham for sharing the dataset and materials.\n",
        "\n",
        "### Step 1. Import the necessary libraries"
      ]
    },
    {
      "cell_type": "code",
      "execution_count": 1,
      "metadata": {
        "id": "ouqoe7D7xEzL"
      },
      "outputs": [],
      "source": [
        "import pandas as pd"
      ]
    },
    {
      "cell_type": "markdown",
      "metadata": {
        "id": "lhpt5kaFxEzL"
      },
      "source": [
        "### Step 2. Import the dataset from this [address](https://raw.githubusercontent.com/justmarkham/DAT8/master/data/chipotle.tsv)."
      ]
    },
    {
      "cell_type": "markdown",
      "metadata": {
        "id": "E6r95szvxEzL"
      },
      "source": [
        "### Step 3. Assign it to a variable called chipo."
      ]
    },
    {
      "cell_type": "code",
      "execution_count": 3,
      "metadata": {
        "id": "oThiSuXhxEzL"
      },
      "outputs": [],
      "source": [
        "chipo = pd.read_csv(\"chipotle.tsv\" , delimiter='\\t')"
      ]
    },
    {
      "cell_type": "markdown",
      "metadata": {
        "id": "92brtL4GxEzL"
      },
      "source": [
        "### Step 4. See the first 10 entries"
      ]
    },
    {
      "cell_type": "code",
      "execution_count": 4,
      "metadata": {
        "scrolled": false,
        "id": "GWY7uYFkxEzL",
        "colab": {
          "base_uri": "https://localhost:8080/"
        },
        "outputId": "dc6aef38-52e8-454e-eace-e0ee76c57fb7"
      },
      "outputs": [
        {
          "output_type": "stream",
          "name": "stdout",
          "text": [
            "   order_id  quantity                              item_name  \\\n",
            "0         1         1           Chips and Fresh Tomato Salsa   \n",
            "1         1         1                                   Izze   \n",
            "2         1         1                       Nantucket Nectar   \n",
            "3         1         1  Chips and Tomatillo-Green Chili Salsa   \n",
            "4         2         2                           Chicken Bowl   \n",
            "5         3         1                           Chicken Bowl   \n",
            "6         3         1                          Side of Chips   \n",
            "7         4         1                          Steak Burrito   \n",
            "8         4         1                       Steak Soft Tacos   \n",
            "9         5         1                          Steak Burrito   \n",
            "\n",
            "                                  choice_description item_price  \n",
            "0                                                NaN     $2.39   \n",
            "1                                       [Clementine]     $3.39   \n",
            "2                                            [Apple]     $3.39   \n",
            "3                                                NaN     $2.39   \n",
            "4  [Tomatillo-Red Chili Salsa (Hot), [Black Beans...    $16.98   \n",
            "5  [Fresh Tomato Salsa (Mild), [Rice, Cheese, Sou...    $10.98   \n",
            "6                                                NaN     $1.69   \n",
            "7  [Tomatillo Red Chili Salsa, [Fajita Vegetables...    $11.75   \n",
            "8  [Tomatillo Green Chili Salsa, [Pinto Beans, Ch...     $9.25   \n",
            "9  [Fresh Tomato Salsa, [Rice, Black Beans, Pinto...     $9.25   \n"
          ]
        }
      ],
      "source": [
        "print(chipo.head(10))"
      ]
    },
    {
      "cell_type": "markdown",
      "metadata": {
        "id": "Q5yP6KZexEzL"
      },
      "source": [
        "### Step 5. What is the number of observations in the dataset?"
      ]
    },
    {
      "cell_type": "code",
      "execution_count": 5,
      "metadata": {
        "id": "h7y249GoxEzM",
        "colab": {
          "base_uri": "https://localhost:8080/"
        },
        "outputId": "223329f9-b216-43fe-c7c9-af78862542da"
      },
      "outputs": [
        {
          "output_type": "stream",
          "name": "stdout",
          "text": [
            "Number of observations: 4622\n",
            "(4622, 5)\n"
          ]
        }
      ],
      "source": [
        "num_rows, num_columns = chipo.shape\n",
        "print(\"Number of observations:\", num_rows)\n",
        "print(chipo.shape)"
      ]
    },
    {
      "cell_type": "markdown",
      "metadata": {
        "id": "hkJsqOTAxEzM"
      },
      "source": [
        "### Step 6. What is the number of columns in the dataset?"
      ]
    },
    {
      "cell_type": "code",
      "execution_count": 6,
      "metadata": {
        "id": "vlwp_shqxEzM",
        "colab": {
          "base_uri": "https://localhost:8080/"
        },
        "outputId": "a684405c-4c40-434b-914b-227916e34b09"
      },
      "outputs": [
        {
          "output_type": "stream",
          "name": "stdout",
          "text": [
            "5\n"
          ]
        }
      ],
      "source": [
        "print(num_columns)"
      ]
    },
    {
      "cell_type": "markdown",
      "metadata": {
        "id": "oksFGoDnxEzM"
      },
      "source": [
        "### Step 7. Print the name of all the columns."
      ]
    },
    {
      "cell_type": "code",
      "execution_count": 7,
      "metadata": {
        "id": "hbUhzs1TxEzM",
        "colab": {
          "base_uri": "https://localhost:8080/"
        },
        "outputId": "10620062-e4b1-4949-c23f-4cec2a17b4f4"
      },
      "outputs": [
        {
          "output_type": "stream",
          "name": "stdout",
          "text": [
            "order_id\n",
            "quantity\n",
            "item_name\n",
            "choice_description\n",
            "item_price\n"
          ]
        }
      ],
      "source": [
        "column_names = chipo.columns\n",
        "\n",
        "for column in column_names:\n",
        "    print(column)"
      ]
    },
    {
      "cell_type": "markdown",
      "metadata": {
        "id": "r-gtv-1-xEzM"
      },
      "source": [
        "### Step 8. How is the dataset indexed?"
      ]
    },
    {
      "cell_type": "code",
      "execution_count": 8,
      "metadata": {
        "id": "fmchEtLnxEzN",
        "colab": {
          "base_uri": "https://localhost:8080/"
        },
        "outputId": "47915a5a-c0b3-4653-f50e-752bd870141b"
      },
      "outputs": [
        {
          "output_type": "stream",
          "name": "stdout",
          "text": [
            "RangeIndex(start=0, stop=4622, step=1)\n"
          ]
        }
      ],
      "source": [
        "current_index = chipo.index\n",
        "\n",
        "print(current_index)"
      ]
    },
    {
      "cell_type": "markdown",
      "metadata": {
        "id": "H6TnuxtmxEzN"
      },
      "source": [
        "### Step 9. Which was the most-ordered item?"
      ]
    },
    {
      "cell_type": "code",
      "execution_count": 9,
      "metadata": {
        "id": "S8P61jxqxEzN",
        "colab": {
          "base_uri": "https://localhost:8080/"
        },
        "outputId": "a284ac06-57c3-4d3e-c915-25ca1eedb77f"
      },
      "outputs": [
        {
          "output_type": "stream",
          "name": "stdout",
          "text": [
            "Chicken Bowl\n"
          ]
        }
      ],
      "source": [
        "print(chipo[\"item_name\"].value_counts().idxmax())"
      ]
    },
    {
      "cell_type": "markdown",
      "metadata": {
        "id": "J1kAjr6SxEzN"
      },
      "source": [
        "### Step 10. For the most-ordered item, how many items were ordered?"
      ]
    },
    {
      "cell_type": "code",
      "execution_count": 10,
      "metadata": {
        "id": "_H9PfyEpxEzN",
        "colab": {
          "base_uri": "https://localhost:8080/"
        },
        "outputId": "85ca31de-f6c2-425f-9363-eeac4f7cb2a4"
      },
      "outputs": [
        {
          "output_type": "stream",
          "name": "stdout",
          "text": [
            "134\n"
          ]
        }
      ],
      "source": [
        "choice_counts = chipo['choice_description'].value_counts()\n",
        "\n",
        "print(choice_counts.max())"
      ]
    },
    {
      "cell_type": "markdown",
      "metadata": {
        "id": "7Vk8sf1VxEzN"
      },
      "source": [
        "### Step 11. What was the most ordered item in the choice_description column?"
      ]
    },
    {
      "cell_type": "code",
      "execution_count": 11,
      "metadata": {
        "id": "97RhtrojxEzN",
        "colab": {
          "base_uri": "https://localhost:8080/"
        },
        "outputId": "58d47bd2-13e3-4411-c3cf-b90f324d908b"
      },
      "outputs": [
        {
          "output_type": "stream",
          "name": "stdout",
          "text": [
            "[Diet Coke]\n"
          ]
        }
      ],
      "source": [
        "choice_counts =chipo['choice_description'].value_counts()\n",
        "\n",
        "print(choice_counts.idxmax())"
      ]
    },
    {
      "cell_type": "markdown",
      "metadata": {
        "id": "MyWGNyebxEzN"
      },
      "source": [
        "### Step 12. How many items were orderd in total?"
      ]
    },
    {
      "cell_type": "code",
      "execution_count": 12,
      "metadata": {
        "id": "JNG4Pz25xEzN",
        "colab": {
          "base_uri": "https://localhost:8080/"
        },
        "outputId": "fac0b60e-6e4b-4feb-def1-ead9a1a273db"
      },
      "outputs": [
        {
          "output_type": "stream",
          "name": "stdout",
          "text": [
            "4622\n"
          ]
        }
      ],
      "source": [
        "print(chipo[\"order_id\"].count())"
      ]
    },
    {
      "cell_type": "markdown",
      "metadata": {
        "id": "o86i32awxEzN"
      },
      "source": [
        "### Step 13. Turn the item price into a float"
      ]
    },
    {
      "cell_type": "code",
      "source": [
        "chipo['item_price'] = chipo['item_price'].str.replace('$', '').astype(float)"
      ],
      "metadata": {
        "id": "aqLRx6mIQhsN"
      },
      "execution_count": 13,
      "outputs": []
    },
    {
      "cell_type": "markdown",
      "metadata": {
        "id": "Txx04H5mxEzN"
      },
      "source": [
        "#### Step 13.a. Check the item price type"
      ]
    },
    {
      "cell_type": "code",
      "execution_count": 14,
      "metadata": {
        "id": "AO_iRTFuxEzN",
        "colab": {
          "base_uri": "https://localhost:8080/"
        },
        "outputId": "fd33d0da-6e33-4a9e-bd09-2aa7dd7ad77c"
      },
      "outputs": [
        {
          "output_type": "stream",
          "name": "stdout",
          "text": [
            "float64\n"
          ]
        }
      ],
      "source": [
        "print(chipo[\"item_price\"].dtype)"
      ]
    },
    {
      "cell_type": "markdown",
      "metadata": {
        "id": "1Uy9RZs2xEzO"
      },
      "source": [
        "#### Step 13.b. Create a lambda function and change the type of item price"
      ]
    },
    {
      "cell_type": "code",
      "execution_count": 15,
      "metadata": {
        "collapsed": true,
        "id": "ULbhKW2yxEzO"
      },
      "outputs": [],
      "source": [
        "convert_to_float = lambda x: int(x)\n",
        "\n",
        "chipo['item_price'] = chipo['item_price'].apply(convert_to_float)"
      ]
    },
    {
      "cell_type": "markdown",
      "metadata": {
        "id": "eOny0570xEzO"
      },
      "source": [
        "#### Step 13.c. Check the item price type"
      ]
    },
    {
      "cell_type": "code",
      "execution_count": 16,
      "metadata": {
        "id": "4cEZMEvpxEzO",
        "colab": {
          "base_uri": "https://localhost:8080/"
        },
        "outputId": "89e3152c-1af1-4561-a3f9-03b0ce85d0cf"
      },
      "outputs": [
        {
          "output_type": "stream",
          "name": "stdout",
          "text": [
            "int64\n"
          ]
        }
      ],
      "source": [
        "print(chipo[\"item_price\"].dtype)"
      ]
    },
    {
      "cell_type": "markdown",
      "metadata": {
        "id": "BspDJ84dxEzO"
      },
      "source": [
        "### Step 14. How much was the revenue for the period in the dataset?"
      ]
    },
    {
      "cell_type": "code",
      "execution_count": 17,
      "metadata": {
        "id": "nsbPJ6osxEzO",
        "colab": {
          "base_uri": "https://localhost:8080/"
        },
        "outputId": "69a627a0-5e55-4025-f928-1797949990a4"
      },
      "outputs": [
        {
          "output_type": "stream",
          "name": "stdout",
          "text": [
            "Total revenue for the period: 36616.0\n"
          ]
        }
      ],
      "source": [
        "chipo['item_price'] = chipo['item_price'].astype(float)\n",
        "\n",
        "revenue = (chipo['item_price'] * chipo['quantity']).sum()\n",
        "\n",
        "print(\"Total revenue for the period:\", revenue)"
      ]
    },
    {
      "cell_type": "markdown",
      "metadata": {
        "id": "c3hw9UnlxEzO"
      },
      "source": [
        "### Step 15. How many orders were made in the period?"
      ]
    },
    {
      "cell_type": "code",
      "execution_count": 18,
      "metadata": {
        "id": "ivM_6GgsxEzO",
        "colab": {
          "base_uri": "https://localhost:8080/"
        },
        "outputId": "3ac6a199-986f-4d48-eaba-3202e19f13b8"
      },
      "outputs": [
        {
          "output_type": "stream",
          "name": "stdout",
          "text": [
            "Total number of orders made in the period: 1834\n"
          ]
        }
      ],
      "source": [
        "num_orders = chipo['order_id'].nunique()\n",
        "\n",
        "print(\"Total number of orders made in the period:\", num_orders)"
      ]
    },
    {
      "cell_type": "markdown",
      "metadata": {
        "id": "AMhzz7vDxEzO"
      },
      "source": [
        "### Step 16. What is the average revenue amount per order?"
      ]
    },
    {
      "cell_type": "code",
      "execution_count": 19,
      "metadata": {
        "id": "JwZgZHa1xEzO",
        "colab": {
          "base_uri": "https://localhost:8080/"
        },
        "outputId": "eec5081a-337a-4c0c-a3f0-fc9b3c1cf785"
      },
      "outputs": [
        {
          "output_type": "stream",
          "name": "stdout",
          "text": [
            "Average revenue amount per order: 19.965103598691385\n"
          ]
        }
      ],
      "source": [
        "average_revenue_per_order = revenue / num_orders\n",
        "\n",
        "print(\"Average revenue amount per order:\", average_revenue_per_order)"
      ]
    },
    {
      "cell_type": "markdown",
      "metadata": {
        "id": "dXh5GtX5xEzY"
      },
      "source": [
        "### Step 17. How many different items are sold?"
      ]
    },
    {
      "cell_type": "code",
      "execution_count": 20,
      "metadata": {
        "id": "Q7nPnNz8xEzY",
        "colab": {
          "base_uri": "https://localhost:8080/"
        },
        "outputId": "e30a762b-44de-4509-b501-94a3fba3485e"
      },
      "outputs": [
        {
          "output_type": "stream",
          "name": "stdout",
          "text": [
            "Number of different items sold: 50\n"
          ]
        }
      ],
      "source": [
        "num_unique_items_sold = chipo['item_name'].nunique()\n",
        "\n",
        "print(\"Number of different items sold:\", num_unique_items_sold)"
      ]
    }
  ],
  "metadata": {
    "anaconda-cloud": {},
    "kernelspec": {
      "display_name": "Python [default]",
      "language": "python",
      "name": "python2"
    },
    "language_info": {
      "codemirror_mode": {
        "name": "ipython",
        "version": 2
      },
      "file_extension": ".py",
      "mimetype": "text/x-python",
      "name": "python",
      "nbconvert_exporter": "python",
      "pygments_lexer": "ipython2",
      "version": "2.7.12"
    },
    "colab": {
      "provenance": []
    }
  },
  "nbformat": 4,
  "nbformat_minor": 0
}