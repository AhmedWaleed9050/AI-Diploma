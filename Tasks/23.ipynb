{
  "cells": [
    {
      "cell_type": "markdown",
      "metadata": {
        "id": "_281spXhArFr"
      },
      "source": [
        "# Apple Stock"
      ]
    },
    {
      "cell_type": "markdown",
      "metadata": {
        "id": "fhMYcHuUArFt"
      },
      "source": [
        "### Introduction:\n",
        "\n",
        "We are going to use Apple's stock price.\n",
        "\n",
        "\n",
        "### Step 1. Import the necessary libraries"
      ]
    },
    {
      "cell_type": "code",
      "execution_count": 1,
      "metadata": {
        "id": "CLTbIF8GArFt"
      },
      "outputs": [],
      "source": [
        "import pandas as pd"
      ]
    },
    {
      "cell_type": "markdown",
      "metadata": {
        "id": "R8-e5AAiArFu"
      },
      "source": [
        "### Step 2. Import the dataset from this [address](https://raw.githubusercontent.com/guipsamora/pandas_exercises/master/09_Time_Series/Apple_Stock/appl_1980_2014.csv)"
      ]
    },
    {
      "cell_type": "code",
      "execution_count": null,
      "metadata": {
        "collapsed": true,
        "id": "o3U6sgDFArFu"
      },
      "outputs": [],
      "source": []
    },
    {
      "cell_type": "markdown",
      "metadata": {
        "id": "rZTV7ELMArFu"
      },
      "source": [
        "### Step 3. Assign it to a variable apple"
      ]
    },
    {
      "cell_type": "code",
      "execution_count": 2,
      "metadata": {
        "id": "9Qcb-MtQArFu"
      },
      "outputs": [],
      "source": [
        "apple = pd.read_csv('appl_1980_2014.csv')"
      ]
    },
    {
      "cell_type": "markdown",
      "metadata": {
        "id": "xjmuelkMArFu"
      },
      "source": [
        "### Step 4.  Check out the type of the columns"
      ]
    },
    {
      "cell_type": "code",
      "execution_count": 3,
      "metadata": {
        "colab": {
          "base_uri": "https://localhost:8080/"
        },
        "id": "WKtDrSivArFv",
        "outputId": "3659a317-0025-47e6-c404-1fad2580c5af"
      },
      "outputs": [
        {
          "output_type": "stream",
          "name": "stdout",
          "text": [
            "\n",
            "Column types:\n",
            " Date          object\n",
            "Open         float64\n",
            "High         float64\n",
            "Low          float64\n",
            "Close        float64\n",
            "Volume         int64\n",
            "Adj Close    float64\n",
            "dtype: object\n"
          ]
        }
      ],
      "source": [
        "print(\"\\nColumn types:\\n\", apple.dtypes)"
      ]
    },
    {
      "cell_type": "markdown",
      "metadata": {
        "id": "LiUJRMrIArFv"
      },
      "source": [
        "### Step 5. Transform the Date column as a datetime type"
      ]
    },
    {
      "cell_type": "code",
      "execution_count": 4,
      "metadata": {
        "id": "81FBOgG9ArFv"
      },
      "outputs": [],
      "source": [
        "apple['Date'] = pd.to_datetime(apple['Date'])"
      ]
    },
    {
      "cell_type": "markdown",
      "metadata": {
        "id": "76rBXbNMArFv"
      },
      "source": [
        "### Step 6.  Set the date as the index"
      ]
    },
    {
      "cell_type": "code",
      "execution_count": 5,
      "metadata": {
        "id": "qg0iAoU4ArFv"
      },
      "outputs": [],
      "source": [
        "apple.set_index('Date', inplace=True)"
      ]
    },
    {
      "cell_type": "markdown",
      "metadata": {
        "id": "gYf3v1WGArFv"
      },
      "source": [
        "### Step 7.  Is there any duplicate dates?"
      ]
    },
    {
      "cell_type": "code",
      "execution_count": 6,
      "metadata": {
        "colab": {
          "base_uri": "https://localhost:8080/"
        },
        "id": "-vzXCrOEArFv",
        "outputId": "7016d724-f91d-47f2-bc6f-5e88dc2a6a7c"
      },
      "outputs": [
        {
          "output_type": "stream",
          "name": "stdout",
          "text": [
            "No duplicate dates found.\n"
          ]
        }
      ],
      "source": [
        "duplicates = apple.index.duplicated()\n",
        "\n",
        "if duplicates.any():\n",
        "    print(\"Duplicate dates found:\")\n",
        "    print(apple[duplicates])\n",
        "else:\n",
        "    print(\"No duplicate dates found.\")"
      ]
    },
    {
      "cell_type": "markdown",
      "metadata": {
        "id": "J7_6YhqTArFv"
      },
      "source": [
        "### Step 8.  Ops...it seems the index is from the most recent date. Make the first entry the oldest date."
      ]
    },
    {
      "cell_type": "code",
      "execution_count": 7,
      "metadata": {
        "id": "WUI95koLArFw"
      },
      "outputs": [],
      "source": [
        "apple.sort_index(inplace=True)"
      ]
    },
    {
      "cell_type": "markdown",
      "metadata": {
        "id": "_dHnhBlxArFw"
      },
      "source": [
        "### Step 9. Get the last business day of each month"
      ]
    },
    {
      "cell_type": "code",
      "execution_count": 8,
      "metadata": {
        "colab": {
          "base_uri": "https://localhost:8080/"
        },
        "id": "UNpQkn6tArFw",
        "outputId": "8515c252-d2ab-4d66-d947-c4ca807b953c"
      },
      "outputs": [
        {
          "output_type": "stream",
          "name": "stdout",
          "text": [
            "    Last Business Day\n",
            "0          1980-12-31\n",
            "1          1981-01-30\n",
            "2          1981-02-27\n",
            "3          1981-03-31\n",
            "4          1981-04-30\n",
            "..                ...\n",
            "398        2014-02-28\n",
            "399        2014-03-31\n",
            "400        2014-04-30\n",
            "401        2014-05-30\n",
            "402        2014-06-30\n",
            "\n",
            "[403 rows x 1 columns]\n"
          ]
        }
      ],
      "source": [
        "month_end_dates = pd.date_range(start=apple.index.min(), end=apple.index.max(), freq='BM')\n",
        "\n",
        "last_business_days = []\n",
        "for end_date in month_end_dates:\n",
        "    last_business_day = pd.date_range(end=end_date, periods=1, freq='B').max()\n",
        "    last_business_days.append(last_business_day)\n",
        "\n",
        "last_business_days_df = pd.DataFrame(last_business_days, columns=['Last Business Day'])\n",
        "\n",
        "print(last_business_days_df)"
      ]
    },
    {
      "cell_type": "markdown",
      "metadata": {
        "id": "BDg0g5pjArFw"
      },
      "source": [
        "### Step 10.  What is the difference in days between the first day and the oldest"
      ]
    },
    {
      "cell_type": "code",
      "execution_count": 10,
      "metadata": {
        "colab": {
          "base_uri": "https://localhost:8080/"
        },
        "id": "5FngTbSGArFw",
        "outputId": "075c9d67-f385-421c-fd72-d50e842a745e"
      },
      "outputs": [
        {
          "output_type": "stream",
          "name": "stdout",
          "text": [
            "Difference in days between the first day and the oldest date: 12261\n"
          ]
        }
      ],
      "source": [
        "first_day = apple.index.min()\n",
        "oldest_date = apple.index.max()\n",
        "\n",
        "difference_in_days = (oldest_date - first_day).days\n",
        "\n",
        "print(\"Difference in days between the first day and the oldest date:\", difference_in_days)"
      ]
    },
    {
      "cell_type": "markdown",
      "metadata": {
        "id": "0B8YNI2kArFw"
      },
      "source": [
        "### Step 11.  How many months in the data we have?"
      ]
    },
    {
      "cell_type": "code",
      "execution_count": 11,
      "metadata": {
        "colab": {
          "base_uri": "https://localhost:8080/"
        },
        "id": "BX6gkNaQArFw",
        "outputId": "d11031f5-4963-4616-80ac-31234267f4bb"
      },
      "outputs": [
        {
          "output_type": "stream",
          "name": "stdout",
          "text": [
            "Number of months in the data: 404\n"
          ]
        }
      ],
      "source": [
        "months_years = apple.index.to_period('M')\n",
        "\n",
        "unique_months_years = months_years.unique()\n",
        "\n",
        "num_months = len(unique_months_years)\n",
        "\n",
        "print(\"Number of months in the data:\", num_months)"
      ]
    },
    {
      "cell_type": "markdown",
      "metadata": {
        "id": "kjjxu7HWArFw"
      },
      "source": [
        "### Step 12. Plot the 'Adj Close' value. Set the size of the figure to 13.5 x 9 inches"
      ]
    },
    {
      "cell_type": "code",
      "execution_count": 13,
      "metadata": {
        "colab": {
          "base_uri": "https://localhost:8080/",
          "height": 757
        },
        "id": "yigYe5kVArFw",
        "outputId": "d32e9b65-913d-46e5-eacf-99aa03dc337f"
      },
      "outputs": [
        {
          "output_type": "display_data",
          "data": {
            "text/plain": [
              "<Figure size 1350x900 with 1 Axes>"
            ],
            "image/png": "[encoded data removed]"
          },
          "metadata": {}
        }
      ],
      "source": [
        "import matplotlib.pyplot as plt\n",
        "\n",
        "plt.figure(figsize=(13.5, 9))\n",
        "\n",
        "plt.plot(apple.index, apple['Adj Close'], color='blue', linestyle='-')\n",
        "\n",
        "plt.xlabel('Date')\n",
        "plt.ylabel('Adj Close')\n",
        "plt.title('Apple Stock Adjusted Close Price')\n",
        "\n",
        "plt.xticks(rotation=45)\n",
        "\n",
        "plt.grid(True)\n",
        "plt.tight_layout()\n",
        "plt.show()"
      ]
    },
    {
      "cell_type": "markdown",
      "metadata": {
        "id": "3tWURhTJArFw"
      },
      "source": [
        "### BONUS: Create your own question and answer it."
      ]
    },
    {
      "cell_type": "code",
      "execution_count": null,
      "metadata": {
        "collapsed": true,
        "id": "MbeOCU54ArFx"
      },
      "outputs": [],
      "source": []
    }
  ],
  "metadata": {
    "anaconda-cloud": {},
    "kernelspec": {
      "display_name": "Python [default]",
      "language": "python",
      "name": "python2"
    },
    "language_info": {
      "codemirror_mode": {
        "name": "ipython",
        "version": 2
      },
      "file_extension": ".py",
      "mimetype": "text/x-python",
      "name": "python",
      "nbconvert_exporter": "python",
      "pygments_lexer": "ipython2",
      "version": "2.7.12"
    },
    "colab": {
      "provenance": []
    }
  },
  "nbformat": 4,
  "nbformat_minor": 0
}