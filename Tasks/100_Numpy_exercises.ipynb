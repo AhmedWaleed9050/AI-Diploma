{
  "cells": [
    {
      "cell_type": "markdown",
      "id": "ad1d1330",
      "metadata": {
        "id": "ad1d1330"
      },
      "source": [
        "# The goal of this collection is to offer a quick reference"
      ]
    },
    {
      "cell_type": "markdown",
      "id": "8574d627",
      "metadata": {
        "id": "8574d627"
      },
      "source": [
        "Run the `initialize.py` module, then for each question you can query the\n",
        "answer or an hint with `hint(n)` or `answer(n)` for `n` question number."
      ]
    },
    {
      "cell_type": "code",
      "execution_count": null,
      "id": "c6fe8a29",
      "metadata": {
        "id": "c6fe8a29"
      },
      "outputs": [],
      "source": [
        "%run initialise.py"
      ]
    },
    {
      "cell_type": "markdown",
      "id": "954c5d8f",
      "metadata": {
        "id": "954c5d8f"
      },
      "source": [
        "#### 1. Import the numpy package under the name `np` (★☆☆)"
      ]
    },
    {
      "cell_type": "code",
      "execution_count": 1,
      "id": "4006c08e",
      "metadata": {
        "id": "4006c08e"
      },
      "outputs": [],
      "source": [
        "import numpy as np"
      ]
    },
    {
      "cell_type": "markdown",
      "id": "88e34f09",
      "metadata": {
        "id": "88e34f09"
      },
      "source": [
        "#### 2. Print the numpy version and the configuration (★☆☆)"
      ]
    },
    {
      "cell_type": "code",
      "execution_count": null,
      "id": "b1122a25",
      "metadata": {
        "id": "b1122a25",
        "colab": {
          "base_uri": "https://localhost:8080/"
        },
        "outputId": "889f938b-aefc-4f66-d3df-491e43c19d50"
      },
      "outputs": [
        {
          "output_type": "stream",
          "name": "stdout",
          "text": [
            "1.25.2\n"
          ]
        }
      ],
      "source": [
        "print(np.__version__)"
      ]
    },
    {
      "cell_type": "markdown",
      "id": "37c21848",
      "metadata": {
        "id": "37c21848"
      },
      "source": [
        "#### 3. Create a null vector of size 10 (★☆☆)"
      ]
    },
    {
      "cell_type": "code",
      "execution_count": null,
      "id": "e090a462",
      "metadata": {
        "id": "e090a462",
        "colab": {
          "base_uri": "https://localhost:8080/"
        },
        "outputId": "a8257dbc-bd14-4609-f737-bbf521dfa7b3"
      },
      "outputs": [
        {
          "output_type": "stream",
          "name": "stdout",
          "text": [
            "[0. 0. 0. 0. 0. 0. 0. 0. 0. 0.]\n"
          ]
        }
      ],
      "source": [
        "null_arr = np.zeros(10)\n",
        "print(null_arr)"
      ]
    },
    {
      "cell_type": "markdown",
      "id": "7c0e6add",
      "metadata": {
        "id": "7c0e6add"
      },
      "source": [
        "#### 4. How to find the memory size of any array (★☆☆)"
      ]
    },
    {
      "cell_type": "code",
      "execution_count": null,
      "id": "8c96715d",
      "metadata": {
        "id": "8c96715d",
        "colab": {
          "base_uri": "https://localhost:8080/"
        },
        "outputId": "452aa827-6c48-4f10-f0e0-2cfd638afb25"
      },
      "outputs": [
        {
          "output_type": "stream",
          "name": "stdout",
          "text": [
            "80\n"
          ]
        }
      ],
      "source": [
        "print(null_arr.nbytes)"
      ]
    },
    {
      "cell_type": "markdown",
      "id": "4cf547db",
      "metadata": {
        "id": "4cf547db"
      },
      "source": [
        "#### 5. How to get the documentation of the numpy add function from the command line? (★☆☆)"
      ]
    },
    {
      "cell_type": "code",
      "execution_count": null,
      "id": "2a24a1e9",
      "metadata": {
        "id": "2a24a1e9",
        "colab": {
          "base_uri": "https://localhost:8080/"
        },
        "outputId": "3d8819be-03e7-4355-f58b-e472ded50209"
      },
      "outputs": [
        {
          "output_type": "stream",
          "name": "stdout",
          "text": [
            "Help on ufunc:\n",
            "\n",
            "add = <ufunc 'add'>\n",
            "    add(x1, x2, /, out=None, *, where=True, casting='same_kind', order='K', dtype=None, subok=True[, signature, extobj])\n",
            "    \n",
            "    Add arguments element-wise.\n",
            "    \n",
            "    Parameters\n",
            "    ----------\n",
            "    x1, x2 : array_like\n",
            "        The arrays to be added.\n",
            "        If ``x1.shape != x2.shape``, they must be broadcastable to a common\n",
            "        shape (which becomes the shape of the output).\n",
            "    out : ndarray, None, or tuple of ndarray and None, optional\n",
            "        A location into which the result is stored. If provided, it must have\n",
            "        a shape that the inputs broadcast to. If not provided or None,\n",
            "        a freshly-allocated array is returned. A tuple (possible only as a\n",
            "        keyword argument) must have length equal to the number of outputs.\n",
            "    where : array_like, optional\n",
            "        This condition is broadcast over the input. At locations where the\n",
            "        condition is True, the `out` array will be set to the ufunc result.\n",
            "        Elsewhere, the `out` array will retain its original value.\n",
            "        Note that if an uninitialized `out` array is created via the default\n",
            "        ``out=None``, locations within it where the condition is False will\n",
            "        remain uninitialized.\n",
            "    **kwargs\n",
            "        For other keyword-only arguments, see the\n",
            "        :ref:`ufunc docs <ufuncs.kwargs>`.\n",
            "    \n",
            "    Returns\n",
            "    -------\n",
            "    add : ndarray or scalar\n",
            "        The sum of `x1` and `x2`, element-wise.\n",
            "        This is a scalar if both `x1` and `x2` are scalars.\n",
            "    \n",
            "    Notes\n",
            "    -----\n",
            "    Equivalent to `x1` + `x2` in terms of array broadcasting.\n",
            "    \n",
            "    Examples\n",
            "    --------\n",
            "    >>> np.add(1.0, 4.0)\n",
            "    5.0\n",
            "    >>> x1 = np.arange(9.0).reshape((3, 3))\n",
            "    >>> x2 = np.arange(3.0)\n",
            "    >>> np.add(x1, x2)\n",
            "    array([[  0.,   2.,   4.],\n",
            "           [  3.,   5.,   7.],\n",
            "           [  6.,   8.,  10.]])\n",
            "    \n",
            "    The ``+`` operator can be used as a shorthand for ``np.add`` on ndarrays.\n",
            "    \n",
            "    >>> x1 = np.arange(9.0).reshape((3, 3))\n",
            "    >>> x2 = np.arange(3.0)\n",
            "    >>> x1 + x2\n",
            "    array([[ 0.,  2.,  4.],\n",
            "           [ 3.,  5.,  7.],\n",
            "           [ 6.,  8., 10.]])\n",
            "\n"
          ]
        }
      ],
      "source": [
        "help(np.add)"
      ]
    },
    {
      "cell_type": "markdown",
      "id": "bf6679c3",
      "metadata": {
        "id": "bf6679c3"
      },
      "source": [
        "#### 6. Create a null vector of size 10 but the fifth value which is 1 (★☆☆)"
      ]
    },
    {
      "cell_type": "code",
      "execution_count": null,
      "id": "f4cd59b6",
      "metadata": {
        "id": "f4cd59b6",
        "colab": {
          "base_uri": "https://localhost:8080/"
        },
        "outputId": "e8b5998d-2789-4694-9c8c-560a200031cc"
      },
      "outputs": [
        {
          "output_type": "stream",
          "name": "stdout",
          "text": [
            "[0. 0. 0. 0. 1. 0. 0. 0. 0. 0.]\n"
          ]
        }
      ],
      "source": [
        "null_vector = np.zeros(10)\n",
        "\n",
        "null_vector[4] = 1\n",
        "\n",
        "print(null_vector)"
      ]
    },
    {
      "cell_type": "markdown",
      "id": "022451fb",
      "metadata": {
        "id": "022451fb"
      },
      "source": [
        "#### 7. Create a vector with values ranging from 10 to 49 (★☆☆)"
      ]
    },
    {
      "cell_type": "code",
      "execution_count": null,
      "id": "22c2f0a8",
      "metadata": {
        "id": "22c2f0a8",
        "colab": {
          "base_uri": "https://localhost:8080/"
        },
        "outputId": "7b8641e5-b460-4ae9-e6c7-8b76ddac4db4"
      },
      "outputs": [
        {
          "output_type": "stream",
          "name": "stdout",
          "text": [
            "[10 11 12 13 14 15 16 17 18 19 20 21 22 23 24 25 26 27 28 29 30 31 32 33\n",
            " 34 35 36 37 38 39 40 41 42 43 44 45 46 47 48 49]\n"
          ]
        }
      ],
      "source": [
        "vec = np.arange(10,50)\n",
        "print(vec)"
      ]
    },
    {
      "cell_type": "markdown",
      "id": "aca8f6ee",
      "metadata": {
        "id": "aca8f6ee"
      },
      "source": [
        "#### 8. Reverse a vector (first element becomes last) (★☆☆)"
      ]
    },
    {
      "cell_type": "code",
      "execution_count": null,
      "id": "15f37616",
      "metadata": {
        "id": "15f37616",
        "colab": {
          "base_uri": "https://localhost:8080/"
        },
        "outputId": "f9b96459-5259-48a3-9409-cbbf2d42aafd"
      },
      "outputs": [
        {
          "output_type": "stream",
          "name": "stdout",
          "text": [
            "[49 48 47 46 45 44 43 42 41 40 39 38 37 36 35 34 33 32 31 30 29 28 27 26\n",
            " 25 24 23 22 21 20 19 18 17 16 15 14 13 12 11 10]\n"
          ]
        }
      ],
      "source": [
        "rev_vec = vec [::-1]\n",
        "print(rev_vec)"
      ]
    },
    {
      "cell_type": "markdown",
      "id": "97bfddd4",
      "metadata": {
        "id": "97bfddd4"
      },
      "source": [
        "#### 9. Create a 3x3 matrix with values ranging from 0 to 8 (★☆☆)"
      ]
    },
    {
      "cell_type": "code",
      "execution_count": null,
      "id": "8b93d83c",
      "metadata": {
        "id": "8b93d83c",
        "colab": {
          "base_uri": "https://localhost:8080/"
        },
        "outputId": "a81b66c1-374c-4348-8382-39cbf3ddba07"
      },
      "outputs": [
        {
          "output_type": "stream",
          "name": "stdout",
          "text": [
            "[[0 1 2]\n",
            " [3 4 5]\n",
            " [6 7 8]]\n"
          ]
        }
      ],
      "source": [
        "x = np.arange(0,9).reshape(3,3)\n",
        "print(x)"
      ]
    },
    {
      "cell_type": "markdown",
      "id": "a073dad0",
      "metadata": {
        "id": "a073dad0"
      },
      "source": [
        "#### 10. Find indices of non-zero elements from [1,2,0,0,4,0] (★☆☆)"
      ]
    },
    {
      "cell_type": "code",
      "execution_count": null,
      "id": "c21fb91c",
      "metadata": {
        "id": "c21fb91c",
        "colab": {
          "base_uri": "https://localhost:8080/"
        },
        "outputId": "29eaa9f2-27f4-4445-9d65-e00a1a1840ad"
      },
      "outputs": [
        {
          "output_type": "stream",
          "name": "stdout",
          "text": [
            "Indices of non-zero elements: (array([0, 1, 4]),)\n"
          ]
        }
      ],
      "source": [
        "arr = np.array([1, 2, 0, 0, 4, 0])\n",
        "\n",
        "nonzero_indices = np.nonzero(arr)\n",
        "\n",
        "print(\"Indices of non-zero elements:\", nonzero_indices)"
      ]
    },
    {
      "cell_type": "markdown",
      "id": "82b9a7a0",
      "metadata": {
        "id": "82b9a7a0"
      },
      "source": [
        "#### 11. Create a 3x3 identity matrix (★☆☆)"
      ]
    },
    {
      "cell_type": "code",
      "execution_count": null,
      "id": "7ce1325a",
      "metadata": {
        "id": "7ce1325a",
        "colab": {
          "base_uri": "https://localhost:8080/"
        },
        "outputId": "bf1b1aa7-abc5-49d3-a3e8-af72e680ea83"
      },
      "outputs": [
        {
          "output_type": "stream",
          "name": "stdout",
          "text": [
            "[[1. 0. 0.]\n",
            " [0. 1. 0.]\n",
            " [0. 0. 1.]]\n"
          ]
        }
      ],
      "source": [
        "identity = np.eye(3,3)\n",
        "print(identity)"
      ]
    },
    {
      "cell_type": "markdown",
      "id": "0e6364d3",
      "metadata": {
        "id": "0e6364d3"
      },
      "source": [
        "#### 12. Create a 3x3x3 array with random values (★☆☆)"
      ]
    },
    {
      "cell_type": "code",
      "execution_count": null,
      "id": "8139c1c8",
      "metadata": {
        "id": "8139c1c8",
        "colab": {
          "base_uri": "https://localhost:8080/"
        },
        "outputId": "61237132-555c-46db-b234-6e35b0561433"
      },
      "outputs": [
        {
          "output_type": "stream",
          "name": "stdout",
          "text": [
            "[[[0.65780952 0.6817356  0.92791495]\n",
            "  [0.87845893 0.65753886 0.81317776]\n",
            "  [0.69293496 0.09954408 0.05486643]]\n",
            "\n",
            " [[0.21516722 0.22008435 0.50305215]\n",
            "  [0.83985444 0.38858769 0.69721251]\n",
            "  [0.59587118 0.46467223 0.23168722]]\n",
            "\n",
            " [[0.17710464 0.06623587 0.64166534]\n",
            "  [0.28834953 0.89434009 0.42441627]\n",
            "  [0.9221602  0.79891524 0.71293687]]]\n"
          ]
        }
      ],
      "source": [
        "random_arr = np.random.rand(3,3,3)\n",
        "print(random_arr)"
      ]
    },
    {
      "cell_type": "markdown",
      "id": "49ef36a6",
      "metadata": {
        "id": "49ef36a6"
      },
      "source": [
        "#### 13. Create a 10x10 array with random values and find the minimum and maximum values (★☆☆)"
      ]
    },
    {
      "cell_type": "code",
      "execution_count": null,
      "id": "5b4c73c7",
      "metadata": {
        "id": "5b4c73c7",
        "colab": {
          "base_uri": "https://localhost:8080/"
        },
        "outputId": "396f7845-4ae0-4d82-99ac-84856610f5af"
      },
      "outputs": [
        {
          "output_type": "stream",
          "name": "stdout",
          "text": [
            "0.9906472441037347\n",
            "0.0008697614438865076\n"
          ]
        }
      ],
      "source": [
        "random_arr2 = np.random.rand(10,10)\n",
        "print(random_arr2.max())\n",
        "print(random_arr2.min())"
      ]
    },
    {
      "cell_type": "markdown",
      "id": "625eb243",
      "metadata": {
        "id": "625eb243"
      },
      "source": [
        "#### 14. Create a random vector of size 30 and find the mean value (★☆☆)"
      ]
    },
    {
      "cell_type": "code",
      "execution_count": null,
      "id": "ba7b8300",
      "metadata": {
        "id": "ba7b8300",
        "colab": {
          "base_uri": "https://localhost:8080/"
        },
        "outputId": "1a36c7bd-3d1b-47fb-ca0d-c6f1f3934fa0"
      },
      "outputs": [
        {
          "output_type": "stream",
          "name": "stdout",
          "text": [
            "0.5310914953370307\n"
          ]
        }
      ],
      "source": [
        "random_vec = np.random.rand(1,30)\n",
        "print(random_vec.mean())"
      ]
    },
    {
      "cell_type": "markdown",
      "id": "19540b2f",
      "metadata": {
        "id": "19540b2f"
      },
      "source": [
        "#### 15. Create a 2d array with 1 on the border and 0 inside (★☆☆)"
      ]
    },
    {
      "cell_type": "code",
      "execution_count": null,
      "id": "19e78d2c",
      "metadata": {
        "id": "19e78d2c",
        "colab": {
          "base_uri": "https://localhost:8080/"
        },
        "outputId": "0918905f-49e2-472e-b9c2-90621b117832"
      },
      "outputs": [
        {
          "output_type": "stream",
          "name": "stdout",
          "text": [
            "[[1 1 1 1 1]\n",
            " [1 0 0 0 1]\n",
            " [1 0 0 0 1]\n",
            " [1 0 0 0 1]\n",
            " [1 1 1 1 1]]\n"
          ]
        }
      ],
      "source": [
        "rows = 5\n",
        "cols = 5\n",
        "\n",
        "array = np.zeros((rows, cols), dtype=int)\n",
        "\n",
        "array[0, :] = 1\n",
        "array[-1, :] = 1\n",
        "array[:, 0] = 1\n",
        "array[:, -1] = 1\n",
        "\n",
        "print(array)"
      ]
    },
    {
      "cell_type": "markdown",
      "id": "3f0fe171",
      "metadata": {
        "id": "3f0fe171"
      },
      "source": [
        "#### 16. How to add a border (filled with 0's) around an existing array? (★☆☆)"
      ]
    },
    {
      "cell_type": "code",
      "execution_count": null,
      "id": "662a99b4",
      "metadata": {
        "id": "662a99b4",
        "colab": {
          "base_uri": "https://localhost:8080/"
        },
        "outputId": "b8359b57-98d1-4425-9770-34546a5fde10"
      },
      "outputs": [
        {
          "output_type": "stream",
          "name": "stdout",
          "text": [
            "[[0 0 0 0 0]\n",
            " [0 1 1 1 0]\n",
            " [0 1 1 1 0]\n",
            " [0 1 1 1 0]\n",
            " [0 0 0 0 0]]\n"
          ]
        }
      ],
      "source": [
        "array2 = np.ones((rows, cols), dtype=int)\n",
        "\n",
        "array2[0, :] = 0\n",
        "array2[-1, :] = 0\n",
        "array2[:, 0] = 0\n",
        "array2[:, -1] = 0\n",
        "\n",
        "print(array2)"
      ]
    },
    {
      "cell_type": "markdown",
      "id": "0464c4af",
      "metadata": {
        "id": "0464c4af"
      },
      "source": [
        "#### 17. What is the result of the following expression? (★☆☆)\n",
        "```python\n",
        "0 * np.nan\n",
        "np.nan == np.nan\n",
        "np.inf > np.nan\n",
        "np.nan - np.nan\n",
        "np.nan in set([np.nan])\n",
        "0.3 == 3 * 0.1\n",
        "```"
      ]
    },
    {
      "cell_type": "code",
      "execution_count": null,
      "id": "18926a29",
      "metadata": {
        "id": "18926a29"
      },
      "outputs": [],
      "source": [
        "# nan\n",
        "# false\n",
        "# false\n",
        "# nan\n",
        "# true\n",
        "# false"
      ]
    },
    {
      "cell_type": "markdown",
      "id": "afb90e8b",
      "metadata": {
        "id": "afb90e8b"
      },
      "source": [
        "#### 18. Create a 5x5 matrix with values 1,2,3,4 just below the diagonal (★☆☆)"
      ]
    },
    {
      "cell_type": "code",
      "execution_count": null,
      "id": "8a988102",
      "metadata": {
        "id": "8a988102",
        "colab": {
          "base_uri": "https://localhost:8080/"
        },
        "outputId": "f6b0654c-0597-4910-d97c-699b4734f7d8"
      },
      "outputs": [
        {
          "output_type": "stream",
          "name": "stdout",
          "text": [
            "[[0 0 0 0 0]\n",
            " [1 0 0 0 0]\n",
            " [0 2 0 0 0]\n",
            " [0 0 3 0 0]\n",
            " [0 0 0 4 0]]\n"
          ]
        }
      ],
      "source": [
        "matrix = np.zeros((5, 5), dtype=int)\n",
        "\n",
        "np.fill_diagonal(matrix[1:] , np.array([1, 2, 3, 4]))\n",
        "\n",
        "print(matrix)"
      ]
    },
    {
      "cell_type": "markdown",
      "id": "ca611f9e",
      "metadata": {
        "id": "ca611f9e"
      },
      "source": [
        "#### 19. Create a 8x8 matrix and fill it with a checkerboard pattern (★☆☆)"
      ]
    },
    {
      "cell_type": "code",
      "execution_count": null,
      "id": "24049fc7",
      "metadata": {
        "id": "24049fc7",
        "colab": {
          "base_uri": "https://localhost:8080/"
        },
        "outputId": "15e1ba2f-8f42-46a8-858a-5ea6a804116f"
      },
      "outputs": [
        {
          "output_type": "stream",
          "name": "stdout",
          "text": [
            "[[0 1 0 1 0 1 0 1]\n",
            " [1 0 1 0 1 0 1 0]\n",
            " [0 1 0 1 0 1 0 1]\n",
            " [1 0 1 0 1 0 1 0]\n",
            " [0 1 0 1 0 1 0 1]\n",
            " [1 0 1 0 1 0 1 0]\n",
            " [0 1 0 1 0 1 0 1]\n",
            " [1 0 1 0 1 0 1 0]]\n"
          ]
        }
      ],
      "source": [
        "matrix = np.zeros((8, 8), dtype=int)\n",
        "\n",
        "matrix[1::2, ::2] = 1\n",
        "matrix[::2, 1::2] = 1\n",
        "\n",
        "print(matrix)"
      ]
    },
    {
      "cell_type": "markdown",
      "id": "9b77f7af",
      "metadata": {
        "id": "9b77f7af"
      },
      "source": [
        "#### 20. Consider a (6,7,8) shape array, what is the index (x,y,z) of the 100th element? (★☆☆)"
      ]
    },
    {
      "cell_type": "code",
      "execution_count": null,
      "id": "402efd68",
      "metadata": {
        "id": "402efd68",
        "colab": {
          "base_uri": "https://localhost:8080/"
        },
        "outputId": "3eaf5719-a508-4b78-a3ff-1abfebc37721"
      },
      "outputs": [
        {
          "output_type": "stream",
          "name": "stdout",
          "text": [
            "Index (x, y, z): (1, 5, 3)\n"
          ]
        }
      ],
      "source": [
        "shape = (6, 7, 8)\n",
        "\n",
        "flat_index = 99\n",
        "\n",
        "indices = np.unravel_index(flat_index, shape)\n",
        "\n",
        "print(\"Index (x, y, z):\", indices)"
      ]
    },
    {
      "cell_type": "markdown",
      "id": "07e399b8",
      "metadata": {
        "id": "07e399b8"
      },
      "source": [
        "#### 21. Create a checkerboard 8x8 matrix using the tile function (★☆☆)"
      ]
    },
    {
      "cell_type": "code",
      "execution_count": null,
      "id": "867964a9",
      "metadata": {
        "id": "867964a9",
        "colab": {
          "base_uri": "https://localhost:8080/"
        },
        "outputId": "dd85dcef-23f5-41ff-feac-a48d14200c99"
      },
      "outputs": [
        {
          "output_type": "stream",
          "name": "stdout",
          "text": [
            "[[0 1 0 1 0 1 0 1]\n",
            " [1 0 1 0 1 0 1 0]\n",
            " [0 1 0 1 0 1 0 1]\n",
            " [1 0 1 0 1 0 1 0]\n",
            " [0 1 0 1 0 1 0 1]\n",
            " [1 0 1 0 1 0 1 0]\n",
            " [0 1 0 1 0 1 0 1]\n",
            " [1 0 1 0 1 0 1 0]]\n"
          ]
        }
      ],
      "source": [
        "tile = np.array([[0, 1], [1, 0]])\n",
        "\n",
        "checkerboard = np.tile(tile, (4, 4))\n",
        "\n",
        "print(checkerboard)"
      ]
    },
    {
      "cell_type": "markdown",
      "id": "bc92d88a",
      "metadata": {
        "id": "bc92d88a"
      },
      "source": [
        "#### 22. Normalize a 5x5 random matrix (★☆☆)"
      ]
    },
    {
      "cell_type": "code",
      "execution_count": null,
      "id": "a3709496",
      "metadata": {
        "id": "a3709496",
        "colab": {
          "base_uri": "https://localhost:8080/"
        },
        "outputId": "8a07b211-1bd1-4a4b-b659-657fa570446e"
      },
      "outputs": [
        {
          "output_type": "stream",
          "name": "stdout",
          "text": [
            "Matrix after normalization:\n",
            "[[0.01751604 0.07339391 0.00423523 0.01432775 0.06722406]\n",
            " [0.02381672 0.02235475 0.07431158 0.05380301 0.01543617]\n",
            " [0.05982375 0.02429233 0.07951207 0.07036939 0.03224461]\n",
            " [0.02434838 0.06819567 0.00164446 0.05049038 0.01374725]\n",
            " [0.04769682 0.00926796 0.06948158 0.00717364 0.07529247]]\n"
          ]
        }
      ],
      "source": [
        "random_matrix = np.random.rand(5, 5)\n",
        "\n",
        "total_sum = np.sum(random_matrix)\n",
        "\n",
        "normalized_matrix = random_matrix / total_sum\n",
        "\n",
        "print(\"Matrix after normalization:\")\n",
        "print(normalized_matrix)"
      ]
    },
    {
      "cell_type": "markdown",
      "id": "9e2fd8ce",
      "metadata": {
        "id": "9e2fd8ce"
      },
      "source": [
        "#### 23. Create a custom dtype that describes a color as four unsigned bytes (RGBA) (★☆☆)"
      ]
    },
    {
      "cell_type": "code",
      "execution_count": null,
      "id": "5881b2b5",
      "metadata": {
        "id": "5881b2b5",
        "colab": {
          "base_uri": "https://localhost:8080/"
        },
        "outputId": "27fa3741-c394-44df-d2c9-003658f794df"
      },
      "outputs": [
        {
          "output_type": "stream",
          "name": "stdout",
          "text": [
            "Custom RGBA dtype: [('R', 'u1'), ('G', 'u1'), ('B', 'u1'), ('A', 'u1')]\n"
          ]
        }
      ],
      "source": [
        "color_dtype = np.dtype([('R', np.uint8), ('G', np.uint8), ('B', np.uint8), ('A', np.uint8)])\n",
        "\n",
        "print(\"Custom RGBA dtype:\", color_dtype)"
      ]
    },
    {
      "cell_type": "markdown",
      "id": "d6904ab9",
      "metadata": {
        "id": "d6904ab9"
      },
      "source": [
        "#### 24. Multiply a 5x3 matrix by a 3x2 matrix (real matrix product) (★☆☆)"
      ]
    },
    {
      "cell_type": "code",
      "execution_count": null,
      "id": "cb3b6528",
      "metadata": {
        "id": "cb3b6528",
        "colab": {
          "base_uri": "https://localhost:8080/"
        },
        "outputId": "7c8b8c1e-9d3e-415b-e8f8-31384180980d"
      },
      "outputs": [
        {
          "output_type": "stream",
          "name": "stdout",
          "text": [
            "[[0.80216662 1.31586909]\n",
            " [0.8463166  1.58535375]\n",
            " [0.71142916 1.21514321]\n",
            " [0.46798179 0.95697109]\n",
            " [0.72733435 1.39188872]]\n"
          ]
        }
      ],
      "source": [
        "arr1 = np.random.rand(5 , 3)\n",
        "arr2 = np.random.rand(3 , 2)\n",
        "\n",
        "pro_arr = np.dot(arr1 , arr2)\n",
        "\n",
        "print(pro_arr)"
      ]
    },
    {
      "cell_type": "markdown",
      "id": "c57116dd",
      "metadata": {
        "id": "c57116dd"
      },
      "source": [
        "#### 25. Given a 1D array, negate all elements which are between 3 and 8, in place. (★☆☆)"
      ]
    },
    {
      "cell_type": "code",
      "execution_count": null,
      "id": "4fbf1b1e",
      "metadata": {
        "id": "4fbf1b1e",
        "colab": {
          "base_uri": "https://localhost:8080/"
        },
        "outputId": "0a8c3b97-cdc1-4b06-93db-bfa3c726345f"
      },
      "outputs": [
        {
          "output_type": "stream",
          "name": "stdout",
          "text": [
            "Modified array:\n",
            "[ 1  2  3 -4 -5 -6 -7  8  9 10]\n"
          ]
        }
      ],
      "source": [
        "arr = np.array([1, 2, 3, 4, 5, 6, 7, 8, 9, 10])\n",
        "\n",
        "arr[(arr > 3) & (arr < 8)] *= -1\n",
        "\n",
        "print(\"Modified array:\")\n",
        "print(arr)"
      ]
    },
    {
      "cell_type": "markdown",
      "id": "52707d61",
      "metadata": {
        "id": "52707d61"
      },
      "source": [
        "#### 26. What is the output of the following script? (★☆☆)\n",
        "```python\n",
        "# Author: Jake VanderPlas\n",
        "\n",
        "print(sum(range(5),-1))\n",
        "from numpy import *\n",
        "print(sum(range(5),-1))\n",
        "```"
      ]
    },
    {
      "cell_type": "code",
      "execution_count": null,
      "id": "18a238e6",
      "metadata": {
        "id": "18a238e6"
      },
      "outputs": [],
      "source": [
        "# 9\n",
        "# 10"
      ]
    },
    {
      "cell_type": "markdown",
      "id": "5ab377fd",
      "metadata": {
        "id": "5ab377fd"
      },
      "source": [
        "#### 27. Consider an integer vector Z, which of these expressions are legal? (★☆☆)\n",
        "```python\n",
        "Z**Z\n",
        "2 << Z >> 2\n",
        "Z <- Z\n",
        "1j*Z\n",
        "Z/1/1\n",
        "Z<Z>Z\n",
        "```"
      ]
    },
    {
      "cell_type": "code",
      "execution_count": null,
      "id": "36cc66a9",
      "metadata": {
        "id": "36cc66a9"
      },
      "outputs": [],
      "source": [
        "# Z**Z\n",
        "# 2 << Z >> 2\n",
        "# Z <- Z\n",
        "# Z/1/1\n",
        "# Z<Z>Z"
      ]
    },
    {
      "cell_type": "markdown",
      "id": "654f223f",
      "metadata": {
        "id": "654f223f"
      },
      "source": [
        "#### 28. What are the result of the following expressions? (★☆☆)\n",
        "```python\n",
        "np.array(0) / np.array(0)\n",
        "np.array(0) // np.array(0)\n",
        "np.array([np.nan]).astype(int).astype(float)\n",
        "```"
      ]
    },
    {
      "cell_type": "code",
      "execution_count": null,
      "id": "6d9d3c21",
      "metadata": {
        "id": "6d9d3c21",
        "colab": {
          "base_uri": "https://localhost:8080/"
        },
        "outputId": "782a35d1-377c-483a-b80f-1983d1b55c5d"
      },
      "outputs": [
        {
          "output_type": "stream",
          "name": "stdout",
          "text": [
            "[-9.22337204e+18]\n"
          ]
        },
        {
          "output_type": "stream",
          "name": "stderr",
          "text": [
            "<ipython-input-3-25d775166b7e>:3: RuntimeWarning: invalid value encountered in cast\n",
            "  a = np.array([np.nan]).astype(int).astype(float)\n"
          ]
        }
      ],
      "source": [
        "# nan\n",
        "# nan\n",
        "a = np.array([np.nan]).astype(int).astype(float)\n",
        "print (a)"
      ]
    },
    {
      "cell_type": "markdown",
      "id": "a7e00adf",
      "metadata": {
        "id": "a7e00adf"
      },
      "source": [
        "#### 29. How to round away from zero a float array ? (★☆☆)"
      ]
    },
    {
      "cell_type": "code",
      "execution_count": null,
      "id": "6ee5777d",
      "metadata": {
        "id": "6ee5777d",
        "colab": {
          "base_uri": "https://localhost:8080/"
        },
        "outputId": "1175a750-e447-441b-9feb-216cbf2b4a81"
      },
      "outputs": [
        {
          "output_type": "stream",
          "name": "stdout",
          "text": [
            "[-3. -2. -1.  0.  2.  3.  4.]\n"
          ]
        }
      ],
      "source": [
        "float_array = np.array([-3.2, -2.5, -1.8, 0, 1.8, 2.5, 3.2])\n",
        "\n",
        "rounded_array = np.ceil(float_array)\n",
        "\n",
        "print(rounded_array)"
      ]
    },
    {
      "cell_type": "markdown",
      "id": "56be1f05",
      "metadata": {
        "id": "56be1f05"
      },
      "source": [
        "#### 30. How to find common values between two arrays? (★☆☆)"
      ]
    },
    {
      "cell_type": "code",
      "execution_count": null,
      "id": "62eeedc0",
      "metadata": {
        "id": "62eeedc0",
        "colab": {
          "base_uri": "https://localhost:8080/"
        },
        "outputId": "dd408fc3-e80a-4a93-ecb5-fa109ba7db6d"
      },
      "outputs": [
        {
          "output_type": "stream",
          "name": "stdout",
          "text": [
            "[5]\n"
          ]
        }
      ],
      "source": [
        "x = np.array([1,2,3,4,5])\n",
        "x2 = np.array([5,6,7,8,9])\n",
        "x3 = np.intersect1d(x,x2)\n",
        "\n",
        "print(x3)"
      ]
    },
    {
      "cell_type": "markdown",
      "id": "83567c5c",
      "metadata": {
        "id": "83567c5c"
      },
      "source": [
        "#### 31. How to ignore all numpy warnings (not recommended)? (★☆☆)"
      ]
    },
    {
      "cell_type": "code",
      "execution_count": null,
      "id": "fa02b423",
      "metadata": {
        "id": "fa02b423"
      },
      "outputs": [],
      "source": [
        "# import warnings\n",
        "\n",
        "# warnings.filterwarnings(\"ignore\")"
      ]
    },
    {
      "cell_type": "markdown",
      "id": "0a7449b6",
      "metadata": {
        "id": "0a7449b6"
      },
      "source": [
        "#### 32. Is the following expressions true? (★☆☆)\n",
        "```python\n",
        "np.sqrt(-1) == np.emath.sqrt(-1)\n",
        "```"
      ]
    },
    {
      "cell_type": "code",
      "execution_count": null,
      "id": "69eb4456",
      "metadata": {
        "id": "69eb4456",
        "colab": {
          "base_uri": "https://localhost:8080/"
        },
        "outputId": "f4cad5fa-04a9-4d1b-c263-ba497c11ae00"
      },
      "outputs": [
        {
          "output_type": "stream",
          "name": "stdout",
          "text": [
            "False\n"
          ]
        },
        {
          "output_type": "stream",
          "name": "stderr",
          "text": [
            "<ipython-input-7-c6ff0ad7fd7b>:1: RuntimeWarning: invalid value encountered in sqrt\n",
            "  print(np.sqrt(-1) == np.emath.sqrt(-1))\n"
          ]
        }
      ],
      "source": [
        "print(np.sqrt(-1) == np.emath.sqrt(-1))"
      ]
    },
    {
      "cell_type": "markdown",
      "id": "9d434219",
      "metadata": {
        "id": "9d434219"
      },
      "source": [
        "#### 33. How to get the dates of yesterday, today and tomorrow? (★☆☆)"
      ]
    },
    {
      "cell_type": "code",
      "execution_count": null,
      "id": "0b192943",
      "metadata": {
        "id": "0b192943",
        "colab": {
          "base_uri": "https://localhost:8080/"
        },
        "outputId": "0d99361f-cc1d-45ea-e1bd-02e69151d745"
      },
      "outputs": [
        {
          "output_type": "stream",
          "name": "stdout",
          "text": [
            "Yesterday: 2024-04-26\n",
            "Today: 2024-04-27\n",
            "Tomorrow: 2024-04-28\n"
          ]
        }
      ],
      "source": [
        "today = np.datetime64('today')\n",
        "\n",
        "yesterday = today - np.timedelta64(1, 'D')\n",
        "\n",
        "tomorrow = today + np.timedelta64(1, 'D')\n",
        "\n",
        "print(\"Yesterday:\", yesterday)\n",
        "print(\"Today:\", today)\n",
        "print(\"Tomorrow:\", tomorrow)"
      ]
    },
    {
      "cell_type": "markdown",
      "id": "b0e44339",
      "metadata": {
        "id": "b0e44339"
      },
      "source": [
        "#### 34. How to get all the dates corresponding to the month of July 2016? (★★☆)"
      ]
    },
    {
      "cell_type": "code",
      "execution_count": null,
      "id": "8bf7daa6",
      "metadata": {
        "id": "8bf7daa6",
        "colab": {
          "base_uri": "https://localhost:8080/"
        },
        "outputId": "ff98b07c-31e1-4027-dccf-77725448121e"
      },
      "outputs": [
        {
          "output_type": "stream",
          "name": "stdout",
          "text": [
            "['2016-07-01' '2016-07-02' '2016-07-03' '2016-07-04' '2016-07-05'\n",
            " '2016-07-06' '2016-07-07' '2016-07-08' '2016-07-09' '2016-07-10'\n",
            " '2016-07-11' '2016-07-12' '2016-07-13' '2016-07-14' '2016-07-15'\n",
            " '2016-07-16' '2016-07-17' '2016-07-18' '2016-07-19' '2016-07-20'\n",
            " '2016-07-21' '2016-07-22' '2016-07-23' '2016-07-24' '2016-07-25'\n",
            " '2016-07-26' '2016-07-27' '2016-07-28' '2016-07-29' '2016-07-30'\n",
            " '2016-07-31']\n"
          ]
        }
      ],
      "source": [
        "start_date = np.datetime64('2016-07-01')\n",
        "end_date = np.datetime64('2016-08-01')\n",
        "\n",
        "dates = np.arange(start_date, end_date, dtype='datetime64[D]')\n",
        "\n",
        "print(dates)"
      ]
    },
    {
      "cell_type": "markdown",
      "id": "f9b3c24a",
      "metadata": {
        "id": "f9b3c24a"
      },
      "source": [
        "#### 35. How to compute ((A+B)*(-A/2)) in place (without copy)? (★★☆)"
      ]
    },
    {
      "cell_type": "code",
      "execution_count": null,
      "id": "40da18c9",
      "metadata": {
        "id": "40da18c9",
        "colab": {
          "base_uri": "https://localhost:8080/"
        },
        "outputId": "9b9fa8ff-fe49-4da9-fadc-217550d0fd81"
      },
      "outputs": [
        {
          "output_type": "stream",
          "name": "stdout",
          "text": [
            "[3.5 3.  1.5]\n"
          ]
        }
      ],
      "source": [
        "A = np.array([1, 2, 3],dtype = np.float64)\n",
        "B = np.array([4, 5, 6])\n",
        "\n",
        "np.multiply(A, -1*A/2, out=A)\n",
        "np.add(A, B, out=A)\n",
        "\n",
        "print(A)"
      ]
    },
    {
      "cell_type": "markdown",
      "id": "cbb64ee9",
      "metadata": {
        "id": "cbb64ee9"
      },
      "source": [
        "#### 36. Extract the integer part of a random array of positive numbers using 4 different methods (★★☆)"
      ]
    },
    {
      "cell_type": "code",
      "execution_count": null,
      "id": "f83748bd",
      "metadata": {
        "id": "f83748bd",
        "colab": {
          "base_uri": "https://localhost:8080/"
        },
        "outputId": "e7030732-1876-4187-ebd4-98b71b84e7aa"
      },
      "outputs": [
        {
          "output_type": "stream",
          "name": "stdout",
          "text": [
            "[1. 1. 2. 3. 4. 7.]\n"
          ]
        }
      ],
      "source": [
        "x = np.array([1.4 , 1.3 , 2.5 , 3.8 , 4,7])\n",
        "\n",
        "print(np.floor(x))"
      ]
    },
    {
      "cell_type": "code",
      "source": [
        "print(np.trunc(x))"
      ],
      "metadata": {
        "colab": {
          "base_uri": "https://localhost:8080/"
        },
        "id": "0kxK_vhPL6dG",
        "outputId": "151a9d63-cc63-4dbe-e991-251dc68c9af6"
      },
      "id": "0kxK_vhPL6dG",
      "execution_count": null,
      "outputs": [
        {
          "output_type": "stream",
          "name": "stdout",
          "text": [
            "[1. 1. 2. 3. 4. 7.]\n"
          ]
        }
      ]
    },
    {
      "cell_type": "code",
      "source": [
        "integer_part = np.where(x < 0, np.ceil(x), np.floor(x))\n",
        "\n",
        "print(\"Method 3 (np.ceil and np.floor):\", integer_part)"
      ],
      "metadata": {
        "colab": {
          "base_uri": "https://localhost:8080/"
        },
        "id": "x3LxOtGDMJFw",
        "outputId": "e45d3e5a-7010-4813-bd93-7f9b9f61c0b0"
      },
      "id": "x3LxOtGDMJFw",
      "execution_count": null,
      "outputs": [
        {
          "output_type": "stream",
          "name": "stdout",
          "text": [
            "Method 3 (np.ceil and np.floor): [1. 1. 2. 3. 4. 7.]\n"
          ]
        }
      ]
    },
    {
      "cell_type": "code",
      "source": [
        "integer_part = x.astype(int)\n",
        "\n",
        "print(\"Method 4 (np.astype(int)):\", integer_part)"
      ],
      "metadata": {
        "colab": {
          "base_uri": "https://localhost:8080/"
        },
        "id": "B4cptoBTMkIR",
        "outputId": "044b7d77-4eab-4ecb-99be-1e3db1bc5c6c"
      },
      "id": "B4cptoBTMkIR",
      "execution_count": null,
      "outputs": [
        {
          "output_type": "stream",
          "name": "stdout",
          "text": [
            "Method 4 (np.astype(int)): [1 1 2 3 4 7]\n"
          ]
        }
      ]
    },
    {
      "cell_type": "markdown",
      "id": "8418e1e4",
      "metadata": {
        "id": "8418e1e4"
      },
      "source": [
        "#### 37. Create a 5x5 matrix with row values ranging from 0 to 4 (★★☆)"
      ]
    },
    {
      "cell_type": "code",
      "execution_count": null,
      "id": "08e726e4",
      "metadata": {
        "id": "08e726e4",
        "colab": {
          "base_uri": "https://localhost:8080/"
        },
        "outputId": "f9b81f96-b9eb-4f88-f82c-a5b715acbd44"
      },
      "outputs": [
        {
          "output_type": "stream",
          "name": "stdout",
          "text": [
            "[[0. 0. 0. 0. 0.]\n",
            " [1. 1. 1. 1. 1.]\n",
            " [2. 2. 2. 2. 2.]\n",
            " [3. 3. 3. 3. 3.]\n",
            " [4. 4. 4. 4. 4.]]\n"
          ]
        }
      ],
      "source": [
        "row_values = np.arange(5)\n",
        "\n",
        "matrix = row_values[:, np.newaxis] * np.ones(5)\n",
        "\n",
        "print(matrix)"
      ]
    },
    {
      "cell_type": "markdown",
      "id": "a8420e2c",
      "metadata": {
        "id": "a8420e2c"
      },
      "source": [
        "#### 38. Consider a generator function that generates 10 integers and use it to build an array (★☆☆)"
      ]
    },
    {
      "cell_type": "code",
      "execution_count": null,
      "id": "c58e77ad",
      "metadata": {
        "id": "c58e77ad",
        "colab": {
          "base_uri": "https://localhost:8080/"
        },
        "outputId": "8013a21a-ceda-4c04-be35-a53e839f2458"
      },
      "outputs": [
        {
          "output_type": "stream",
          "name": "stdout",
          "text": [
            "[[1 8 9 7 5 9 7 4 5 3]]\n"
          ]
        }
      ],
      "source": [
        "x = (np.random.rand(1,10) * 10).astype(int)\n",
        "\n",
        "print(x)"
      ]
    },
    {
      "cell_type": "markdown",
      "id": "deab3e77",
      "metadata": {
        "id": "deab3e77"
      },
      "source": [
        "#### 39. Create a vector of size 10 with values ranging from 0 to 1, both excluded (★★☆)"
      ]
    },
    {
      "cell_type": "code",
      "execution_count": null,
      "id": "2c5fafc8",
      "metadata": {
        "id": "2c5fafc8",
        "colab": {
          "base_uri": "https://localhost:8080/"
        },
        "outputId": "21aafabc-ec86-4bab-dfcb-7eaa3a35badb"
      },
      "outputs": [
        {
          "output_type": "stream",
          "name": "stdout",
          "text": [
            "[[0.02414255 0.86280993 0.33927883 0.02390773 0.1634656  0.32423852\n",
            "  0.12634595 0.94491383 0.86175287 0.28382233]]\n"
          ]
        }
      ],
      "source": [
        "x = np.random.rand(1,10)\n",
        "print(x)"
      ]
    },
    {
      "cell_type": "markdown",
      "id": "5bb5de9c",
      "metadata": {
        "id": "5bb5de9c"
      },
      "source": [
        "#### 40. Create a random vector of size 10 and sort it (★★☆)"
      ]
    },
    {
      "cell_type": "code",
      "execution_count": null,
      "id": "b9916965",
      "metadata": {
        "id": "b9916965",
        "colab": {
          "base_uri": "https://localhost:8080/"
        },
        "outputId": "2ab75f42-9e10-4a69-c276-f1c22bdfdfa3"
      },
      "outputs": [
        {
          "output_type": "stream",
          "name": "stdout",
          "text": [
            "[[0.02390773 0.02414255 0.12634595 0.1634656  0.28382233 0.32423852\n",
            "  0.33927883 0.86175287 0.86280993 0.94491383]]\n"
          ]
        }
      ],
      "source": [
        "x.sort()\n",
        "print(x)"
      ]
    },
    {
      "cell_type": "markdown",
      "id": "ebc8ad64",
      "metadata": {
        "id": "ebc8ad64"
      },
      "source": [
        "#### 41. How to sum a small array faster than np.sum? (★★☆)"
      ]
    },
    {
      "cell_type": "code",
      "execution_count": null,
      "id": "e7ac9923",
      "metadata": {
        "id": "e7ac9923",
        "colab": {
          "base_uri": "https://localhost:8080/"
        },
        "outputId": "4c0fdad0-37f4-41c8-9095-5df35c650088"
      },
      "outputs": [
        {
          "output_type": "stream",
          "name": "stdout",
          "text": [
            "Sum using Python sum: 15\n"
          ]
        }
      ],
      "source": [
        "arr = np.array([1, 2, 3, 4, 5])\n",
        "\n",
        "sum_py = sum(arr)\n",
        "\n",
        "print(\"Sum using Python sum:\", sum_py)"
      ]
    },
    {
      "cell_type": "markdown",
      "id": "4abfb753",
      "metadata": {
        "id": "4abfb753"
      },
      "source": [
        "#### 42. Consider two random array A and B, check if they are equal (★★☆)"
      ]
    },
    {
      "cell_type": "code",
      "execution_count": null,
      "id": "d265b5f6",
      "metadata": {
        "id": "d265b5f6",
        "colab": {
          "base_uri": "https://localhost:8080/"
        },
        "outputId": "6445c147-b349-48a3-d0fd-2f119faa1dda"
      },
      "outputs": [
        {
          "output_type": "stream",
          "name": "stdout",
          "text": [
            "[[False False False False False]]\n"
          ]
        }
      ],
      "source": [
        "A = np.random.rand(1,5)\n",
        "B = np.random.rand(1,5)\n",
        "\n",
        "print(A == B)"
      ]
    },
    {
      "cell_type": "markdown",
      "id": "c8fad2be",
      "metadata": {
        "id": "c8fad2be"
      },
      "source": [
        "#### 43. Make an array immutable (read-only) (★★☆)"
      ]
    },
    {
      "cell_type": "code",
      "execution_count": null,
      "id": "cadce095",
      "metadata": {
        "id": "cadce095"
      },
      "outputs": [],
      "source": [
        "arr_tuble = np.array((1,2,3,4))"
      ]
    },
    {
      "cell_type": "markdown",
      "id": "91b25fb1",
      "metadata": {
        "id": "91b25fb1"
      },
      "source": [
        "#### 44. Consider a random 10x2 matrix representing cartesian coordinates, convert them to polar coordinates (★★☆)"
      ]
    },
    {
      "cell_type": "code",
      "execution_count": null,
      "id": "3f5fb344",
      "metadata": {
        "id": "3f5fb344",
        "colab": {
          "base_uri": "https://localhost:8080/"
        },
        "outputId": "40897f20-8ff7-4619-a48f-9d4ab7a5e455"
      },
      "outputs": [
        {
          "output_type": "stream",
          "name": "stdout",
          "text": [
            "Cartesian Coordinates:\n",
            "[[4.2132144  4.85707755]\n",
            " [5.79883762 4.56103539]\n",
            " [3.90989668 2.80186583]\n",
            " [7.96979741 4.60444499]\n",
            " [3.08963986 2.57455936]\n",
            " [2.26773777 4.60698868]\n",
            " [3.67378134 5.92467722]\n",
            " [3.69213891 3.42159889]\n",
            " [1.32386606 6.50107689]\n",
            " [9.05212629 3.95881797]]\n",
            "\n",
            "Polar Coordinates:\n",
            "[[ 6.42980388 49.06038351]\n",
            " [ 7.3776393  38.18657415]\n",
            " [ 4.81017091 35.62571162]\n",
            " [ 9.2042699  30.01660575]\n",
            " [ 4.02171983 39.80403319]\n",
            " [ 5.13487871 63.79180733]\n",
            " [ 6.97126025 58.19772401]\n",
            " [ 5.03380857 42.82205425]\n",
            " [ 6.63450239 78.48978538]\n",
            " [ 9.87994079 23.62147585]]\n"
          ]
        }
      ],
      "source": [
        "cartesian_matrix = np.random.rand(10, 2) * 10\n",
        "\n",
        "r = np.sqrt(cartesian_matrix[:, 0]**2 + cartesian_matrix[:, 1]**2)\n",
        "theta = np.arctan2(cartesian_matrix[:, 1], cartesian_matrix[:, 0])\n",
        "\n",
        "theta_degrees = np.degrees(theta)\n",
        "\n",
        "polar_matrix = np.column_stack((r, theta_degrees))\n",
        "\n",
        "print(\"Cartesian Coordinates:\")\n",
        "print(cartesian_matrix)\n",
        "print(\"\\nPolar Coordinates:\")\n",
        "print(polar_matrix)"
      ]
    },
    {
      "cell_type": "markdown",
      "id": "7e4116bc",
      "metadata": {
        "id": "7e4116bc"
      },
      "source": [
        "#### 45. Create random vector of size 10 and replace the maximum value by 0 (★★☆)"
      ]
    },
    {
      "cell_type": "code",
      "execution_count": null,
      "id": "b4e895f6",
      "metadata": {
        "id": "b4e895f6",
        "colab": {
          "base_uri": "https://localhost:8080/"
        },
        "outputId": "17bcf971-8c22-4257-87a6-b0e193a9a1ca"
      },
      "outputs": [
        {
          "output_type": "stream",
          "name": "stdout",
          "text": [
            "[0.10249903 0.74746815 0.38538859 0.87952808 0.72926778 0.96464196\n",
            " 0.22896334 0.370832   0.01991363 0.        ]\n"
          ]
        }
      ],
      "source": [
        "x = np.random.rand(10)\n",
        "x.sort\n",
        "x[-1] = 0\n",
        "print(x)"
      ]
    },
    {
      "cell_type": "markdown",
      "id": "f5b68c55",
      "metadata": {
        "id": "f5b68c55"
      },
      "source": [
        "#### 46. Create a structured array with `x` and `y` coordinates covering the [0,1]x[0,1] area (★★☆)"
      ]
    },
    {
      "cell_type": "code",
      "execution_count": null,
      "id": "32fd3691",
      "metadata": {
        "id": "32fd3691",
        "colab": {
          "base_uri": "https://localhost:8080/"
        },
        "outputId": "9837dee2-781e-4c9f-e353-26ae83ba3ecc"
      },
      "outputs": [
        {
          "output_type": "stream",
          "name": "stdout",
          "text": [
            "[[0.  0. ]\n",
            " [0.5 0. ]\n",
            " [1.  0. ]\n",
            " [0.  0.5]\n",
            " [0.5 0.5]\n",
            " [1.  0.5]\n",
            " [0.  1. ]\n",
            " [0.5 1. ]\n",
            " [1.  1. ]]\n"
          ]
        }
      ],
      "source": [
        "x_coordinates = np.linspace(0, 1, 3)\n",
        "y_coordinates = np.linspace(0, 1, 3)\n",
        "\n",
        "x_mesh, y_mesh = np.meshgrid(x_coordinates, y_coordinates)\n",
        "\n",
        "structured_array = np.column_stack((x_mesh.ravel(), y_mesh.ravel()))\n",
        "\n",
        "print(structured_array)"
      ]
    },
    {
      "cell_type": "markdown",
      "id": "378bc4e9",
      "metadata": {
        "id": "378bc4e9"
      },
      "source": [
        "#### 47. Given two arrays, X and Y, construct the Cauchy matrix C (Cij =1/(xi - yj)) (★★☆)"
      ]
    },
    {
      "cell_type": "code",
      "execution_count": null,
      "id": "43282e51",
      "metadata": {
        "id": "43282e51",
        "colab": {
          "base_uri": "https://localhost:8080/"
        },
        "outputId": "cc283ffb-53ef-47c8-cae7-d53243f8b885"
      },
      "outputs": [
        {
          "output_type": "stream",
          "name": "stdout",
          "text": [
            "Cauchy Matrix:\n",
            "[[-0.33333333 -0.25       -0.2       ]\n",
            " [-0.5        -0.33333333 -0.25      ]\n",
            " [-1.         -0.5        -0.33333333]]\n"
          ]
        }
      ],
      "source": [
        "X = np.array([1, 2, 3])\n",
        "Y = np.array([4, 5, 6])\n",
        "\n",
        "diff_matrix = 1 / (X[:, np.newaxis] - Y)\n",
        "\n",
        "print(\"Cauchy Matrix:\")\n",
        "print(diff_matrix)"
      ]
    },
    {
      "cell_type": "markdown",
      "id": "7f45d2f9",
      "metadata": {
        "id": "7f45d2f9"
      },
      "source": [
        "#### 48. Print the minimum and maximum representable value for each numpy scalar type (★★☆)"
      ]
    },
    {
      "cell_type": "code",
      "execution_count": null,
      "id": "a7f37b9e",
      "metadata": {
        "id": "a7f37b9e",
        "colab": {
          "base_uri": "https://localhost:8080/"
        },
        "outputId": "e2fc1245-9781-4aef-c30e-cb57731e6a05"
      },
      "outputs": [
        {
          "output_type": "stream",
          "name": "stdout",
          "text": [
            "<class 'numpy.int8'> : -128 127\n",
            "<class 'numpy.int32'> : -2147483648 2147483647\n",
            "<class 'numpy.int64'> : -9223372036854775808 9223372036854775807\n",
            "<class 'numpy.float32'> : -3.4028235e+38 3.4028235e+38 1.1920929e-07\n",
            "<class 'numpy.float64'> : -1.7976931348623157e+308 1.7976931348623157e+308 2.220446049250313e-16\n"
          ]
        }
      ],
      "source": [
        "for dtype in [np.int8, np.int32, np.int64]:\n",
        "  print(dtype, \":\", np.iinfo(dtype).min, np.iinfo(dtype).max)\n",
        "\n",
        "for dtype in [np.float32, np.float64]:\n",
        "  print(dtype, \":\", np.finfo(dtype).min, np.finfo(dtype).max, np.finfo(dtype).eps)"
      ]
    },
    {
      "cell_type": "markdown",
      "id": "1d269f07",
      "metadata": {
        "id": "1d269f07"
      },
      "source": [
        "#### 49. How to print all the values of an array? (★★☆)"
      ]
    },
    {
      "cell_type": "code",
      "execution_count": null,
      "id": "fde90b07",
      "metadata": {
        "id": "fde90b07",
        "colab": {
          "base_uri": "https://localhost:8080/"
        },
        "outputId": "ca4c4db2-777c-46cd-eaae-94fdf512fbfa"
      },
      "outputs": [
        {
          "output_type": "stream",
          "name": "stdout",
          "text": [
            "[1 2 3]\n"
          ]
        }
      ],
      "source": [
        "print(X)"
      ]
    },
    {
      "cell_type": "code",
      "source": [
        "for x in X :\n",
        "\n",
        "  print(x,end = \" \")"
      ],
      "metadata": {
        "colab": {
          "base_uri": "https://localhost:8080/"
        },
        "id": "uzP_S92yx8au",
        "outputId": "c9f3c450-2014-459d-9f13-8f5d3b44d767"
      },
      "id": "uzP_S92yx8au",
      "execution_count": null,
      "outputs": [
        {
          "output_type": "stream",
          "name": "stdout",
          "text": [
            "1 2 3 "
          ]
        }
      ]
    },
    {
      "cell_type": "markdown",
      "id": "ed655678",
      "metadata": {
        "id": "ed655678"
      },
      "source": [
        "#### 50. How to find the closest value (to a given scalar) in a vector? (★★☆)"
      ]
    },
    {
      "cell_type": "code",
      "execution_count": null,
      "id": "55e0812f",
      "metadata": {
        "id": "55e0812f",
        "colab": {
          "base_uri": "https://localhost:8080/"
        },
        "outputId": "98ae2f4d-24c2-44b8-946a-85cdc9d59095"
      },
      "outputs": [
        {
          "output_type": "stream",
          "name": "stdout",
          "text": [
            "Vector: [1 3 5 7 9]\n",
            "Scalar: 6\n",
            "Closest Value: 5\n"
          ]
        }
      ],
      "source": [
        "vector = np.array([1, 3, 5, 7, 9])\n",
        "\n",
        "scalar = 6\n",
        "\n",
        "absolute_diff = np.abs(vector - scalar)\n",
        "\n",
        "closest_index = np.argmin(absolute_diff)\n",
        "\n",
        "closest_value = vector[closest_index]\n",
        "\n",
        "print(\"Vector:\", vector)\n",
        "print(\"Scalar:\", scalar)\n",
        "print(\"Closest Value:\", closest_value)"
      ]
    },
    {
      "cell_type": "markdown",
      "id": "3f73f88f",
      "metadata": {
        "id": "3f73f88f"
      },
      "source": [
        "#### 51. Create a structured array representing a position (x,y) and a color (r,g,b) (★★☆)"
      ]
    },
    {
      "cell_type": "code",
      "execution_count": null,
      "id": "74b51105",
      "metadata": {
        "id": "74b51105",
        "colab": {
          "base_uri": "https://localhost:8080/"
        },
        "outputId": "86a22eaa-ec44-4941-aa02-c3a3ae5d0d4c"
      },
      "outputs": [
        {
          "output_type": "stream",
          "name": "stdout",
          "text": [
            "[((5.2, 0.), (1., 0., 0.)) ((0. , 0.), (0., 0., 0.))\n",
            " ((0. , 0.), (0., 0., 0.)) ((0. , 0.), (0., 0., 0.))\n",
            " ((0. , 0.), (0., 0., 0.)) ((0. , 0.), (0., 0., 0.))\n",
            " ((0. , 0.), (0., 0., 0.)) ((0. , 0.), (0., 0., 0.))\n",
            " ((0. , 0.), (0., 0., 0.)) ((0. , 0.), (0., 0., 0.))]\n"
          ]
        },
        {
          "output_type": "stream",
          "name": "stderr",
          "text": [
            "<ipython-input-3-e2f66361af84>:4: FutureWarning: Passing (type, 1) or '1type' as a synonym of type is deprecated; in a future version of numpy, it will be understood as (type, (1,)) / '(1,)type'.\n",
            "  data = np.zeros(10, dtype=dtype)\n"
          ]
        }
      ],
      "source": [
        "dtype = [('position', [('x', float, 1), ('y', float, 1)]),\n",
        "         ('color', [('r', float, 1), ('g', float, 1), ('b', float, 1)])]\n",
        "\n",
        "data = np.zeros(10, dtype=dtype)\n",
        "\n",
        "data[0]['position']['x'] = 5.2\n",
        "data[0]['color']['r'] = 1\n",
        "\n",
        "print(data)"
      ]
    },
    {
      "cell_type": "markdown",
      "id": "db83eee0",
      "metadata": {
        "id": "db83eee0"
      },
      "source": [
        "#### 52. Consider a random vector with shape (100,2) representing coordinates, find point by point distances (★★☆)"
      ]
    },
    {
      "cell_type": "code",
      "execution_count": null,
      "id": "10884922",
      "metadata": {
        "id": "10884922",
        "colab": {
          "base_uri": "https://localhost:8080/"
        },
        "outputId": "e0b7c649-82e0-49b2-dd51-2f228dadd079"
      },
      "outputs": [
        {
          "output_type": "stream",
          "name": "stdout",
          "text": [
            "[[0.         0.34344986 0.53565178 ... 0.79420873 0.90152356 0.27398262]\n",
            " [0.34344986 0.         0.43386486 ... 0.45107376 0.62361734 0.42413675]\n",
            " [0.53565178 0.43386486 0.         ... 0.62832459 0.47339005 0.3365457 ]\n",
            " ...\n",
            " [0.79420873 0.45107376 0.62832459 ... 0.         0.41097558 0.81331177]\n",
            " [0.90152356 0.62361734 0.47339005 ... 0.41097558 0.         0.78677248]\n",
            " [0.27398262 0.42413675 0.3365457  ... 0.81331177 0.78677248 0.        ]]\n"
          ]
        }
      ],
      "source": [
        "coordinates = np.random.rand(100, 2)\n",
        "\n",
        "distances = np.sqrt(((coordinates - coordinates[:, None])**2).sum(axis=2))\n",
        "\n",
        "distances -= np.diag(np.diag(distances))\n",
        "\n",
        "print(distances)"
      ]
    },
    {
      "cell_type": "markdown",
      "id": "b90e0bb2",
      "metadata": {
        "id": "b90e0bb2"
      },
      "source": [
        "#### 53. How to convert a float (32 bits) array into an integer (32 bits) in place?"
      ]
    },
    {
      "cell_type": "code",
      "execution_count": null,
      "id": "db97ea05",
      "metadata": {
        "id": "db97ea05",
        "colab": {
          "base_uri": "https://localhost:8080/"
        },
        "outputId": "e4ed6b7d-b90d-4a4a-f6f9-a2b8924fef69"
      },
      "outputs": [
        {
          "output_type": "stream",
          "name": "stdout",
          "text": [
            "Original array (float32): [0.82119316 0.6731493  0.25966105 0.6077339  0.5758792  0.78038484\n",
            " 0.00490574 0.38723287 0.5530625  0.90812635]\n",
            "Converted array (int32, clipped): [0.82119316 0.6731493  0.25966105 0.6077339  0.5758792  0.78038484\n",
            " 0.00490574 0.38723287 0.5530625  0.90812635]\n"
          ]
        }
      ],
      "source": [
        "\n",
        "def float_to_int_inplace_clip(float_array):\n",
        "\n",
        "  float_array[:] = np.clip(float_array, np.iinfo(np.int32).min, np.iinfo(np.int32).max, out=float_array)\n",
        "  float_array.astype(np.int32)\n",
        "\n",
        "data = np.random.rand(10).astype(np.float32)\n",
        "print(f\"Original array (float32): {data}\")\n",
        "\n",
        "float_to_int_inplace_clip(data)\n",
        "\n",
        "print(f\"Converted array (int32, clipped): {data}\")"
      ]
    },
    {
      "cell_type": "markdown",
      "id": "0d1b021c",
      "metadata": {
        "id": "0d1b021c"
      },
      "source": [
        "#### 54. How to read the following file? (★★☆)\n",
        "```\n",
        "1, 2, 3, 4, 5\n",
        "6,  ,  , 7, 8\n",
        " ,  , 9,10,11\n",
        "```"
      ]
    },
    {
      "cell_type": "code",
      "execution_count": null,
      "id": "9551928e",
      "metadata": {
        "id": "9551928e"
      },
      "outputs": [],
      "source": [
        "# import pandas as pd\n",
        "\n",
        "# x = pd.read_csv(path)"
      ]
    },
    {
      "cell_type": "markdown",
      "id": "56928772",
      "metadata": {
        "id": "56928772"
      },
      "source": [
        "#### 55. What is the equivalent of enumerate for numpy arrays? (★★☆)"
      ]
    },
    {
      "cell_type": "code",
      "execution_count": null,
      "id": "327d9b88",
      "metadata": {
        "id": "327d9b88",
        "colab": {
          "base_uri": "https://localhost:8080/"
        },
        "outputId": "a88059d6-d57f-4368-c58f-4f55eec0b876"
      },
      "outputs": [
        {
          "output_type": "stream",
          "name": "stdout",
          "text": [
            "Index: (0, 0), Value: 0\n",
            "Index: (0, 1), Value: 1\n",
            "Index: (0, 2), Value: 2\n",
            "Index: (0, 3), Value: 3\n",
            "Index: (1, 0), Value: 4\n",
            "Index: (1, 1), Value: 5\n",
            "Index: (1, 2), Value: 6\n",
            "Index: (1, 3), Value: 7\n",
            "Index: (2, 0), Value: 8\n",
            "Index: (2, 1), Value: 9\n",
            "Index: (2, 2), Value: 10\n",
            "Index: (2, 3), Value: 11\n"
          ]
        }
      ],
      "source": [
        "data = np.arange(12).reshape(3, 4)\n",
        "\n",
        "for index, value in np.ndenumerate(data):\n",
        "  print(f\"Index: {index}, Value: {value}\")"
      ]
    },
    {
      "cell_type": "markdown",
      "id": "257e0bac",
      "metadata": {
        "id": "257e0bac"
      },
      "source": [
        "#### 56. Generate a generic 2D Gaussian-like array (★★☆)"
      ]
    },
    {
      "cell_type": "code",
      "execution_count": null,
      "id": "1325d664",
      "metadata": {
        "id": "1325d664",
        "colab": {
          "base_uri": "https://localhost:8080/"
        },
        "outputId": "b296a79e-a3f0-4b0f-ae87-6d502fb27c84"
      },
      "outputs": [
        {
          "output_type": "stream",
          "name": "stdout",
          "text": [
            "[[1.38879439e-11 1.93776925e-09 7.86683682e-08 9.29249200e-07\n",
            "  3.19373018e-06 3.19373018e-06 9.29249200e-07 7.86683682e-08\n",
            "  1.93776925e-09 1.38879439e-11]\n",
            " [1.93776925e-09 2.70374774e-07 1.09765093e-05 1.29657100e-04\n",
            "  4.45617596e-04 4.45617596e-04 1.29657100e-04 1.09765093e-05\n",
            "  2.70374774e-07 1.93776925e-09]\n",
            " [7.86683682e-08 1.09765093e-05 4.45617596e-04 5.26373946e-03\n",
            "  1.80909100e-02 1.80909100e-02 5.26373946e-03 4.45617596e-04\n",
            "  1.09765093e-05 7.86683682e-08]\n",
            " [9.29249200e-07 1.29657100e-04 5.26373946e-03 6.21765240e-02\n",
            "  2.13694068e-01 2.13694068e-01 6.21765240e-02 5.26373946e-03\n",
            "  1.29657100e-04 9.29249200e-07]\n",
            " [3.19373018e-06 4.45617596e-04 1.80909100e-02 2.13694068e-01\n",
            "  7.34443672e-01 7.34443672e-01 2.13694068e-01 1.80909100e-02\n",
            "  4.45617596e-04 3.19373018e-06]]\n"
          ]
        }
      ],
      "source": [
        "size = 10\n",
        "\n",
        "mu = 0.0\n",
        "sigma = 1.0\n",
        "\n",
        "x, y = np.meshgrid(np.linspace(-size/2, size/2, size), np.linspace(-size/2, size/2, size))\n",
        "\n",
        "d = np.sqrt(x**2 + y**2)\n",
        "\n",
        "g = np.exp(-( (d - mu)**2 / (2.0 * sigma**2) ))\n",
        "\n",
        "print(g[:5, :10])"
      ]
    },
    {
      "cell_type": "markdown",
      "id": "441347ee",
      "metadata": {
        "id": "441347ee"
      },
      "source": [
        "#### 57. How to randomly place p elements in a 2D array? (★★☆)"
      ]
    },
    {
      "cell_type": "code",
      "execution_count": null,
      "id": "1e61fce5",
      "metadata": {
        "id": "1e61fce5",
        "colab": {
          "base_uri": "https://localhost:8080/"
        },
        "outputId": "8fe5f6a1-214b-4778-80b9-c596bc9483a3"
      },
      "outputs": [
        {
          "output_type": "stream",
          "name": "stdout",
          "text": [
            "Original Array:\n",
            "[None, 'C', 'B', None, None]\n",
            "[None, None, None, None, None]\n",
            "[None, None, 'A', None, None]\n",
            "[None, None, None, None, None]\n",
            "[None, None, None, None, None]\n",
            "\n",
            "Modified Array with 3 elements placed:\n",
            "[None, 'C', 'B', None, None]\n",
            "[None, None, None, None, None]\n",
            "[None, None, 'A', None, None]\n",
            "[None, None, None, None, None]\n",
            "[None, None, None, None, None]\n"
          ]
        }
      ],
      "source": [
        "def place_elements_loop(array, elements, p):\n",
        "\n",
        "  rows, cols = len(array), len(array[0])\n",
        "  placed = 0\n",
        "  while placed < p:\n",
        "    i = np.random.randint(0, rows-1)\n",
        "    j = np.random.randint(0, cols-1)\n",
        "    if array[i][j] is None:\n",
        "      array[i][j] = elements.pop(0)\n",
        "      placed += 1\n",
        "  return array\n",
        "\n",
        "array = [[None] * 5 for _ in range(5)]\n",
        "elements = [\"A\", \"B\", \"C\", \"D\", \"E\"]\n",
        "p = 3\n",
        "modified_array = place_elements_loop(array, elements.copy(), p)\n",
        "\n",
        "print(\"Original Array:\")\n",
        "for row in array:\n",
        "  print(row)\n",
        "\n",
        "print(\"\\nModified Array with\", p, \"elements placed:\")\n",
        "for row in modified_array:\n",
        "  print(row)"
      ]
    },
    {
      "cell_type": "markdown",
      "id": "8a76af52",
      "metadata": {
        "id": "8a76af52"
      },
      "source": [
        "#### 58. Subtract the mean of each row of a matrix (★★☆)"
      ]
    },
    {
      "cell_type": "code",
      "execution_count": null,
      "id": "65cf18e9",
      "metadata": {
        "id": "65cf18e9",
        "colab": {
          "base_uri": "https://localhost:8080/"
        },
        "outputId": "8168ac94-1533-4e64-994d-ea2ded7f60cc"
      },
      "outputs": [
        {
          "output_type": "stream",
          "name": "stdout",
          "text": [
            "Original array:\n",
            " [[1 2 3]\n",
            " [4 5 6]\n",
            " [7 8 9]]\n",
            "\n",
            "Centered array:\n",
            " [[-1.  0.  1.]\n",
            " [-1.  0.  1.]\n",
            " [-1.  0.  1.]]\n"
          ]
        }
      ],
      "source": [
        "array = np.array([[1, 2, 3],\n",
        "                   [4, 5, 6],\n",
        "                   [7, 8, 9]])\n",
        "\n",
        "mean_of_rows = np.mean(array, axis=1)[:, np.newaxis]\n",
        "centered_array = array - mean_of_rows\n",
        "\n",
        "print(\"Original array:\\n\", array)\n",
        "print(\"\\nCentered array:\\n\", centered_array)"
      ]
    },
    {
      "cell_type": "markdown",
      "id": "d2dc8b5f",
      "metadata": {
        "id": "d2dc8b5f"
      },
      "source": [
        "#### 59. How to sort an array by the nth column? (★★☆)"
      ]
    },
    {
      "cell_type": "code",
      "execution_count": null,
      "id": "83b5eafe",
      "metadata": {
        "id": "83b5eafe",
        "colab": {
          "base_uri": "https://localhost:8080/"
        },
        "outputId": "1e27fc9a-c125-402e-acd7-b56d55a40a8e"
      },
      "outputs": [
        {
          "output_type": "stream",
          "name": "stdout",
          "text": [
            "Original array:\n",
            " [[3 1 4]\n",
            " [1 5 6]\n",
            " [4 2 8]]\n",
            "\n",
            "Sorted array by second column:\n",
            " [[3 1 4]\n",
            " [4 2 8]\n",
            " [1 5 6]]\n"
          ]
        }
      ],
      "source": [
        "array = np.array([[3, 1, 4],\n",
        "                   [1, 5, 6],\n",
        "                   [4, 2, 8]])\n",
        "\n",
        "sorted_array = array[array[:, 1].argsort()]\n",
        "\n",
        "print(\"Original array:\\n\", array)\n",
        "print(\"\\nSorted array by second column:\\n\", sorted_array)"
      ]
    },
    {
      "cell_type": "markdown",
      "id": "4886f74e",
      "metadata": {
        "id": "4886f74e"
      },
      "source": [
        "#### 60. How to tell if a given 2D array has null columns? (★★☆)"
      ]
    },
    {
      "cell_type": "code",
      "execution_count": null,
      "id": "7a066dd9",
      "metadata": {
        "id": "7a066dd9",
        "colab": {
          "base_uri": "https://localhost:8080/"
        },
        "outputId": "9ef5f66a-a37a-4bac-c949-9298f7238632"
      },
      "outputs": [
        {
          "output_type": "stream",
          "name": "stdout",
          "text": [
            "Array with null columns: True\n",
            "Array without null columns: False\n"
          ]
        }
      ],
      "source": [
        "def has_null_columns(array):\n",
        "\n",
        "    arr = np.array(array)\n",
        "\n",
        "    return np.any(np.all(arr == None, axis=0))\n",
        "\n",
        "array_with_null_columns = [\n",
        "    [1, None, 3],\n",
        "    [None, None, None],\n",
        "    [4, None, 6]\n",
        "]\n",
        "\n",
        "array_without_null_columns = [\n",
        "    [1, 2, 3],\n",
        "    [4, 5, 6],\n",
        "    [7, 8, 9]\n",
        "]\n",
        "\n",
        "print(\"Array with null columns:\", has_null_columns(array_with_null_columns))\n",
        "print(\"Array without null columns:\", has_null_columns(array_without_null_columns))"
      ]
    },
    {
      "cell_type": "markdown",
      "id": "1f5ad2a9",
      "metadata": {
        "id": "1f5ad2a9"
      },
      "source": [
        "#### 61. Find the nearest value from a given value in an array (★★☆)"
      ]
    },
    {
      "cell_type": "code",
      "execution_count": null,
      "id": "f53df167",
      "metadata": {
        "id": "f53df167",
        "colab": {
          "base_uri": "https://localhost:8080/"
        },
        "outputId": "af0fb4d5-394e-41e3-a257-91aef175cc06"
      },
      "outputs": [
        {
          "output_type": "stream",
          "name": "stdout",
          "text": [
            "Nearest value to 6 in the array is: 5\n"
          ]
        }
      ],
      "source": [
        "def find_nearest_value(arr, value):\n",
        "    nearest = None\n",
        "    min_difference = float('inf')\n",
        "\n",
        "    for num in arr:\n",
        "        difference = abs(num - value)\n",
        "        if difference < min_difference:\n",
        "            min_difference = difference\n",
        "            nearest = num\n",
        "\n",
        "    return nearest\n",
        "\n",
        "arr = [1, 3, 5, 7, 9]\n",
        "given_value = 6\n",
        "nearest_value = find_nearest_value(arr, given_value)\n",
        "print(\"Nearest value to\", given_value, \"in the array is:\", nearest_value)"
      ]
    },
    {
      "cell_type": "markdown",
      "id": "aa48f9b2",
      "metadata": {
        "id": "aa48f9b2"
      },
      "source": [
        "#### 62. Considering two arrays with shape (1,3) and (3,1), how to compute their sum using an iterator? (★★☆)"
      ]
    },
    {
      "cell_type": "code",
      "execution_count": null,
      "id": "68987301",
      "metadata": {
        "id": "68987301",
        "colab": {
          "base_uri": "https://localhost:8080/"
        },
        "outputId": "0266ab93-e22c-44aa-9e2b-299486ef3208"
      },
      "outputs": [
        {
          "output_type": "stream",
          "name": "stdout",
          "text": [
            "Sum of the arrays: 21\n"
          ]
        }
      ],
      "source": [
        "def sum_arrays(arr1, arr2):\n",
        "    iterator1 = np.nditer(arr1)\n",
        "    iterator2 = np.nditer(arr2)\n",
        "    result = 0\n",
        "\n",
        "    while not (iterator1.finished and iterator2.finished):\n",
        "        result += iterator1[0] + iterator2[0]\n",
        "        iterator1.iternext()\n",
        "        iterator2.iternext()\n",
        "\n",
        "    return result\n",
        "\n",
        "arr1 = np.array([[1, 2, 3]])\n",
        "arr2 = np.array([[4], [5], [6]])\n",
        "sum_result = sum_arrays(arr1, arr2)\n",
        "print(\"Sum of the arrays:\", sum_result)"
      ]
    },
    {
      "cell_type": "markdown",
      "id": "0bed1516",
      "metadata": {
        "id": "0bed1516"
      },
      "source": [
        "#### 63. Create an array class that has a name attribute (★★☆)"
      ]
    },
    {
      "cell_type": "code",
      "execution_count": null,
      "id": "fa1d52fc",
      "metadata": {
        "id": "fa1d52fc",
        "colab": {
          "base_uri": "https://localhost:8080/"
        },
        "outputId": "78257b0f-3bcb-489f-b733-eccb6d283026"
      },
      "outputs": [
        {
          "output_type": "stream",
          "name": "stdout",
          "text": [
            "Array:\n",
            "[[1 2 3]\n",
            " [4 5 6]]\n",
            "Name: MyArray\n"
          ]
        }
      ],
      "source": [
        "class NamedArray(np.ndarray):\n",
        "    def __new__(cls, input_array, name=None):\n",
        "        obj = np.asarray(input_array).view(cls)\n",
        "        obj.name = name\n",
        "        return obj\n",
        "\n",
        "    def __array_finalize__(self, obj):\n",
        "        if obj is None:\n",
        "            return\n",
        "        self.name = getattr(obj, 'name', None)\n",
        "\n",
        "arr = NamedArray([[1, 2, 3], [4, 5, 6]], name=\"MyArray\")\n",
        "print(\"Array:\")\n",
        "print(arr)\n",
        "print(\"Name:\", arr.name)"
      ]
    },
    {
      "cell_type": "markdown",
      "id": "463a40bb",
      "metadata": {
        "id": "463a40bb"
      },
      "source": [
        "#### 64. Consider a given vector, how to add 1 to each element indexed by a second vector (be careful with repeated indices)? (★★★)"
      ]
    },
    {
      "cell_type": "code",
      "execution_count": null,
      "id": "cdb2cad0",
      "metadata": {
        "id": "cdb2cad0",
        "colab": {
          "base_uri": "https://localhost:8080/"
        },
        "outputId": "15c003f8-4006-40c3-aca6-65650d76d94b"
      },
      "outputs": [
        {
          "output_type": "stream",
          "name": "stdout",
          "text": [
            "Result vector: [2 2 4 5 5]\n"
          ]
        }
      ],
      "source": [
        "def add_one_at_indices(vector, indices):\n",
        "\n",
        "    mask = np.zeros_like(vector, dtype=bool)\n",
        "    mask[indices] = True\n",
        "\n",
        "    vector[mask] += 1\n",
        "\n",
        "    return vector\n",
        "\n",
        "original_vector = np.array([1, 2, 3, 4, 5])\n",
        "indices_to_increment = np.array([0, 2, 3])\n",
        "\n",
        "result_vector = add_one_at_indices(original_vector, indices_to_increment)\n",
        "print(\"Result vector:\", result_vector)"
      ]
    },
    {
      "cell_type": "markdown",
      "id": "2a2f8219",
      "metadata": {
        "id": "2a2f8219"
      },
      "source": [
        "#### 65. How to accumulate elements of a vector (X) to an array (F) based on an index list (I)? (★★★)"
      ]
    },
    {
      "cell_type": "code",
      "execution_count": null,
      "id": "9cc34a77",
      "metadata": {
        "id": "9cc34a77",
        "colab": {
          "base_uri": "https://localhost:8080/"
        },
        "outputId": "a6d7d20c-fb3a-4875-dbe2-598deb80959b"
      },
      "outputs": [
        {
          "output_type": "stream",
          "name": "stdout",
          "text": [
            "Result array: [1. 0. 2. 0. 3.]\n"
          ]
        }
      ],
      "source": [
        "def accumulate_elements(X, F, I):\n",
        "    F[I] += X\n",
        "    return F\n",
        "\n",
        "X = np.array([1, 2, 3])\n",
        "F = np.zeros(5)\n",
        "I = np.array([0, 2, 4])\n",
        "\n",
        "result_array = accumulate_elements(X, F, I)\n",
        "print(\"Result array:\", result_array)"
      ]
    },
    {
      "cell_type": "markdown",
      "id": "6a6a3c66",
      "metadata": {
        "id": "6a6a3c66"
      },
      "source": [
        "#### 66. Considering a (w,h,3) image of (dtype=ubyte), compute the number of unique colors (★★☆)"
      ]
    },
    {
      "cell_type": "code",
      "execution_count": null,
      "id": "c88f5a5e",
      "metadata": {
        "id": "c88f5a5e",
        "colab": {
          "base_uri": "https://localhost:8080/"
        },
        "outputId": "56fbb17e-fe89-46e3-ee29-b2f7cfbf08aa"
      },
      "outputs": [
        {
          "output_type": "stream",
          "name": "stdout",
          "text": [
            "Number of unique colors in the image: 9996\n"
          ]
        }
      ],
      "source": [
        "def count_unique_colors(image):\n",
        "\n",
        "    reshaped_image = image.reshape(-1, 3)\n",
        "\n",
        "    unique_colors = np.unique(reshaped_image, axis=0)\n",
        "\n",
        "    return unique_colors.shape[0]\n",
        "\n",
        "image = np.random.randint(0, 256, size=(100, 100, 3), dtype=np.uint8)\n",
        "num_unique_colors = count_unique_colors(image)\n",
        "print(\"Number of unique colors in the image:\", num_unique_colors)"
      ]
    },
    {
      "cell_type": "markdown",
      "id": "4b030baa",
      "metadata": {
        "id": "4b030baa"
      },
      "source": [
        "#### 67. Considering a four dimensions array, how to get sum over the last two axis at once? (★★★)"
      ]
    },
    {
      "cell_type": "code",
      "execution_count": null,
      "id": "cd2e7c9c",
      "metadata": {
        "id": "cd2e7c9c",
        "colab": {
          "base_uri": "https://localhost:8080/"
        },
        "outputId": "205c96e7-756e-4baf-edd4-2b7794e90649"
      },
      "outputs": [
        {
          "output_type": "stream",
          "name": "stdout",
          "text": [
            "Original 4D array:\n",
            "[[[[3 7 0 8 6]\n",
            "   [2 8 9 5 5]\n",
            "   [6 0 8 0 3]\n",
            "   [3 7 2 1 1]]\n",
            "\n",
            "  [[8 4 6 9 9]\n",
            "   [0 8 8 7 6]\n",
            "   [8 0 5 7 6]\n",
            "   [7 2 7 4 4]]\n",
            "\n",
            "  [[1 4 8 2 5]\n",
            "   [8 8 5 5 0]\n",
            "   [1 1 2 1 4]\n",
            "   [0 5 6 6 0]]]\n",
            "\n",
            "\n",
            " [[[0 4 2 8 6]\n",
            "   [9 0 2 1 7]\n",
            "   [5 9 2 6 5]\n",
            "   [1 4 8 9 3]]\n",
            "\n",
            "  [[5 4 2 0 1]\n",
            "   [6 8 6 0 1]\n",
            "   [9 7 7 1 7]\n",
            "   [9 0 3 1 2]]\n",
            "\n",
            "  [[2 3 6 4 4]\n",
            "   [6 9 0 2 4]\n",
            "   [3 6 9 3 5]\n",
            "   [4 9 4 1 2]]]]\n",
            "\n",
            "Sum over the last two axes at once:\n",
            "[[ 84 115  72]\n",
            " [ 91  79  86]]\n"
          ]
        }
      ],
      "source": [
        "array_4d = np.random.randint(0, 10, size=(2, 3, 4, 5))\n",
        "\n",
        "sum_last_two_axes = np.sum(array_4d, axis=(-2, -1))\n",
        "\n",
        "print(\"Original 4D array:\")\n",
        "print(array_4d)\n",
        "print(\"\\nSum over the last two axes at once:\")\n",
        "print(sum_last_two_axes)"
      ]
    },
    {
      "cell_type": "markdown",
      "id": "1fa6053b",
      "metadata": {
        "id": "1fa6053b"
      },
      "source": [
        "#### 68. Considering a one-dimensional vector D, how to compute means of subsets of D using a vector S of same size describing subset  indices? (★★★)"
      ]
    },
    {
      "cell_type": "code",
      "execution_count": null,
      "id": "9b5a070d",
      "metadata": {
        "id": "9b5a070d",
        "colab": {
          "base_uri": "https://localhost:8080/"
        },
        "outputId": "73da6d62-6c9a-484c-b6e7-62b1b58c62a8"
      },
      "outputs": [
        {
          "output_type": "stream",
          "name": "stdout",
          "text": [
            "Subset means: [4.33333333 5.75       6.33333333]\n"
          ]
        }
      ],
      "source": [
        "def compute_subset_means(D, S):\n",
        "\n",
        "    unique_indices = np.unique(S)\n",
        "\n",
        "    subset_means = np.zeros_like(unique_indices, dtype=float)\n",
        "\n",
        "    for i, idx in enumerate(unique_indices):\n",
        "        subset_indices = np.where(S == idx)\n",
        "        subset_values = D[subset_indices]\n",
        "        subset_means[i] = np.mean(subset_values)\n",
        "\n",
        "    return subset_means\n",
        "\n",
        "D = np.array([1, 2, 3, 4, 5, 6, 7, 8, 9, 10])\n",
        "S = np.array([0, 1, 0, 1, 2, 2, 1, 2, 0, 1])\n",
        "\n",
        "subset_means = compute_subset_means(D, S)\n",
        "print(\"Subset means:\", subset_means)"
      ]
    },
    {
      "cell_type": "markdown",
      "id": "2e7b0395",
      "metadata": {
        "id": "2e7b0395"
      },
      "source": [
        "#### 69. How to get the diagonal of a dot product? (★★★)"
      ]
    },
    {
      "cell_type": "code",
      "execution_count": null,
      "id": "ae437196",
      "metadata": {
        "id": "ae437196",
        "colab": {
          "base_uri": "https://localhost:8080/"
        },
        "outputId": "41f94e5a-9834-4e59-8a5d-734a1370d493"
      },
      "outputs": [
        {
          "output_type": "stream",
          "name": "stdout",
          "text": [
            "Diagonal of the dot product: [19 50]\n"
          ]
        }
      ],
      "source": [
        "def diagonal_of_dot_product(A, B):\n",
        "\n",
        "    dot_product = np.einsum('ij,jk->ik', A, B)\n",
        "\n",
        "    diagonal = np.diagonal(dot_product)\n",
        "\n",
        "    return diagonal\n",
        "\n",
        "A = np.array([[1, 2], [3, 4]])\n",
        "B = np.array([[5, 6], [7, 8]])\n",
        "diagonal = diagonal_of_dot_product(A, B)\n",
        "print(\"Diagonal of the dot product:\", diagonal)"
      ]
    },
    {
      "cell_type": "markdown",
      "id": "2bf2f8e4",
      "metadata": {
        "id": "2bf2f8e4"
      },
      "source": [
        "#### 70. Consider the vector [1, 2, 3, 4, 5], how to build a new vector with 3 consecutive zeros interleaved between each value? (★★★)"
      ]
    },
    {
      "cell_type": "code",
      "execution_count": null,
      "id": "8a427342",
      "metadata": {
        "id": "8a427342",
        "colab": {
          "base_uri": "https://localhost:8080/"
        },
        "outputId": "2011ebb7-9c7b-4146-bcec-2de4b061ac6c"
      },
      "outputs": [
        {
          "output_type": "stream",
          "name": "stdout",
          "text": [
            "Original vector: [1 2 3 4 5]\n",
            "New vector with 3 consecutive zeros interleaved between each value: [1 0 0 0 2 0 0 0 3 0 0 0 4 0 0 0 5]\n"
          ]
        }
      ],
      "source": [
        "original_vector = np.array([1, 2, 3, 4, 5])\n",
        "\n",
        "new_vector = np.zeros(len(original_vector) + (len(original_vector) - 1) * 3, dtype=original_vector.dtype)\n",
        "\n",
        "new_vector[::4] = original_vector\n",
        "\n",
        "print(\"Original vector:\", original_vector)\n",
        "print(\"New vector with 3 consecutive zeros interleaved between each value:\", new_vector)"
      ]
    },
    {
      "cell_type": "markdown",
      "id": "fff802ea",
      "metadata": {
        "id": "fff802ea"
      },
      "source": [
        "#### 71. Consider an array of dimension (5,5,3), how to mulitply it by an array with dimensions (5,5)? (★★★)"
      ]
    },
    {
      "cell_type": "code",
      "execution_count": 2,
      "id": "e83ab7b5",
      "metadata": {
        "id": "e83ab7b5",
        "colab": {
          "base_uri": "https://localhost:8080/"
        },
        "outputId": "4537f27f-2398-400e-e1ee-cb22f30e17bc"
      },
      "outputs": [
        {
          "output_type": "stream",
          "name": "stdout",
          "text": [
            "[[[0.32976413 0.38818357 0.19073147]\n",
            "  [0.27263905 0.17942402 0.06236169]\n",
            "  [0.36779092 0.2946461  0.12862132]\n",
            "  [0.05719162 0.04497645 0.02979044]\n",
            "  [0.38713677 0.66041072 0.63631217]]\n",
            "\n",
            " [[0.65734499 0.13901321 0.2905282 ]\n",
            "  [0.07412173 0.37515553 0.35180258]\n",
            "  [0.03718816 0.18734153 0.15568272]\n",
            "  [0.00917408 0.01195598 0.01150704]\n",
            "  [0.21542646 0.07989587 0.27033954]]\n",
            "\n",
            " [[0.28719273 0.20822907 0.12188652]\n",
            "  [0.42707219 0.463228   0.25924276]\n",
            "  [0.42734549 0.30369353 0.36272984]\n",
            "  [0.08382467 0.09616451 0.01403078]\n",
            "  [0.33076786 0.28291564 0.18908716]]\n",
            "\n",
            " [[0.01752717 0.56949029 0.01756649]\n",
            "  [0.27180427 0.30041787 0.32154251]\n",
            "  [0.05054548 0.01771901 0.1335152 ]\n",
            "  [0.02040992 0.07406902 0.08189201]\n",
            "  [0.31965576 0.08233301 0.25975743]]\n",
            "\n",
            " [[0.41527551 0.05374355 0.39532205]\n",
            "  [0.41033503 0.00333664 0.10515906]\n",
            "  [0.15487099 0.41142715 0.39178358]\n",
            "  [0.25856856 0.20853504 0.34760909]\n",
            "  [0.65424862 0.68804001 0.02240373]]]\n"
          ]
        }
      ],
      "source": [
        "array_3d = np.random.rand(5, 5, 3)\n",
        "array_2d = np.random.rand(5, 5)\n",
        "\n",
        "result = array_3d * array_2d[:, :, np.newaxis]\n",
        "\n",
        "print(result)"
      ]
    },
    {
      "cell_type": "markdown",
      "id": "a0865c04",
      "metadata": {
        "id": "a0865c04"
      },
      "source": [
        "#### 72. How to swap two rows of an array? (★★★)"
      ]
    },
    {
      "cell_type": "code",
      "execution_count": 3,
      "id": "bb510428",
      "metadata": {
        "id": "bb510428",
        "colab": {
          "base_uri": "https://localhost:8080/"
        },
        "outputId": "6345dce0-c712-467e-8b0e-d95f06a76d9b"
      },
      "outputs": [
        {
          "output_type": "stream",
          "name": "stdout",
          "text": [
            "[[4 5 6]\n",
            " [1 2 3]\n",
            " [7 8 9]]\n"
          ]
        }
      ],
      "source": [
        "array = np.array([[1, 2, 3],\n",
        "                  [4, 5, 6],\n",
        "                  [7, 8, 9]])\n",
        "\n",
        "array[[0, 1]] = array[[1, 0]]\n",
        "\n",
        "print(array)"
      ]
    },
    {
      "cell_type": "markdown",
      "id": "52beda8d",
      "metadata": {
        "id": "52beda8d"
      },
      "source": [
        "#### 73. Consider a set of 10 triplets describing 10 triangles (with shared vertices), find the set of unique line segments composing all the  triangles (★★★)"
      ]
    },
    {
      "cell_type": "code",
      "execution_count": 4,
      "id": "5b9895de",
      "metadata": {
        "id": "5b9895de",
        "colab": {
          "base_uri": "https://localhost:8080/"
        },
        "outputId": "61e5ee7c-918a-4ae2-db88-ea830e92edff"
      },
      "outputs": [
        {
          "output_type": "stream",
          "name": "stdout",
          "text": [
            "Unique line segments:\n",
            "((1, 2), (1, 3))\n",
            "((1, 0), (0, 1))\n",
            "((0, 3), (1, 2))\n",
            "((1, 2), (0, 2))\n",
            "((1, 4), (1, 3))\n",
            "((1, 2), (0, 3))\n",
            "((0, 5), (1, 4))\n",
            "((1, 1), (2, 1))\n",
            "((1, 4), (1, 5))\n",
            "((1, 3), (2, 3))\n",
            "((2, 1), (1, 2))\n",
            "((1, 2), (1, 1))\n",
            "((0, 0), (1, 0))\n",
            "((1, 4), (0, 4))\n",
            "((0, 5), (0, 4))\n",
            "((1, 1), (0, 1))\n",
            "((0, 1), (1, 0))\n",
            "((2, 3), (1, 4))\n",
            "((1, 4), (0, 5))\n",
            "((0, 3), (0, 2))\n",
            "((0, 3), (1, 4))\n",
            "((0, 4), (1, 4))\n",
            "((1, 0), (1, 1))\n",
            "((0, 1), (0, 0))\n",
            "((0, 2), (1, 2))\n",
            "((1, 5), (0, 5))\n",
            "((0, 1), (1, 2))\n",
            "((0, 4), (0, 3))\n",
            "((0, 2), (0, 1))\n",
            "((1, 3), (0, 3))\n"
          ]
        }
      ],
      "source": [
        "triangles = [\n",
        "    [(0, 0), (1, 0), (0, 1)],\n",
        "    [(1, 0), (1, 1), (0, 1)],\n",
        "    [(1, 1), (2, 1), (1, 2)],\n",
        "    [(0, 1), (1, 2), (0, 2)],\n",
        "    [(0, 2), (1, 2), (0, 3)],\n",
        "    [(1, 2), (1, 3), (0, 3)],\n",
        "    [(1, 3), (2, 3), (1, 4)],\n",
        "    [(0, 3), (1, 4), (0, 4)],\n",
        "    [(0, 4), (1, 4), (0, 5)],\n",
        "    [(1, 4), (1, 5), (0, 5)]\n",
        "]\n",
        "\n",
        "def get_segments(triangle):\n",
        "    segments = []\n",
        "    for i in range(3):\n",
        "\n",
        "        segment = (triangle[i], triangle[(i + 1) % 3])\n",
        "        segments.append(segment)\n",
        "    return segments\n",
        "\n",
        "unique_segments = set()\n",
        "\n",
        "for triangle in triangles:\n",
        "    segments = get_segments(triangle)\n",
        "    unique_segments.update(segments)\n",
        "\n",
        "print(\"Unique line segments:\")\n",
        "for segment in unique_segments:\n",
        "    print(segment)"
      ]
    },
    {
      "cell_type": "markdown",
      "id": "b1f8e571",
      "metadata": {
        "id": "b1f8e571"
      },
      "source": [
        "#### 74. Given a sorted array C that corresponds to a bincount, how to produce an array A such that np.bincount(A) == C? (★★★)"
      ]
    },
    {
      "cell_type": "code",
      "execution_count": 5,
      "id": "ea6d42e9",
      "metadata": {
        "id": "ea6d42e9",
        "colab": {
          "base_uri": "https://localhost:8080/"
        },
        "outputId": "09d53dc9-3f3d-4c3d-eaba-92575e0db5b1"
      },
      "outputs": [
        {
          "output_type": "stream",
          "name": "stdout",
          "text": [
            "Array A: [1 2 3 3 4 4 5 5 5 6 6 6 6 7 7 7 7 8 8 8 8 9 9 9 9]\n",
            "Is np.bincount(A) equal to C? True\n"
          ]
        }
      ],
      "source": [
        "C = np.array([0, 1, 1, 2, 2, 3, 4, 4, 4, 4])\n",
        "\n",
        "max_value = len(C) - 1\n",
        "\n",
        "A = np.repeat(np.arange(max_value + 1), C)\n",
        "\n",
        "print(\"Array A:\", A)\n",
        "\n",
        "print(\"Is np.bincount(A) equal to C?\", np.array_equal(np.bincount(A), C))"
      ]
    },
    {
      "cell_type": "markdown",
      "id": "db1ed658",
      "metadata": {
        "id": "db1ed658"
      },
      "source": [
        "#### 75. How to compute averages using a sliding window over an array? (★★★)"
      ]
    },
    {
      "cell_type": "code",
      "execution_count": 6,
      "id": "9dc6a98a",
      "metadata": {
        "id": "9dc6a98a",
        "colab": {
          "base_uri": "https://localhost:8080/"
        },
        "outputId": "a015fcb4-b1f5-47a2-d700-60109f7b4949"
      },
      "outputs": [
        {
          "output_type": "stream",
          "name": "stdout",
          "text": [
            "Original array: [ 1  2  3  4  5  6  7  8  9 10]\n",
            "Sliding window averages (window size = 3 ): [2. 3. 4. 5. 6. 7. 8. 9.]\n"
          ]
        }
      ],
      "source": [
        "def sliding_window_average(arr, window_size):\n",
        "    cumsum = np.cumsum(arr)\n",
        "    cumsum[window_size:] = cumsum[window_size:] - cumsum[:-window_size]\n",
        "    return cumsum[window_size - 1:] / window_size\n",
        "\n",
        "arr = np.array([1, 2, 3, 4, 5, 6, 7, 8, 9, 10])\n",
        "\n",
        "window_size = 3\n",
        "\n",
        "averages = sliding_window_average(arr, window_size)\n",
        "\n",
        "print(\"Original array:\", arr)\n",
        "print(\"Sliding window averages (window size =\", window_size, \"):\", averages)"
      ]
    },
    {
      "cell_type": "markdown",
      "id": "1ca35bda",
      "metadata": {
        "id": "1ca35bda"
      },
      "source": [
        "#### 76. Consider a one-dimensional array Z, build a two-dimensional array whose first row is (Z[0],Z[1],Z[2]) and each subsequent row is  shifted by 1 (last row should be (Z[-3],Z[-2],Z[-1]) (★★★)"
      ]
    },
    {
      "cell_type": "code",
      "execution_count": null,
      "id": "900e8b0a",
      "metadata": {
        "id": "900e8b0a"
      },
      "outputs": [],
      "source": []
    },
    {
      "cell_type": "markdown",
      "id": "18bd6fab",
      "metadata": {
        "id": "18bd6fab"
      },
      "source": [
        "#### 77. How to negate a boolean, or to change the sign of a float inplace? (★★★)"
      ]
    },
    {
      "cell_type": "code",
      "execution_count": null,
      "id": "554c5103",
      "metadata": {
        "id": "554c5103"
      },
      "outputs": [],
      "source": []
    },
    {
      "cell_type": "markdown",
      "id": "79a5b412",
      "metadata": {
        "id": "79a5b412"
      },
      "source": [
        "#### 78. Consider 2 sets of points P0,P1 describing lines (2d) and a point p, how to compute distance from p to each line i (P0[i],P1[i])? (★★★)"
      ]
    },
    {
      "cell_type": "code",
      "execution_count": null,
      "id": "4e4eac2f",
      "metadata": {
        "id": "4e4eac2f"
      },
      "outputs": [],
      "source": []
    },
    {
      "cell_type": "markdown",
      "id": "33ffa66d",
      "metadata": {
        "id": "33ffa66d"
      },
      "source": [
        "#### 79. Consider 2 sets of points P0,P1 describing lines (2d) and a set of points P, how to compute distance from each point j (P[j]) to each line i (P0[i],P1[i])? (★★★)"
      ]
    },
    {
      "cell_type": "code",
      "execution_count": null,
      "id": "b56c2510",
      "metadata": {
        "id": "b56c2510"
      },
      "outputs": [],
      "source": []
    },
    {
      "cell_type": "markdown",
      "id": "a0f23dfa",
      "metadata": {
        "id": "a0f23dfa"
      },
      "source": [
        "#### 80. Consider an arbitrary array, write a function that extract a subpart with a fixed shape and centered on a given element (pad with a `fill` value when necessary) (★★★)"
      ]
    },
    {
      "cell_type": "code",
      "execution_count": null,
      "id": "4b7b96fc",
      "metadata": {
        "id": "4b7b96fc"
      },
      "outputs": [],
      "source": []
    },
    {
      "cell_type": "markdown",
      "id": "cc27e944",
      "metadata": {
        "id": "cc27e944"
      },
      "source": [
        "#### 81. Consider an array Z = [1,2,3,4,5,6,7,8,9,10,11,12,13,14], how to generate an array R = [[1,2,3,4], [2,3,4,5], [3,4,5,6], ..., [11,12,13,14]]? (★★★)"
      ]
    },
    {
      "cell_type": "code",
      "execution_count": null,
      "id": "2fdaa26c",
      "metadata": {
        "id": "2fdaa26c"
      },
      "outputs": [],
      "source": []
    },
    {
      "cell_type": "markdown",
      "id": "9bc44d6e",
      "metadata": {
        "id": "9bc44d6e"
      },
      "source": [
        "#### 82. Compute a matrix rank (★★★)"
      ]
    },
    {
      "cell_type": "code",
      "execution_count": null,
      "id": "3a4c7564",
      "metadata": {
        "id": "3a4c7564"
      },
      "outputs": [],
      "source": []
    },
    {
      "cell_type": "markdown",
      "id": "718a82dd",
      "metadata": {
        "id": "718a82dd"
      },
      "source": [
        "#### 83. How to find the most frequent value in an array?"
      ]
    },
    {
      "cell_type": "code",
      "execution_count": null,
      "id": "8ffc513c",
      "metadata": {
        "id": "8ffc513c"
      },
      "outputs": [],
      "source": []
    },
    {
      "cell_type": "markdown",
      "id": "754ceeba",
      "metadata": {
        "id": "754ceeba"
      },
      "source": [
        "#### 84. Extract all the contiguous 3x3 blocks from a random 10x10 matrix (★★★)"
      ]
    },
    {
      "cell_type": "code",
      "execution_count": null,
      "id": "c32bb120",
      "metadata": {
        "id": "c32bb120"
      },
      "outputs": [],
      "source": []
    },
    {
      "cell_type": "markdown",
      "id": "9fc0b63a",
      "metadata": {
        "id": "9fc0b63a"
      },
      "source": [
        "#### 85. Create a 2D array subclass such that Z[i,j] == Z[j,i] (★★★)"
      ]
    },
    {
      "cell_type": "code",
      "execution_count": null,
      "id": "c41d0f9b",
      "metadata": {
        "id": "c41d0f9b"
      },
      "outputs": [],
      "source": []
    },
    {
      "cell_type": "markdown",
      "id": "ae909782",
      "metadata": {
        "id": "ae909782"
      },
      "source": [
        "#### 86. Consider a set of p matrices wich shape (n,n) and a set of p vectors with shape (n,1). How to compute the sum of of the p matrix products at once? (result has shape (n,1)) (★★★)"
      ]
    },
    {
      "cell_type": "code",
      "execution_count": null,
      "id": "013944b1",
      "metadata": {
        "id": "013944b1"
      },
      "outputs": [],
      "source": []
    },
    {
      "cell_type": "markdown",
      "id": "5f134bf4",
      "metadata": {
        "id": "5f134bf4"
      },
      "source": [
        "#### 87. Consider a 16x16 array, how to get the block-sum (block size is 4x4)? (★★★)"
      ]
    },
    {
      "cell_type": "code",
      "execution_count": null,
      "id": "bf480005",
      "metadata": {
        "id": "bf480005"
      },
      "outputs": [],
      "source": []
    },
    {
      "cell_type": "markdown",
      "id": "aa91a3be",
      "metadata": {
        "id": "aa91a3be"
      },
      "source": [
        "#### 88. How to implement the Game of Life using numpy arrays? (★★★)"
      ]
    },
    {
      "cell_type": "code",
      "execution_count": null,
      "id": "a20f0e2b",
      "metadata": {
        "id": "a20f0e2b"
      },
      "outputs": [],
      "source": []
    },
    {
      "cell_type": "markdown",
      "id": "885023d9",
      "metadata": {
        "id": "885023d9"
      },
      "source": [
        "#### 89. How to get the n largest values of an array (★★★)"
      ]
    },
    {
      "cell_type": "code",
      "execution_count": null,
      "id": "996ab585",
      "metadata": {
        "id": "996ab585"
      },
      "outputs": [],
      "source": []
    },
    {
      "cell_type": "markdown",
      "id": "d0518aeb",
      "metadata": {
        "id": "d0518aeb"
      },
      "source": [
        "#### 90. Given an arbitrary number of vectors, build the cartesian product (every combinations of every item) (★★★)"
      ]
    },
    {
      "cell_type": "code",
      "execution_count": null,
      "id": "d9ae30ca",
      "metadata": {
        "id": "d9ae30ca"
      },
      "outputs": [],
      "source": []
    },
    {
      "cell_type": "markdown",
      "id": "20cc5dc6",
      "metadata": {
        "id": "20cc5dc6"
      },
      "source": [
        "#### 91. How to create a record array from a regular array? (★★★)"
      ]
    },
    {
      "cell_type": "code",
      "execution_count": null,
      "id": "a7d05a34",
      "metadata": {
        "id": "a7d05a34"
      },
      "outputs": [],
      "source": []
    },
    {
      "cell_type": "markdown",
      "id": "e59a2c44",
      "metadata": {
        "id": "e59a2c44"
      },
      "source": [
        "#### 92. Consider a large vector Z, compute Z to the power of 3 using 3 different methods (★★★)"
      ]
    },
    {
      "cell_type": "code",
      "execution_count": null,
      "id": "916168ea",
      "metadata": {
        "id": "916168ea"
      },
      "outputs": [],
      "source": []
    },
    {
      "cell_type": "markdown",
      "id": "f1fc4b70",
      "metadata": {
        "id": "f1fc4b70"
      },
      "source": [
        "#### 93. Consider two arrays A and B of shape (8,3) and (2,2). How to find rows of A that contain elements of each row of B regardless of the order of the elements in B? (★★★)"
      ]
    },
    {
      "cell_type": "code",
      "execution_count": null,
      "id": "d35b4705",
      "metadata": {
        "id": "d35b4705"
      },
      "outputs": [],
      "source": []
    },
    {
      "cell_type": "markdown",
      "id": "821a6ce8",
      "metadata": {
        "id": "821a6ce8"
      },
      "source": [
        "#### 94. Considering a 10x3 matrix, extract rows with unequal values (e.g. [2,2,3]) (★★★)"
      ]
    },
    {
      "cell_type": "code",
      "execution_count": null,
      "id": "5690c131",
      "metadata": {
        "id": "5690c131"
      },
      "outputs": [],
      "source": []
    },
    {
      "cell_type": "markdown",
      "id": "9dc9a61c",
      "metadata": {
        "id": "9dc9a61c"
      },
      "source": [
        "#### 95. Convert a vector of ints into a matrix binary representation (★★★)"
      ]
    },
    {
      "cell_type": "code",
      "execution_count": null,
      "id": "c728306f",
      "metadata": {
        "id": "c728306f"
      },
      "outputs": [],
      "source": []
    },
    {
      "cell_type": "markdown",
      "id": "cca48e6e",
      "metadata": {
        "id": "cca48e6e"
      },
      "source": [
        "#### 96. Given a two dimensional array, how to extract unique rows? (★★★)"
      ]
    },
    {
      "cell_type": "code",
      "execution_count": null,
      "id": "ae2e6484",
      "metadata": {
        "id": "ae2e6484"
      },
      "outputs": [],
      "source": []
    },
    {
      "cell_type": "markdown",
      "id": "3621d474",
      "metadata": {
        "id": "3621d474"
      },
      "source": [
        "#### 97. Considering 2 vectors A & B, write the einsum equivalent of inner, outer, sum, and mul function (★★★)"
      ]
    },
    {
      "cell_type": "code",
      "execution_count": null,
      "id": "09238dfb",
      "metadata": {
        "id": "09238dfb"
      },
      "outputs": [],
      "source": []
    },
    {
      "cell_type": "markdown",
      "id": "26162fae",
      "metadata": {
        "id": "26162fae"
      },
      "source": [
        "#### 98. Considering a path described by two vectors (X,Y), how to sample it using equidistant samples (★★★)?"
      ]
    },
    {
      "cell_type": "code",
      "execution_count": null,
      "id": "283c279f",
      "metadata": {
        "id": "283c279f"
      },
      "outputs": [],
      "source": []
    },
    {
      "cell_type": "markdown",
      "id": "44b20c57",
      "metadata": {
        "id": "44b20c57"
      },
      "source": [
        "#### 99. Given an integer n and a 2D array X, select from X the rows which can be interpreted as draws from a multinomial distribution with n degrees, i.e., the rows which only contain integers and which sum to n. (★★★)"
      ]
    },
    {
      "cell_type": "code",
      "execution_count": null,
      "id": "389b7190",
      "metadata": {
        "id": "389b7190"
      },
      "outputs": [],
      "source": []
    },
    {
      "cell_type": "markdown",
      "id": "6fa5ed76",
      "metadata": {
        "id": "6fa5ed76"
      },
      "source": [
        "#### 100. Compute bootstrapped 95% confidence intervals for the mean of a 1D array X (i.e., resample the elements of an array with replacement N times, compute the mean of each sample, and then compute percentiles over the means). (★★★)"
      ]
    },
    {
      "cell_type": "code",
      "execution_count": null,
      "id": "4db4cc57",
      "metadata": {
        "id": "4db4cc57"
      },
      "outputs": [],
      "source": []
    }
  ],
  "metadata": {
    "colab": {
      "provenance": []
    },
    "language_info": {
      "name": "python"
    },
    "kernelspec": {
      "name": "python3",
      "display_name": "Python 3"
    }
  },
  "nbformat": 4,
  "nbformat_minor": 5
}