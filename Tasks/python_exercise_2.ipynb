{
  "cells": [
    {
      "cell_type": "markdown",
      "id": "759d04ba",
      "metadata": {
        "id": "759d04ba"
      },
      "source": [
        "**1-Write a Python program to count the occurrences of each word in a given sentence (Sample String:amr and ahmed are frindes but amr is the tallest Expected Result:2)"
      ]
    },
    {
      "cell_type": "code",
      "execution_count": null,
      "id": "e434c950",
      "metadata": {
        "id": "e434c950",
        "colab": {
          "base_uri": "https://localhost:8080/"
        },
        "outputId": "0becd990-6944-4da8-f1a6-179fbfee9349"
      },
      "outputs": [
        {
          "output_type": "stream",
          "name": "stdout",
          "text": [
            "'are' is repeated 1 times\n",
            "'is' is repeated 1 times\n",
            "'tallest' is repeated 1 times\n",
            "'and' is repeated 1 times\n",
            "'Amr' is repeated 2 times\n",
            "'but' is repeated 1 times\n",
            "'the' is repeated 1 times\n",
            "'Ahmed' is repeated 1 times\n",
            "'frindes' is repeated 1 times\n"
          ]
        }
      ],
      "source": [
        "sentence = \"Amr and Ahmed are frindes but Amr is the tallest\".split()\n",
        "non_repeated_sentence = set(sentence)\n",
        "\n",
        "for i in non_repeated_sentence :\n",
        "  counter = 0\n",
        "\n",
        "  for j in sentence :\n",
        "\n",
        "    if i == j :\n",
        "      counter = counter + 1\n",
        "\n",
        "  print(f\"'{i}' is repeated {counter} times\")"
      ]
    },
    {
      "cell_type": "markdown",
      "id": "d7cc9da7",
      "metadata": {
        "id": "d7cc9da7"
      },
      "source": [
        "**2-Write a Python program to check whether a string starts with specified characters"
      ]
    },
    {
      "cell_type": "code",
      "execution_count": null,
      "id": "dafa9dd8",
      "metadata": {
        "id": "dafa9dd8",
        "colab": {
          "base_uri": "https://localhost:8080/"
        },
        "outputId": "05f23f49-d4ea-4373-98aa-146264512b43"
      },
      "outputs": [
        {
          "output_type": "stream",
          "name": "stdout",
          "text": [
            "Enter any word : Ahmed\n",
            "Enput a letter that you want to check the start of word with : a\n",
            "Yes, it starts with a\n"
          ]
        }
      ],
      "source": [
        "word = input(\"Enter any word : \").lower()\n",
        "checked_letter = input(\"Enput a letter that you want to check the start of word with : \").lower()\n",
        "\n",
        "if checked_letter == word[0] :\n",
        "  print(f\"Yes, it starts with {checked_letter}\")\n",
        "\n",
        "else :\n",
        "  print(f\"No, it dose not start with {checked_letter}\")"
      ]
    },
    {
      "cell_type": "markdown",
      "id": "5afc3166",
      "metadata": {
        "id": "5afc3166"
      },
      "source": [
        " **3-Write a Python program to count repeated characters in a string (hint:use dictionary)"
      ]
    },
    {
      "cell_type": "code",
      "execution_count": null,
      "metadata": {
        "colab": {
          "base_uri": "https://localhost:8080/"
        },
        "id": "FafvxKQvr89h",
        "outputId": "d46c521a-705a-409c-9149-19260d7dee9b"
      },
      "outputs": [
        {
          "output_type": "stream",
          "name": "stdout",
          "text": [
            "Repeated characters: {'a': 3, 'm': 2, 'e': 4, 'd': 2, ' ': 2}\n"
          ]
        }
      ],
      "source": [
        "def count_repeated_characters(input_string):\n",
        "\n",
        "    char_count = {}\n",
        "\n",
        "    for char in input_string:\n",
        "\n",
        "        if char in char_count:\n",
        "            char_count[char] += 1\n",
        "\n",
        "        else:\n",
        "            char_count[char] = 1\n",
        "\n",
        "    repeated_characters = {char: count for char, count in char_count.items() if count > 1}\n",
        "\n",
        "    return repeated_characters\n",
        "\n",
        "input_string = \"ahmed waleed ebraim\"\n",
        "result = count_repeated_characters(input_string)\n",
        "print(\"Repeated characters:\", result)\n"
      ],
      "id": "FafvxKQvr89h"
    },
    {
      "cell_type": "markdown",
      "id": "ae14e4e5",
      "metadata": {
        "id": "ae14e4e5"
      },
      "source": [
        "**4-Write a Python program to find the first non-repeating character in a given string"
      ]
    },
    {
      "cell_type": "code",
      "execution_count": null,
      "id": "d73778e5",
      "metadata": {
        "id": "d73778e5",
        "colab": {
          "base_uri": "https://localhost:8080/"
        },
        "outputId": "db2a5b57-14e3-42bd-cb19-833e303687c0"
      },
      "outputs": [
        {
          "output_type": "stream",
          "name": "stdout",
          "text": [
            "Enter a string: aassddffgg\n",
            "There are no non-repeating characters in the given string.\n"
          ]
        }
      ],
      "source": [
        "def first_non_repeating_char(s):\n",
        "\n",
        "    char_freq = {}\n",
        "\n",
        "    for char in s:\n",
        "\n",
        "        if char in char_freq:\n",
        "            char_freq[char] += 1\n",
        "\n",
        "        else:\n",
        "            char_freq[char] = 1\n",
        "\n",
        "    for char in s:\n",
        "\n",
        "        if char_freq[char] == 1:\n",
        "            return char\n",
        "\n",
        "    return None\n",
        "\n",
        "input_string = input(\"Enter a string: \")\n",
        "result = first_non_repeating_char(input_string)\n",
        "\n",
        "if result:\n",
        "    print(\"The first non-repeating character is:\", result)\n",
        "\n",
        "else:\n",
        "    print(\"There are no non-repeating characters in the given string.\")\n"
      ]
    },
    {
      "cell_type": "markdown",
      "id": "3adf5669",
      "metadata": {
        "id": "3adf5669"
      },
      "source": [
        "**5-Write a Python program to remove spaces from a given string"
      ]
    },
    {
      "cell_type": "code",
      "execution_count": null,
      "id": "b4f22602",
      "metadata": {
        "id": "b4f22602",
        "colab": {
          "base_uri": "https://localhost:8080/",
          "height": 36
        },
        "outputId": "99eac66d-9a08-439f-9bb8-c905ca4ae452"
      },
      "outputs": [
        {
          "output_type": "execute_result",
          "data": {
            "text/plain": [
              "'AhmedWaleedEbrahimNasrEl-Daly'"
            ],
            "application/vnd.google.colaboratory.intrinsic+json": {
              "type": "string"
            }
          },
          "metadata": {},
          "execution_count": 2
        }
      ],
      "source": [
        "my_name = \"Ahmed Waleed Ebrahim Nasr El-Daly\"\n",
        "my_name.replace(\" \",\"\")"
      ]
    },
    {
      "cell_type": "markdown",
      "id": "734de60c",
      "metadata": {
        "id": "734de60c"
      },
      "source": [
        "**6-Write a Python program to count the number of non-empty substrings of a given string"
      ]
    },
    {
      "cell_type": "code",
      "execution_count": null,
      "id": "ef3f2274",
      "metadata": {
        "id": "ef3f2274",
        "colab": {
          "base_uri": "https://localhost:8080/"
        },
        "outputId": "6ba847b3-43e2-4240-b97a-ab661417db76"
      },
      "outputs": [
        {
          "output_type": "stream",
          "name": "stdout",
          "text": [
            "Number of non-empty substrings: 6\n"
          ]
        }
      ],
      "source": [
        "def count_non_empty_substrings(input_string):\n",
        "\n",
        "    count = 0\n",
        "\n",
        "    for i in range(len(input_string)):\n",
        "\n",
        "        for j in range(i, len(input_string)):\n",
        "\n",
        "            if input_string[i:j+1]:\n",
        "\n",
        "                count += 1\n",
        "\n",
        "    return count\n",
        "\n",
        "input_string = \"abc\"\n",
        "result = count_non_empty_substrings(input_string)\n",
        "print(\"Number of non-empty substrings:\", result)\n"
      ]
    },
    {
      "cell_type": "markdown",
      "id": "282337f7",
      "metadata": {
        "id": "282337f7"
      },
      "source": [
        "**7-Given list values and keys list, convert these values to key value pairs in form of list of dictionaries. (Input : test_list = [“Gfg”, 3, “is”, 8], key_list = [“name”, “id”]\n",
        "Output : [{‘name’: ‘Gfg’, ‘id’: 3}, {‘name’: ‘is’, ‘id’: 8}])"
      ]
    },
    {
      "cell_type": "code",
      "execution_count": null,
      "id": "4d4e2d28",
      "metadata": {
        "id": "4d4e2d28",
        "colab": {
          "base_uri": "https://localhost:8080/"
        },
        "outputId": "b57d1340-df6c-4f76-be6a-3b273a5fa8b2"
      },
      "outputs": [
        {
          "output_type": "stream",
          "name": "stdout",
          "text": [
            "Output: [{'name': 'Gfg'}, {'id': 3}]\n"
          ]
        }
      ],
      "source": [
        "def convert_to_key_value_pairs(values_list, keys_list):\n",
        "\n",
        "    result = []\n",
        "\n",
        "    for i in range(min(len(values_list), len(keys_list))):\n",
        "\n",
        "        temp_dict = {keys_list[i]: values_list[i]}\n",
        "\n",
        "        result.append(temp_dict)\n",
        "\n",
        "    return result\n",
        "\n",
        "test_list = [\"Gfg\", 3, \"is\", 8]\n",
        "key_list = [\"name\", \"id\"]\n",
        "output = convert_to_key_value_pairs(test_list, key_list)\n",
        "print(\"Output:\", output)\n"
      ]
    },
    {
      "cell_type": "markdown",
      "id": "25199af5",
      "metadata": {
        "id": "25199af5"
      },
      "source": [
        "**8-Remove all the occurrences of an element from a list in Python (Input : 1 1 2 3 4 5 1 2 1\n",
        "\n",
        "**Output : 2 3 4 5 2)"
      ]
    },
    {
      "cell_type": "code",
      "execution_count": null,
      "id": "6dc4c2ba",
      "metadata": {
        "id": "6dc4c2ba",
        "colab": {
          "base_uri": "https://localhost:8080/"
        },
        "outputId": "118da949-dd1f-40f7-88af-8101c331af6c"
      },
      "outputs": [
        {
          "output_type": "stream",
          "name": "stdout",
          "text": [
            "Output: [2, 3, 4, 5, 2]\n"
          ]
        }
      ],
      "source": [
        "input_list = [1, 1, 2, 3, 4, 5, 1, 2, 1]\n",
        "\n",
        "element_to_remove = 1\n",
        "\n",
        "output_list = [x for x in input_list if x != element_to_remove]\n",
        "\n",
        "print(\"Output:\", output_list)"
      ]
    },
    {
      "cell_type": "markdown",
      "id": "bf1a3c93",
      "metadata": {
        "id": "bf1a3c93"
      },
      "source": [
        "**9-write a python program to Replace index elements with elements in Other List (The original list 1 is : [‘Gfg’, ‘is’, ‘best’] The original list 2 is : [0, 1, 2, 1, 0, 0, 0, 2, 1, 1, 2, 0] The lists after index elements replacements is : [‘Gfg’, ‘is’, ‘best’, ‘is’, ‘Gfg’, ‘Gfg’, ‘Gfg’, ‘best’, ‘is’, ‘is’, ‘best’, ‘Gfg’])"
      ]
    },
    {
      "cell_type": "code",
      "execution_count": null,
      "id": "fdd66a71",
      "metadata": {
        "id": "fdd66a71",
        "colab": {
          "base_uri": "https://localhost:8080/"
        },
        "outputId": "1715e46b-a804-4b93-eba8-b2e414f1ab09"
      },
      "outputs": [
        {
          "output_type": "stream",
          "name": "stdout",
          "text": [
            "['Gfg', 'is', 'best', 'Gfg', 'is', 'best', 'Gfg', 'is', 'best', 'Gfg', 'is', 'best']\n"
          ]
        }
      ],
      "source": [
        "list1 = [\"Gfg\", \"is\", \"best\"]\n",
        "list2 = [0,1, 2, 1, 0, 0, 0, 2, 1, 1, 2, 0]\n",
        "\n",
        "i , j = 0 , 0\n",
        "\n",
        "while i != len(list2) :\n",
        "  list2[i] = list1[j]\n",
        "\n",
        "  j = j + 1\n",
        "  i = i + 1\n",
        "\n",
        "  if j == 3 :\n",
        "    j = 0\n",
        "\n",
        "print(list2)"
      ]
    },
    {
      "cell_type": "markdown",
      "id": "af0f56e8",
      "metadata": {
        "id": "af0f56e8"
      },
      "source": [
        "**10- write python program to Retain records with N occurrences of K(Input : test_list = [(4, 5, 5, 4), (5, 4, 3)], K = 5, N = 2\n",
        "Output : [(4, 5, 5, 4)]\n",
        "Input : test_list = [(4, 5, 5, 4), (5, 4, 3)], K = 5, N = 3\n",
        "Output : [] )"
      ]
    },
    {
      "cell_type": "code",
      "execution_count": null,
      "id": "67b06671",
      "metadata": {
        "id": "67b06671",
        "colab": {
          "base_uri": "https://localhost:8080/"
        },
        "outputId": "ec75053d-58cb-4b59-e594-30f1b283f491"
      },
      "outputs": [
        {
          "output_type": "stream",
          "name": "stdout",
          "text": [
            "Output 1: [(4, 5, 5, 4)]\n",
            "Output 2: []\n"
          ]
        }
      ],
      "source": [
        "def retain_records(test_list, K, N):\n",
        "\n",
        "    result = [tpl for tpl in test_list if tpl.count(K) == N]\n",
        "    return result\n",
        "\n",
        "test_list1 = [(4, 5, 5, 4), (5, 4, 3)]\n",
        "test_list2 = [(4, 5, 5, 4), (5, 4, 3)]\n",
        "K = 5\n",
        "N1 = 2\n",
        "N2 = 3\n",
        "\n",
        "output1 = retain_records(test_list1, K, N1)\n",
        "print(\"Output 1:\", output1)\n",
        "\n",
        "output2 = retain_records(test_list2, K, N2)\n",
        "print(\"Output 2:\", output2)"
      ]
    },
    {
      "cell_type": "markdown",
      "id": "de76f183",
      "metadata": {
        "id": "de76f183"
      },
      "source": [
        "**11-write a Python Program to Sort the list according to the column using lambda\n",
        "array = [[1, 3, 3], [2, 1, 2], [3, 2, 1]]\n",
        "Output :\n",
        "Sorted array specific to column 0, [[1, 3, 3], [2, 1, 2], [3, 2, 1]]\n",
        "Sorted array specific to column 1, [[2, 1, 2], [3, 2, 1], [1, 3, 3]]\n",
        "Sorted array specific to column 2, [[3, 2, 1], [2, 1, 2], [1, 3, 3]]"
      ]
    },
    {
      "cell_type": "code",
      "execution_count": null,
      "id": "dc883308",
      "metadata": {
        "id": "dc883308",
        "colab": {
          "base_uri": "https://localhost:8080/"
        },
        "outputId": "91373f19-3b19-41c0-e7cf-ea6ad2fc24dc"
      },
      "outputs": [
        {
          "output_type": "stream",
          "name": "stdout",
          "text": [
            "Sorted array specific to column 0 , [[1, 3, 3], [2, 1, 2], [3, 2, 1]]\n",
            "Sorted array specific to column 1 , [[2, 1, 2], [3, 2, 1], [1, 3, 3]]\n",
            "Sorted array specific to column 2 , [[3, 2, 1], [2, 1, 2], [1, 3, 3]]\n"
          ]
        }
      ],
      "source": [
        "array = [[1, 3, 3], [2, 1, 2], [3, 2, 1]]\n",
        "\n",
        "def sort_array_by_column(arr, column):\n",
        "    sorted_array = sorted(arr, key=lambda x: x[column])\n",
        "    return sorted_array\n",
        "\n",
        "columns = len(array[0])\n",
        "\n",
        "for col in range(columns):\n",
        "    sorted_array = sort_array_by_column(array, col)\n",
        "    print(\"Sorted array specific to column\", col, \",\", sorted_array)\n"
      ]
    },
    {
      "cell_type": "markdown",
      "source": [
        "**12- write a program to Sort Python Dictionaries by Key or Value\n",
        "Input:\n",
        "{'ravi': 10, 'rajnish': 9, 'sanjeev': 15, 'yash': 2, 'suraj': 32}\n",
        "\n",
        "Output:\n",
        "{'rajnish': 9, 'ravi': 10, 'sanjeev': 15, 'suraj': 32, 'yash': 2}"
      ],
      "metadata": {
        "id": "qMj9BuRQ8TGw"
      },
      "id": "qMj9BuRQ8TGw"
    },
    {
      "cell_type": "code",
      "execution_count": null,
      "id": "a96db4a0",
      "metadata": {
        "id": "a96db4a0",
        "colab": {
          "base_uri": "https://localhost:8080/"
        },
        "outputId": "814bf35c-eb51-43f6-a597-7aeac7b0375c"
      },
      "outputs": [
        {
          "output_type": "stream",
          "name": "stdout",
          "text": [
            "{'rajnish': 9, 'ravi': 10, 'sanjeev': 15, 'suraj': 32, 'yash': 2}\n"
          ]
        }
      ],
      "source": [
        "my_dict = {'ravi': 10, 'rajnish': 9, 'sanjeev': 15, 'yash': 2, 'suraj': 32}\n",
        "\n",
        "sorted_dict = dict(sorted(my_dict.items()))\n",
        "print(sorted_dict)"
      ]
    },
    {
      "cell_type": "markdown",
      "id": "ec63c23a",
      "metadata": {
        "id": "ec63c23a"
      },
      "source": [
        "**13-write python program to Remove keys with Values Greater than K ( Including mixed values )\n",
        "nput : test_dict = {‘Gfg’ : 3, ‘is’ : 7, ‘best’ : 10, ‘for’ : 6, ‘geeks’ : ‘CS’},\n",
        "K = 7\n",
        "Output : {‘Gfg’ : 3, ‘for’ : 6, ‘geeks’ : ‘CS’}"
      ]
    },
    {
      "cell_type": "code",
      "execution_count": null,
      "id": "e39c3a40",
      "metadata": {
        "id": "e39c3a40",
        "colab": {
          "base_uri": "https://localhost:8080/"
        },
        "outputId": "f3d2a84c-e31f-4dd5-a62e-5ea7d27dd73b"
      },
      "outputs": [
        {
          "output_type": "stream",
          "name": "stdout",
          "text": [
            "Output: {'Gfg': 3, 'for': 6, 'geeks': 'CS'}\n"
          ]
        }
      ],
      "source": [
        "def remove_keys_greater_than_K(test_dict, K):\n",
        "    result_dict = {key: value for key, value in test_dict.items() if not (isinstance(value, int) and value >= K)}\n",
        "    return result_dict\n",
        "\n",
        "test_dict = {'Gfg': 3, 'is': 7, 'best': 10, 'for': 6, 'geeks': 'CS'}\n",
        "K = 7\n",
        "\n",
        "output_dict = remove_keys_greater_than_K(test_dict, K)\n",
        "print(\"Output:\", output_dict)"
      ]
    },
    {
      "cell_type": "markdown",
      "id": "f143f0fe",
      "metadata": {
        "id": "f143f0fe"
      },
      "source": [
        "**14-Write a Python program to concatenate the following dictionaries to create a new one\n",
        "\n",
        "Sample Dictionary :\n",
        "dic1={1:10, 2:20}\n",
        "dic2={3:30, 4:40}\n",
        "dic3={5:50,6:60}\n",
        "Expected Result : {1: 10, 2: 20, 3: 30, 4: 40, 5: 50, 6: 60}"
      ]
    },
    {
      "cell_type": "code",
      "execution_count": 27,
      "id": "74ffdfea",
      "metadata": {
        "id": "74ffdfea",
        "colab": {
          "base_uri": "https://localhost:8080/"
        },
        "outputId": "fec3fdb8-bc19-47a9-c0f3-86766bd9a683"
      },
      "outputs": [
        {
          "output_type": "stream",
          "name": "stdout",
          "text": [
            "{1: 10, 2: 20, 3: 30, 4: 40, 5: 50, 6: 60}\n"
          ]
        }
      ],
      "source": [
        "dic1={1:10, 2:20}\n",
        "dic2={3:30, 4:40}\n",
        "dic3={5:50,6:60}\n",
        "\n",
        "my_dict = dic1\n",
        "my_dict.update(dic2)\n",
        "\n",
        "my_final_dict = my_dict\n",
        "my_final_dict.update(dic3)\n",
        "\n",
        "print(my_final_dict)"
      ]
    },
    {
      "cell_type": "markdown",
      "id": "fb04c93c",
      "metadata": {
        "id": "fb04c93c"
      },
      "source": [
        "**15-Write a Python program to iterate over dictionaries using for loops"
      ]
    },
    {
      "cell_type": "code",
      "source": [
        "test_dict = {'Gfg': 3, 'is': 7, 'best': 10, 'for': 6, 'geeks': 'CS'}\n",
        "\n",
        "for i in test_dict :\n",
        "  print(f\"{i} : {test_dict[i]}\")"
      ],
      "metadata": {
        "colab": {
          "base_uri": "https://localhost:8080/"
        },
        "id": "JhJtDNqA8kel",
        "outputId": "20e09f2a-91b3-477f-9e36-a60897e560bd"
      },
      "id": "JhJtDNqA8kel",
      "execution_count": null,
      "outputs": [
        {
          "output_type": "stream",
          "name": "stdout",
          "text": [
            "Gfg : 3\n",
            "is : 7\n",
            "best : 10\n",
            "for : 6\n",
            "geeks : CS\n"
          ]
        }
      ]
    },
    {
      "cell_type": "markdown",
      "id": "5f491a9d",
      "metadata": {
        "id": "5f491a9d"
      },
      "source": [
        "**16- Write a Python script to merge two Python dictionaries"
      ]
    },
    {
      "cell_type": "code",
      "execution_count": null,
      "id": "b8a14028",
      "metadata": {
        "id": "b8a14028",
        "colab": {
          "base_uri": "https://localhost:8080/"
        },
        "outputId": "94f974f5-084c-4cf1-cf2f-b8e7ebf1b4b0"
      },
      "outputs": [
        {
          "output_type": "stream",
          "name": "stdout",
          "text": [
            "{'Gfg': 3, 'is': 7, 'best': 10, 'for': 6, 'geeks': 'CS', 'Ahmed': 21, 'Waleed': 50}\n"
          ]
        }
      ],
      "source": [
        "test_dict1 = {'Gfg': 3, 'is': 7, 'best': 10, 'for': 6, 'geeks': 'CS'}\n",
        "test_dict2 = {\"Ahmed\" : 21 , \"Waleed\" : 50}\n",
        "\n",
        "my_dict = test_dict1\n",
        "my_dict.update(test_dict2)\n",
        "\n",
        "print(my_dict)"
      ]
    },
    {
      "cell_type": "markdown",
      "id": "216fc72d",
      "metadata": {
        "id": "216fc72d"
      },
      "source": [
        "**17-Write a Python program to get the maximum and minimum values of a dictionary values"
      ]
    },
    {
      "cell_type": "code",
      "execution_count": 1,
      "id": "d6883f5f",
      "metadata": {
        "id": "d6883f5f",
        "colab": {
          "base_uri": "https://localhost:8080/"
        },
        "outputId": "6025ec38-9aa5-43d1-ac82-668c93df090a"
      },
      "outputs": [
        {
          "output_type": "stream",
          "name": "stdout",
          "text": [
            "100\n",
            "3\n"
          ]
        }
      ],
      "source": [
        "test_dict1 = {'Gfg': 3, 'is': 7, 'best': 10, 'for': 6, 'geeks': 100}\n",
        "\n",
        "values = test_dict1.values()\n",
        "\n",
        "print(max(values))\n",
        "print(min(values))"
      ]
    },
    {
      "cell_type": "markdown",
      "id": "b6a53011",
      "metadata": {
        "id": "b6a53011"
      },
      "source": [
        "**18- Write a Python program to drop empty items from a given dictionary.\n",
        "Original Dictionary:\n",
        "{'c1': 'Red', 'c2': 'Green', 'c3': None}\n",
        "New Dictionary after dropping empty items:\n",
        "{'c1': 'Red', 'c2': 'Green'}"
      ]
    },
    {
      "cell_type": "code",
      "execution_count": 3,
      "id": "b5c6fecf",
      "metadata": {
        "id": "b5c6fecf",
        "colab": {
          "base_uri": "https://localhost:8080/"
        },
        "outputId": "6887d442-76af-4912-b9ca-deb19f97b043"
      },
      "outputs": [
        {
          "output_type": "stream",
          "name": "stdout",
          "text": [
            "{'c1': 'Red', 'c2': 'Green'}\n"
          ]
        }
      ],
      "source": [
        "original_dictionary ={'c1': 'Red', 'c2': 'Green', 'c3': None}\n",
        "\n",
        "for i in original_dictionary.copy():\n",
        "\n",
        "  if original_dictionary[i] == None :\n",
        "    original_dictionary.pop(i)\n",
        "\n",
        "print(original_dictionary)"
      ]
    },
    {
      "cell_type": "markdown",
      "id": "46d718c7",
      "metadata": {
        "id": "46d718c7"
      },
      "source": [
        "**19-Write a Python program to create a tuple of numbers and print one item"
      ]
    },
    {
      "cell_type": "code",
      "execution_count": 4,
      "id": "13216ff5",
      "metadata": {
        "id": "13216ff5",
        "colab": {
          "base_uri": "https://localhost:8080/"
        },
        "outputId": "968febf8-75f0-4154-f560-827df0811e02"
      },
      "outputs": [
        {
          "output_type": "stream",
          "name": "stdout",
          "text": [
            "1\n"
          ]
        }
      ],
      "source": [
        "my_tuple = (1,2,3,4,5,6)\n",
        "print(my_tuple[0])"
      ]
    },
    {
      "cell_type": "markdown",
      "id": "2be5b56b",
      "metadata": {
        "id": "2be5b56b"
      },
      "source": [
        "**20-Write a Python program to unpack a tuple into several variables"
      ]
    },
    {
      "cell_type": "code",
      "execution_count": null,
      "id": "595f44be",
      "metadata": {
        "id": "595f44be"
      },
      "outputs": [],
      "source": [
        "my_tuple = (1, 2, 3)\n",
        "\n",
        "x, y, z = my_tuple\n",
        "\n",
        "print(\"x:\", x)\n",
        "print(\"y:\", y)\n",
        "print(\"z:\", z)"
      ]
    },
    {
      "cell_type": "markdown",
      "id": "392388a7",
      "metadata": {
        "id": "392388a7"
      },
      "source": [
        "**21-Write a Python program to add an item to a tuple"
      ]
    },
    {
      "cell_type": "code",
      "execution_count": 8,
      "id": "54cc092e",
      "metadata": {
        "id": "54cc092e",
        "colab": {
          "base_uri": "https://localhost:8080/"
        },
        "outputId": "bcfbdbd5-f215-434e-bdb8-5332ddd4ef63"
      },
      "outputs": [
        {
          "output_type": "stream",
          "name": "stdout",
          "text": [
            "(1, 2, 3, 4)\n"
          ]
        }
      ],
      "source": [
        "my_tuple = (1, 2, 3)\n",
        "\n",
        "new_item = 4\n",
        "\n",
        "new_tuple = my_tuple + (new_item,)\n",
        "\n",
        "print(new_tuple)"
      ]
    },
    {
      "cell_type": "markdown",
      "id": "3e8fd124",
      "metadata": {
        "id": "3e8fd124"
      },
      "source": [
        "**22-Write a Python program to convert a tuple to a string"
      ]
    },
    {
      "cell_type": "code",
      "source": [
        "my_tuple = ('Ahmed', 'Waleed', 'El-Daly')\n",
        "\n",
        "result_string = ' '.join(my_tuple)\n",
        "\n",
        "print(\"Tuple converted to string :\", result_string)"
      ],
      "metadata": {
        "colab": {
          "base_uri": "https://localhost:8080/"
        },
        "id": "DF9l_IhMCczU",
        "outputId": "b2527f5f-1cce-448b-a777-7caf6157aa4f"
      },
      "id": "DF9l_IhMCczU",
      "execution_count": 10,
      "outputs": [
        {
          "output_type": "stream",
          "name": "stdout",
          "text": [
            "Tuple converted to string : Ahmed Waleed El-Daly\n"
          ]
        }
      ]
    },
    {
      "cell_type": "markdown",
      "id": "f4f64ef4",
      "metadata": {
        "id": "f4f64ef4"
      },
      "source": [
        "**23-Write a Python program to convert a list to a tuple"
      ]
    },
    {
      "cell_type": "code",
      "execution_count": 11,
      "id": "210d56d3",
      "metadata": {
        "id": "210d56d3",
        "colab": {
          "base_uri": "https://localhost:8080/"
        },
        "outputId": "8917ac58-74f6-4fe3-bff8-8c39cffb4c80"
      },
      "outputs": [
        {
          "output_type": "stream",
          "name": "stdout",
          "text": [
            "(1, 2, 3)\n"
          ]
        }
      ],
      "source": [
        "my_list = [1,2,3]\n",
        "my_tuple = ()\n",
        "\n",
        "for i in my_list :\n",
        "  my_tuple = my_tuple + (i,)\n",
        "\n",
        "print(my_tuple)"
      ]
    },
    {
      "cell_type": "code",
      "source": [
        "my_list = [1,2,3]\n",
        "print(tuple(my_list))"
      ],
      "metadata": {
        "colab": {
          "base_uri": "https://localhost:8080/"
        },
        "id": "6_6uKcilDDpA",
        "outputId": "5d4200e2-8709-4496-917c-73f07c6a640e"
      },
      "id": "6_6uKcilDDpA",
      "execution_count": 12,
      "outputs": [
        {
          "output_type": "stream",
          "name": "stdout",
          "text": [
            "(1, 2, 3)\n"
          ]
        }
      ]
    },
    {
      "cell_type": "markdown",
      "id": "b1e00ef7",
      "metadata": {
        "id": "b1e00ef7"
      },
      "source": [
        "**24-Write a Python program to reverse a tuple"
      ]
    },
    {
      "cell_type": "code",
      "execution_count": 15,
      "id": "f45bfdc7",
      "metadata": {
        "id": "f45bfdc7",
        "colab": {
          "base_uri": "https://localhost:8080/"
        },
        "outputId": "ed2ae3a3-1d00-4f68-d0b7-b2895137f926"
      },
      "outputs": [
        {
          "output_type": "stream",
          "name": "stdout",
          "text": [
            "('El-Daly', 'Waleed', 'Ahmed')\n"
          ]
        }
      ],
      "source": [
        "my_tuple = ('Ahmed', 'Waleed', 'El-Daly')\n",
        "\n",
        "print(my_tuple[-1::-1])"
      ]
    },
    {
      "cell_type": "markdown",
      "id": "3cd347d1",
      "metadata": {
        "id": "3cd347d1"
      },
      "source": [
        "**25-Write a Python program to replace the last value of tuples in a list.\n",
        "Sample list: [(10, 20, 40), (40, 50, 60), (70, 80, 90)]\n",
        "Expected Output: [(10, 20, 100), (40, 50, 100), (70, 80, 100)]"
      ]
    },
    {
      "cell_type": "code",
      "execution_count": 25,
      "id": "3c4a2a4c",
      "metadata": {
        "id": "3c4a2a4c",
        "colab": {
          "base_uri": "https://localhost:8080/"
        },
        "outputId": "84b5c145-6724-4ebb-a918-d52accc4395d"
      },
      "outputs": [
        {
          "output_type": "stream",
          "name": "stdout",
          "text": [
            "Modified list: [(10, 20, 100), (40, 50, 100), (70, 80, 100)]\n"
          ]
        }
      ],
      "source": [
        "my_list = [(10, 20, 40), (40, 50, 60), (70, 80, 90)]\n",
        "\n",
        "new_item = 100\n",
        "\n",
        "new_list = [(i[0], i[1], new_item) for i in my_list]\n",
        "\n",
        "print(\"Modified list:\", new_list)"
      ]
    },
    {
      "cell_type": "markdown",
      "id": "76bb7b39",
      "metadata": {
        "id": "76bb7b39"
      },
      "source": [
        "**26-Write a Python program to convert a given string list to a tuple\n",
        "Original string: python 3.0\n",
        "<class 'str'>\n",
        "Convert the said string to a tuple:\n",
        "('p', 'y', 't', 'h', 'o', 'n', '3', '.', '0')"
      ]
    },
    {
      "cell_type": "code",
      "execution_count": 28,
      "id": "51951937",
      "metadata": {
        "id": "51951937",
        "colab": {
          "base_uri": "https://localhost:8080/"
        },
        "outputId": "087971d1-376e-4f10-d8cc-012aa42bf3e2"
      },
      "outputs": [
        {
          "output_type": "stream",
          "name": "stdout",
          "text": [
            "('p', 'y', 't', 'h', 'o', 'n', ' ', '3', '.', '0')\n"
          ]
        }
      ],
      "source": [
        "x= 'python 3.0'\n",
        "print(tuple(x))"
      ]
    },
    {
      "cell_type": "markdown",
      "id": "5a1d5d97",
      "metadata": {
        "id": "5a1d5d97"
      },
      "source": [
        "**27-Write a Python program to calculate the average value of the numbers in a given tuple of tuples"
      ]
    },
    {
      "cell_type": "code",
      "execution_count": 32,
      "id": "834e7992",
      "metadata": {
        "id": "834e7992",
        "colab": {
          "base_uri": "https://localhost:8080/"
        },
        "outputId": "19d8f038-e70b-4ee9-b556-9cb396184d10"
      },
      "outputs": [
        {
          "output_type": "stream",
          "name": "stdout",
          "text": [
            "3.5\n"
          ]
        }
      ],
      "source": [
        "my_tuple = (1,2,3,4,5,6)\n",
        "\n",
        "average = sum(x for x in my_tuple) / len(my_tuple)\n",
        "\n",
        "print(average)"
      ]
    },
    {
      "cell_type": "markdown",
      "id": "51edab9c",
      "metadata": {
        "id": "51edab9c"
      },
      "source": [
        "**28-Write a Python program to add member(s) to a set."
      ]
    },
    {
      "cell_type": "code",
      "execution_count": 33,
      "id": "2b65df79",
      "metadata": {
        "id": "2b65df79",
        "colab": {
          "base_uri": "https://localhost:8080/"
        },
        "outputId": "a905a7f1-8529-4a4b-cde8-70b08059bd7a"
      },
      "outputs": [
        {
          "output_type": "stream",
          "name": "stdout",
          "text": [
            "{'s', 1, 2, 3, 4}\n"
          ]
        }
      ],
      "source": [
        "my_set = {1,2,3,4}\n",
        "my_set.add(\"s\")\n",
        "print(my_set)"
      ]
    },
    {
      "cell_type": "markdown",
      "id": "965590cc",
      "metadata": {
        "id": "965590cc"
      },
      "source": [
        "**29-Write a Python program to remove an item from a set if it is present in the set."
      ]
    },
    {
      "cell_type": "code",
      "execution_count": 34,
      "id": "866bab28",
      "metadata": {
        "id": "866bab28",
        "colab": {
          "base_uri": "https://localhost:8080/"
        },
        "outputId": "0258d92f-88c7-4f85-c5b1-6c05ff70f27d"
      },
      "outputs": [
        {
          "output_type": "stream",
          "name": "stdout",
          "text": [
            "{1, 2, 3, 4}\n"
          ]
        }
      ],
      "source": [
        "my_set.remove(\"s\")\n",
        "print(my_set)"
      ]
    },
    {
      "cell_type": "markdown",
      "id": "2b7cfed1",
      "metadata": {
        "id": "2b7cfed1"
      },
      "source": [
        "**30-Write a Python program to create an intersection,union,difference and symmetric difference of sets"
      ]
    },
    {
      "cell_type": "code",
      "execution_count": 39,
      "id": "7f94b7fe",
      "metadata": {
        "id": "7f94b7fe",
        "colab": {
          "base_uri": "https://localhost:8080/"
        },
        "outputId": "cf9d85af-f7ad-4f2b-d2dd-a0256952411a"
      },
      "outputs": [
        {
          "output_type": "stream",
          "name": "stdout",
          "text": [
            "{5, 6, 7}\n",
            "{1, 2, 3, 4}\n",
            "{5, 6, 7}\n",
            "{1, 2, 3, 4, 5, 6, 7}\n"
          ]
        }
      ],
      "source": [
        "my_set2 = {1,2,3,4,5,6,7}\n",
        "print(my_set2.difference(my_set))\n",
        "print(my_set2.intersection(my_set))\n",
        "print(my_set2.symmetric_difference(my_set))\n",
        "print(my_set2.union(my_set))"
      ]
    },
    {
      "cell_type": "markdown",
      "id": "b94931e2",
      "metadata": {
        "id": "b94931e2"
      },
      "source": [
        "**31-Write a Python program to find the maximum and minimum values in a set"
      ]
    },
    {
      "cell_type": "code",
      "execution_count": 41,
      "id": "203f9600",
      "metadata": {
        "id": "203f9600",
        "colab": {
          "base_uri": "https://localhost:8080/"
        },
        "outputId": "5b42aeb8-09bd-4964-83e0-e0995801550e"
      },
      "outputs": [
        {
          "output_type": "stream",
          "name": "stdout",
          "text": [
            "7\n",
            "1\n"
          ]
        }
      ],
      "source": [
        "print(max(my_set2))\n",
        "print(min(my_set2))"
      ]
    }
  ],
  "metadata": {
    "kernelspec": {
      "display_name": "Python 3 (ipykernel)",
      "language": "python",
      "name": "python3"
    },
    "language_info": {
      "codemirror_mode": {
        "name": "ipython",
        "version": 3
      },
      "file_extension": ".py",
      "mimetype": "text/x-python",
      "name": "python",
      "nbconvert_exporter": "python",
      "pygments_lexer": "ipython3",
      "version": "3.9.7"
    },
    "colab": {
      "provenance": []
    }
  },
  "nbformat": 4,
  "nbformat_minor": 5
}